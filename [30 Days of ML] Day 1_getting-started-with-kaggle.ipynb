{
 "cells": [
  {
   "cell_type": "markdown",
   "metadata": {
    "papermill": {
     "duration": 0.005664,
     "end_time": "2021-08-05T13:03:45.273010",
     "exception": false,
     "start_time": "2021-08-05T13:03:45.267346",
     "status": "completed"
    },
    "tags": []
   },
   "source": [
    "# Welcome to Kaggle!\n",
    "\n",
    "일단 Kaggle 계정을 만들고 나면 공식적으로 \"Kaggler\"가 되고 7백만 명 이상의 사용자가 있는 커뮤니티에 가입하게 됩니다!\n",
    "\n",
    "> _아직 Kaggle 계정을 만들지 않았다면 몇 분밖에 걸리지 않습니다. Click **[here](https://www.kaggle.com/account/login?phase=startRegisterTab&returnUrl=%2F)**._\n",
    "\n",
    "그래서 당신은 무엇을 먼저 해야 하나요? 이 노트북은 데이터 과학자로서의 성장을 측정하는 데 사용할 수 있는 Kaggle의 진행 시스템을 소개합니다. \"Novice\"에서 \"Contributor\"로 레벨업할 수 있을 뿐만 아니라 Kaggle 대회에 처음으로 제출할 수 있습니다(_프로그래밍 경험은 필요 없음!_).\n",
    "\n",
    "여기의 모든 단계를 따르면 약 **35분**이 소요될 것으로 예상됩니다."
   ]
  },
  {
   "cell_type": "markdown",
   "metadata": {
    "papermill": {
     "duration": 0.004057,
     "end_time": "2021-08-05T13:03:45.281974",
     "exception": false,
     "start_time": "2021-08-05T13:03:45.277917",
     "status": "completed"
    },
    "tags": []
   },
   "source": [
    "# Step 1: Your Kaggle profile [2 minutes]\n",
    "\n",
    "[kaggle.com/me](https://www.kaggle.com/me) 을 방문하여 Kaggle 프로필로 이동하십시오. Kaggle에서 아직 많은 것을 하지 않았다면, 페이지는 아래 스크린샷과 비슷하게 보일 것입니다.\n",
    "\n",
    "<img src=\"https://i.imgur.com/43ho0EG.png\" width=\"100%\"/>\n",
    "\n",
    "**Competitions Novice**, **Datasets Novice**, **Notebooks Novice**, **Discussion Novice** 라는 네 개의 상자가 표시됩니다. 각 상자는 Kaggle에서 수행할 수 있는 다른 유형의 활동들에 대하여 매핑됩니다.:\n",
    "- [**competitions**](https://www.kaggle.com/competitions)를 통해 [Santander](https://www.kaggle.com/c/santander-customer-transaction-prediction) 및 [Zillow](https://www.kaggle.com/c/zillow-prize-1)와 같은 기업에서 제기하는 데이터 과학 문제에 대한 해결책을 제출할 수 있습니다. 또한 다른 캐글러와 협업할 수 있으며, 최고 솔루션에는 거액의 상금이 수여됩니다.\n",
    "\n",
    "- Kaggle에는 데이터 과학 프로젝트에서 사용할 수 있는 많은 [**datasets**](https://www.kaggle.com/datasets) 들이 있습니다. 또한 사용자 자신의 데이터 세트를 업로드하여 커뮤니티에 기여할 수도 있습니다.\n",
    "\n",
    "- [**Notebooks**](https://www.kaggle.com/code) 은 데이터 과학 커뮤니티와 프로젝트를 공유할 수 있는 공간입니다.\n",
    "\n",
    "- 질문을 하거나 다른 캐글러에게 답변을 공유하여 [**discussion**](https://www.kaggle.com/discussion) 에 기여할 수 있습니다.\n",
    "\n",
    "이러한 활동에 참여함으로써 당신은 다른 Kagglers로부터 인정을 받고 메달을 수여받을 수 있습니다. 이 메달들은 당신의 프로필에 기록될 것이고, 당신은 이것을 캐글의 데이터 과학자로서 당신의 성장을 추적하는 데 사용할 수 있습니다."
   ]
  },
  {
   "cell_type": "markdown",
   "metadata": {
    "papermill": {
     "duration": 0.003908,
     "end_time": "2021-08-05T13:03:45.290151",
     "exception": false,
     "start_time": "2021-08-05T13:03:45.286243",
     "status": "completed"
    },
    "tags": []
   },
   "source": [
    "# Step 2: Kaggle progression [5 minutes]\n",
    "\n",
    "Kaggle에는 **Novice**, **Contributor**, **Expert**, **Master**, and **Grandmaster** 의 5가지 등급이 있습니다.  \n",
    "\n",
    "좋은 소식은 **Novice** 에서 **Contributor** 로 레벨업하는 것이 빠르고 쉽다는 것입니다. 빠른시간 안에 Contributor로 레벨업 해봅시다!\n",
    "\n",
    "<img src=\"https://i.imgur.com/qivAote.png\" width=\"70%\"/>\n",
    "\n",
    "레벨업을 하기 위해 해야 할 일의 목록이 아래 이미지에 나와 있습니다.\n",
    "\n",
    "<img src=\"https://i.imgur.com/ONYGsWU.png\" width=\"95%\"/>\n",
    "\n",
    "진행 시스템을 계속 업그레이드하려면 (**Expert**, **Grandmaster**) 프로필 페이지의 **Unranked** 을 클릭하여 이 정보에 액세스할 수 있습니다. [kaggle.com/progression](https://www.kaggle.com/progression) 으로 이동합니다. 원하시면 지금 이 페이지를 읽어보셔도 됩니다. 나중에 이 정보를 검토하려면 다음 섹션으로 안전하게 건너뛸 수 있습니다."
   ]
  },
  {
   "cell_type": "markdown",
   "metadata": {
    "papermill": {
     "duration": 0.003943,
     "end_time": "2021-08-05T13:03:45.298222",
     "exception": false,
     "start_time": "2021-08-05T13:03:45.294279",
     "status": "completed"
    },
    "tags": []
   },
   "source": [
    "# Step 3: Submit to Titanic [20 minutes]\n",
    "\n",
    "먼저 노트북을 실행하고 대회 제출(목록의 처음 두 항목)을 합니다. 이 작업을 수행하려면 [this notebook](https://www.kaggle.com/alexisbcook/titanic-tutorial) 의 지침을 따르십시오.\n",
    "\n",
    "노트북은 프로그래밍 배경을 가정하지 않으므로 데이터 과학을 완전히 처음 접하는 경우에도 이 작업을 완료할 수 있습니다."
   ]
  },
  {
   "cell_type": "markdown",
   "metadata": {
    "papermill": {
     "duration": 0.003849,
     "end_time": "2021-08-05T13:03:45.306160",
     "exception": false,
     "start_time": "2021-08-05T13:03:45.302311",
     "status": "completed"
    },
    "tags": []
   },
   "source": [
    "# Step 4: Make a comment [7 minutes]\n",
    "\n",
    "이제 comment를 하나 쓸 차례입니다. 시작하려면 [clicking here](https://www.kaggle.com/c/titanic/discussion) 을 통해 Titanic 대회에 대한 토론 포럼으로 이동하십시오. 다른 사용자가 이미 게시한 주석 목록을 보려면 관심 항목을 찾은 후 해당 항목을 클릭합니다.\n",
    "\n",
    "자신의 의견을 제시하려고 하면 먼저 SMS로 계정을 확인하라는 메시지가 표시됩니다. Kaggle의 무료 GPU 및 TPU 시간과 같은 Kaggle의 몇 가지 유용한 기능에 액세스하려면 SMS 확인이 필요합니다. 이것은 [deep learning](https://www.kaggle.com/learn/intro-to-deep-learning) 이나 [computer vision](https://www.kaggle.com/learn/computer-vision)을 학습할 때 유용할 것입니다. 또한 상금을 수여하는 대회에 참가할 수 있습니다!\n",
    "\n",
    "SMS 확인 프로세스는 휴대폰 번호를 제출하기 위한 양식으로 이동합니다. 페이지를 읽은 후 계속 진행하려면 양식을 작성하십시오. 그러면 인증 코드가 문자 메시지로 귀하의 번호로 전송됩니다. 코드를 성공적으로 제출하면 완료되며 이제 Kaggle에 대한 코멘트가 가능합니다.\n",
    "\n",
    "# Step 5: Give an upvote [1 minute]\n",
    "\n",
    "다음은 1 upvote 입니다. 이를 위해 다른 사용자가 올린 comment를 확인하십시오. 특히 유용하거나 통찰력 있는 것으로 보이는 게시글을 선택한 후 코멘트 오른쪽에 있는 스티커를 클릭하여 찬성표를 던집니다.\n",
    "\n",
    "<img src=\"https://i.imgur.com/rpXV4TG.png\" width=\"95%\"/>\n",
    "\n",
    "그게 다예요! 이제 Contributor가 되어 프로필 페이지에 반영되어야 합니다.\n",
    "\n",
    "<img src=\"https://i.imgur.com/yW9db8p.png\" width=\"95%\"/>\n",
    "\n",
    "Kaggle의 첫발을 내디딘 것을 축하드립니다!\n",
    "\n",
    "# Not yet a Contributor?\n",
    "\n",
    "이 노트북의 모든 지침을 성공적으로 완료하면 Kaggle Contributor가 됩니다. 프로필에 아직 이 정보가 반영되지 않은 경우 [viscion page](https://www.kaggle.com/progression))로 돌아가 누락된 항목을 확인할 수 있습니다.\n",
    "\n",
    "<img src=\"https://i.imgur.com/cBFmcZV.png\" width=\"95%\"/>"
   ]
  },
  {
   "cell_type": "markdown",
   "metadata": {
    "papermill": {
     "duration": 0.003914,
     "end_time": "2021-08-05T13:03:45.314179",
     "exception": false,
     "start_time": "2021-08-05T13:03:45.310265",
     "status": "completed"
    },
    "tags": []
   },
   "source": [
    "# Have questions?\n",
    "\n",
    "Kaggle의 진행 시스템에 대해 궁금한 사항이 있으면 [Getting Started forum](https://www.kaggle.com/getting-started) 에 게시하여 커뮤니티에 문의하여 도움을 받을 수 있습니다. 이렇게 하려면 페이지 오른쪽 상단에 있는 [**+New Topic**] 을 클릭하십시오.\n",
    "\n",
    "<img src=\"https://i.imgur.com/aySR9Zt.png\" width=\"95%\"/>\n",
    "\n",
    "# What's next?\n",
    "\n",
    "30일간의 ML 프로그램에 참여하고 첫날 이 노트북에 액세스하는 경우, 오늘의 작업은 종료됩니다! 내일 당신은 다음 임무와 함께 이메일을 받게 될 것입니다.\n",
    "\n",
    "30일간의 ML 프로그램에 가입하지 않고 다음에 무엇을 해야 할지 궁금하다면 Kaggle은 데이터 과학자로서 계속 발전해나가기 때문에 제공할 것이 많습니다.\n",
    "- 데이터 과학을 배우고 있다면 [**Kaggle Learn**](https://www.kaggle.com/learn))에서 초보자 친화적인 과정을 배우시기 바랍니다. 강좌는 무료이며 몇 시간밖에 소요되지 않습니다.에 진행되지 않습니다. 각 과정에는 데이터를 분석하기 위한 코드를 작성하는 실습 프로그래밍이 있습니다.\n",
    "- 배운 내용을 실제 문제에 적용하고 다른 Kagglers와 함께 새로운 기술을 배우려면 [**Kaggle Competitions**](https://www.kaggle.com/competitions))을 참조하십시오.\n",
    "- 데이터 과학 포트폴리오를 구축할 준비가 되면 [**Kaggle Datasets**](https://www.kaggle.com/datasets)을 사용하여 영감을 얻고 [**Kaggle Notebooks**](https://www.kaggle.com/notebooks))을 사용하여 코드를 실행하고 커뮤니티와 작업을 공유할 수 있습니다."
   ]
  }
 ],
 "metadata": {
  "hide_input": false,
  "kernelspec": {
   "display_name": "Python 3",
   "language": "python",
   "name": "python3"
  },
  "language_info": {
   "codemirror_mode": {
    "name": "ipython",
    "version": 3
   },
   "file_extension": ".py",
   "mimetype": "text/x-python",
   "name": "python",
   "nbconvert_exporter": "python",
   "pygments_lexer": "ipython3",
   "version": "3.7.6"
  },
  "papermill": {
   "default_parameters": {},
   "duration": 9.865354,
   "end_time": "2021-08-05T13:03:46.231536",
   "environment_variables": {},
   "exception": null,
   "input_path": "__notebook__.ipynb",
   "output_path": "__notebook__.ipynb",
   "parameters": {},
   "start_time": "2021-08-05T13:03:36.366182",
   "version": "2.3.3"
  },
  "toc": {
   "base_numbering": 1,
   "nav_menu": {},
   "number_sections": true,
   "sideBar": true,
   "skip_h1_title": false,
   "title_cell": "Table of Contents",
   "title_sidebar": "Contents",
   "toc_cell": false,
   "toc_position": {},
   "toc_section_display": true,
   "toc_window_display": false
  },
  "varInspector": {
   "cols": {
    "lenName": 16,
    "lenType": 16,
    "lenVar": 40
   },
   "kernels_config": {
    "python": {
     "delete_cmd_postfix": "",
     "delete_cmd_prefix": "del ",
     "library": "var_list.py",
     "varRefreshCmd": "print(var_dic_list())"
    },
    "r": {
     "delete_cmd_postfix": ") ",
     "delete_cmd_prefix": "rm(",
     "library": "var_list.r",
     "varRefreshCmd": "cat(var_dic_list()) "
    }
   },
   "types_to_exclude": [
    "module",
    "function",
    "builtin_function_or_method",
    "instance",
    "_Feature"
   ],
   "window_display": false
  }
 },
 "nbformat": 4,
 "nbformat_minor": 5
}
