{
 "cells": [
  {
   "cell_type": "markdown",
   "metadata": {
    "papermill": {
     "duration": 0.01787,
     "end_time": "2021-06-04T13:06:57.197508",
     "exception": false,
     "start_time": "2021-06-04T13:06:57.179638",
     "status": "completed"
    },
    "tags": []
   },
   "source": [
    "이 과정에서는 데이터 과학에 Python을 사용할 수 있도록 필요한 주요 Python 스킬에 대해 설명합니다.\n",
    "\n",
    "먼저 Python 구문, 변수 할당 및 산술 연산자에 대한 간략한 개요부터 살펴보겠습니다. 이전 Python 경험이 있는 경우 [skip straight to the hands-on exercise](https://www.kaggle.com/kernels/fork/1275163) 본 과정으로 skip 할 수 있습니다."
   ]
  },
  {
   "cell_type": "markdown",
   "metadata": {
    "papermill": {
     "duration": 0.016372,
     "end_time": "2021-06-04T13:06:57.231829",
     "exception": false,
     "start_time": "2021-06-04T13:06:57.215457",
     "status": "completed"
    },
    "tags": []
   },
   "source": [
    "# Hello, Python!\n",
    "\n",
    "Python은 영국 코미디 극단 [Monty Python](https://en.wikipedia.org/wiki/Monty_Python) 의 이름을 따서 명명되었습니다. 그래서 우리는 첫 Python 프로그램을 스팸에 대한 그들의 풍자에 경의를 표합니다.\n",
    "\n",
    "그냥 재미로 아래 코드를 읽어보고 실행 시 어떤 결과가 나올지 예측해 보십시오. (모르더라도 상관없습니다!)\n",
    "\n",
    "그런 다음 \"출력\" 버튼을 클릭하여 프로그램 결과를 확인하십시오."
   ]
  },
  {
   "cell_type": "code",
   "execution_count": 1,
   "metadata": {
    "_kg_hide-output": true,
    "execution": {
     "iopub.execute_input": "2021-06-04T13:06:57.271529Z",
     "iopub.status.busy": "2021-06-04T13:06:57.270482Z",
     "iopub.status.idle": "2021-06-04T13:06:57.275578Z",
     "shell.execute_reply": "2021-06-04T13:06:57.275001Z"
    },
    "papermill": {
     "duration": 0.027367,
     "end_time": "2021-06-04T13:06:57.275722",
     "exception": false,
     "start_time": "2021-06-04T13:06:57.248355",
     "status": "completed"
    },
    "tags": []
   },
   "outputs": [
    {
     "name": "stdout",
     "output_type": "stream",
     "text": [
      "0\n",
      "But I don't want ANY spam!\n",
      "Spam Spam Spam Spam \n"
     ]
    }
   ],
   "source": [
    "spam_amount = 0\n",
    "print(spam_amount)\n",
    "\n",
    "# Ordering Spam, egg, Spam, Spam, bacon and Spam (4 more servings of Spam)\n",
    "spam_amount = spam_amount + 4\n",
    "\n",
    "if spam_amount > 0:\n",
    "    print(\"But I don't want ANY spam!\")\n",
    "\n",
    "viking_song = \"Spam \" * spam_amount\n",
    "print(viking_song)"
   ]
  },
  {
   "cell_type": "markdown",
   "metadata": {
    "papermill": {
     "duration": 0.016773,
     "end_time": "2021-06-04T13:06:57.311689",
     "exception": false,
     "start_time": "2021-06-04T13:06:57.294916",
     "status": "completed"
    },
    "tags": []
   },
   "source": [
    "여기 정리할 게 많아요! 이 바보 같은 프로그램은 Python 코드의 모양과 작동 방식에 대한 많은 중요한 측면을 보여줍니다. 코드를 위에서 아래로 검토해 보겠습니다."
   ]
  },
  {
   "cell_type": "code",
   "execution_count": 2,
   "metadata": {
    "collapsed": true,
    "execution": {
     "iopub.execute_input": "2021-06-04T13:06:57.350775Z",
     "iopub.status.busy": "2021-06-04T13:06:57.350226Z",
     "iopub.status.idle": "2021-06-04T13:06:57.353613Z",
     "shell.execute_reply": "2021-06-04T13:06:57.353058Z"
    },
    "papermill": {
     "duration": 0.025,
     "end_time": "2021-06-04T13:06:57.353752",
     "exception": false,
     "start_time": "2021-06-04T13:06:57.328752",
     "status": "completed"
    },
    "tags": []
   },
   "outputs": [],
   "source": [
    "spam_amount = 0"
   ]
  },
  {
   "cell_type": "markdown",
   "metadata": {
    "papermill": {
     "duration": 0.016643,
     "end_time": "2021-06-04T13:06:57.387706",
     "exception": false,
     "start_time": "2021-06-04T13:06:57.371063",
     "status": "completed"
    },
    "tags": []
   },
   "source": [
    "**Variable assignment:** 여기서는 `spam_amount` 라는 변수를 만들고 할당 연산자라고 하는 `=` 을 사용하여 0 값을 할당합니다.\n",
    "\n",
    "> **Aside**: Java 또는 C++와 같은 특정 다른 언어로 프로그래밍했다면 Python이 *필요하지 않은* 몇 가지 사항을 확인할 수 있습니다.:  \n",
    "\n",
    "- 할당하기 전에 `spam_mount`를 \"수정\"할 필요가 없습니다.\n",
    "- Python에게 `spam_amount`가 어떤 종류의 값을 나타낼지 알려줄 필요가 없습니다. 실제로 문자열이나 부울과 같은 다른 종류의 것을 지칭하기 위해 'spam_amount'를 재할당할 수도 있습니다."
   ]
  },
  {
   "cell_type": "code",
   "execution_count": 3,
   "metadata": {
    "_kg_hide-output": false,
    "collapsed": true,
    "execution": {
     "iopub.execute_input": "2021-06-04T13:06:57.426718Z",
     "iopub.status.busy": "2021-06-04T13:06:57.426101Z",
     "iopub.status.idle": "2021-06-04T13:06:57.429519Z",
     "shell.execute_reply": "2021-06-04T13:06:57.429038Z"
    },
    "papermill": {
     "duration": 0.024896,
     "end_time": "2021-06-04T13:06:57.429651",
     "exception": false,
     "start_time": "2021-06-04T13:06:57.404755",
     "status": "completed"
    },
    "tags": []
   },
   "outputs": [
    {
     "name": "stdout",
     "output_type": "stream",
     "text": [
      "0\n"
     ]
    }
   ],
   "source": [
    "print(spam_amount)"
   ]
  },
  {
   "cell_type": "markdown",
   "metadata": {
    "papermill": {
     "duration": 0.017615,
     "end_time": "2021-06-04T13:06:57.465299",
     "exception": false,
     "start_time": "2021-06-04T13:06:57.447684",
     "status": "completed"
    },
    "tags": []
   },
   "source": [
    "**Function calls:**. `print` 는 전달된 값을 화면에 표시하는 Python 함수입니다. 우리는 함수의 이름 뒤에 괄호를 붙이고 그 괄호 안에 있는 함수에 inputs (또는 *arguments*)을 넣어 함수를 호출합니다."
   ]
  },
  {
   "cell_type": "code",
   "execution_count": 4,
   "metadata": {
    "_kg_hide-output": false,
    "collapsed": true,
    "execution": {
     "iopub.execute_input": "2021-06-04T13:06:57.505876Z",
     "iopub.status.busy": "2021-06-04T13:06:57.505264Z",
     "iopub.status.idle": "2021-06-04T13:06:57.508025Z",
     "shell.execute_reply": "2021-06-04T13:06:57.507452Z"
    },
    "papermill": {
     "duration": 0.024767,
     "end_time": "2021-06-04T13:06:57.508159",
     "exception": false,
     "start_time": "2021-06-04T13:06:57.483392",
     "status": "completed"
    },
    "tags": []
   },
   "outputs": [],
   "source": [
    "# Ordering Spam, egg, Spam, Spam, bacon and Spam (4 more servings of Spam)\n",
    "spam_amount = spam_amount + 4"
   ]
  },
  {
   "cell_type": "markdown",
   "metadata": {
    "papermill": {
     "duration": 0.018098,
     "end_time": "2021-06-04T13:06:57.544190",
     "exception": false,
     "start_time": "2021-06-04T13:06:57.526092",
     "status": "completed"
    },
    "tags": []
   },
   "source": [
    "위의 첫 줄은 **comment**입니다. Python에서 주석은 `#` 기호로 시작합니다.\n",
    "\n",
    "다음으로 재할당의 예시를 볼 수 있습니다. 기존 변수의 값을 다시 할당하는 것은 변수를 만드는 것과 같아 보이지만 여전히 `=` 할당 연산자를 사용합니다.\n",
    "\n",
    "이 경우 `spam_mount`에 할당하는 값은 이전 값에서 간단한 식을 추가합니다. 이 줄이 나타나면 Python은 `=`(0 + 4 = 4)의 오른쪽에 있는 식을 평가한 다음 왼쪽에 있는 변수에 해당 값을 할당합니다."
   ]
  },
  {
   "cell_type": "code",
   "execution_count": 5,
   "metadata": {
    "_kg_hide-output": false,
    "execution": {
     "iopub.execute_input": "2021-06-04T13:06:57.582610Z",
     "iopub.status.busy": "2021-06-04T13:06:57.582020Z",
     "iopub.status.idle": "2021-06-04T13:06:57.587226Z",
     "shell.execute_reply": "2021-06-04T13:06:57.587622Z"
    },
    "papermill": {
     "duration": 0.025914,
     "end_time": "2021-06-04T13:06:57.587796",
     "exception": false,
     "start_time": "2021-06-04T13:06:57.561882",
     "status": "completed"
    },
    "tags": []
   },
   "outputs": [
    {
     "name": "stdout",
     "output_type": "stream",
     "text": [
      "But I don't want ANY spam!\n",
      "Spam Spam Spam\n"
     ]
    }
   ],
   "source": [
    "if spam_amount > 0:\n",
    "    print(\"But I don't want ANY spam!\")\n",
    "\n",
    "viking_song = \"Spam Spam Spam\"\n",
    "print(viking_song)"
   ]
  },
  {
   "cell_type": "markdown",
   "metadata": {
    "papermill": {
     "duration": 0.018051,
     "end_time": "2021-06-04T13:06:57.623736",
     "exception": false,
     "start_time": "2021-06-04T13:06:57.605685",
     "status": "completed"
    },
    "tags": []
   },
   "source": [
    "우리는 나중에야 \"conditionals\" 에 대해 많이 이야기하지 않지만, 코드화를 해본 적이 없더라도 이 기능이 무엇인지 짐작할 수 있을 것입니다. Python은 가독성과 단순성으로 인해 높은 평가를 받고 있습니다.\n",
    "\n",
    "어떤 코드가 `if` 에 속하는지 표시해 두십시오. `\"But I don't want ANY spam!\"` 는`spam_amount` 이 양수인 경우에만 인쇄되도록 되어 있습니다. 그러나 이후 코드 (`print(viking_song)`) 는 반드시 실행되어야 합니다. Python이 그걸 어떻게 알죠?\n",
    "\n",
    "\n",
    "`if` 행 끝에 있는 콜론 (`:`)은 새 **code block** 이 시작 중임을 나타냅니다. 후속 줄이 들여쓰여지는 것은 해당 코드 블록에 일부임을 표시해줍니다.\n",
    "> **Aside**: 이전에 코딩한 적이 있는 경우 일부 다른 언어에서 코드 블록의 시작과 끝을 표시하기 위해 `{`curly braces`}`를 사용하는 것을 알 수 있습니다. Python의 의미 있는 공백 사용은 다른 언어에 익숙한 프로그래머에게 혼란스러울 수 있지만, 실제로는 코드 블록의 들여쓰기를 강제하지 않는 언어보다 더 일관되고 읽기 쉬운 코드로 이어질 수 있습니다.\n",
    "\n",
    "`viking_song`을 다루는 뒷줄은 4칸을 추가로 들여쓰지 않으므로 `if` 코드 블록의 일부가 아닙니다. 나중에 함수를 정의하고 루프를 사용할 때 들여쓰기 코드 블록의 예를 더 볼 수 있습니다.\n",
    "\n",
    "또한 이 코드 Python에서 **string**을 처음 보는 것입니다.\n",
    "\n",
    "```python\n",
    "\"But I don't want ANY spam!\"\n",
    "```\n",
    "\n",
    "문자열은 큰따옴표 또는 작은따옴표로 표시할 수 있습니다. (그러나 이 문자열 *에는 작은따옴표 문자*가 포함되어 있기 때문에 주의깊게 보지 않으면 작은따옴표로 파이썬을 둘러싸려고 시도하여 혼동할 수 있습니다.)"
   ]
  },
  {
   "cell_type": "code",
   "execution_count": 6,
   "metadata": {
    "_kg_hide-output": false,
    "execution": {
     "iopub.execute_input": "2021-06-04T13:06:57.662442Z",
     "iopub.status.busy": "2021-06-04T13:06:57.661847Z",
     "iopub.status.idle": "2021-06-04T13:06:57.666794Z",
     "shell.execute_reply": "2021-06-04T13:06:57.667482Z"
    },
    "papermill": {
     "duration": 0.025987,
     "end_time": "2021-06-04T13:06:57.667658",
     "exception": false,
     "start_time": "2021-06-04T13:06:57.641671",
     "status": "completed"
    },
    "tags": []
   },
   "outputs": [
    {
     "name": "stdout",
     "output_type": "stream",
     "text": [
      "Spam Spam Spam Spam \n"
     ]
    }
   ],
   "source": [
    "viking_song = \"Spam \" * spam_amount\n",
    "print(viking_song)"
   ]
  },
  {
   "cell_type": "markdown",
   "metadata": {
    "papermill": {
     "duration": 0.017843,
     "end_time": "2021-06-04T13:06:57.703891",
     "exception": false,
     "start_time": "2021-06-04T13:06:57.686048",
     "status": "completed"
    },
    "tags": []
   },
   "source": [
    "`*`연산자는 두 숫자를 곱하는 데 사용할 수 있지만 (`3 * 3` evaluates to 9), 문자열에 숫자를 곱하면 그만큼 반복된 형태를 얻을 수 있습니다. Python은 `*` 와 `+` 와 같은 연산자들이 어떤 종류의 작업에 적용하느냐에 따라 다른 의미를 갖는 것은 이와 같이 시간 절약을 제공합니다. (기술 용어는 [operator overloading](https://en.wikipedia.org/wiki/Operator_overloading) 에서 확인하세요.)"
   ]
  },
  {
   "cell_type": "markdown",
   "metadata": {
    "papermill": {
     "duration": 0.017832,
     "end_time": "2021-06-04T13:06:57.739848",
     "exception": false,
     "start_time": "2021-06-04T13:06:57.722016",
     "status": "completed"
    },
    "tags": []
   },
   "source": [
    "## Numbers and arithmetic in Python\n",
    "\n",
    "위의 숫자를 포함하는 변수의 예는 이미 확인했습니다."
   ]
  },
  {
   "cell_type": "code",
   "execution_count": 7,
   "metadata": {
    "collapsed": true,
    "execution": {
     "iopub.execute_input": "2021-06-04T13:06:57.779444Z",
     "iopub.status.busy": "2021-06-04T13:06:57.778784Z",
     "iopub.status.idle": "2021-06-04T13:06:57.782116Z",
     "shell.execute_reply": "2021-06-04T13:06:57.782552Z"
    },
    "papermill": {
     "duration": 0.024527,
     "end_time": "2021-06-04T13:06:57.782722",
     "exception": false,
     "start_time": "2021-06-04T13:06:57.758195",
     "status": "completed"
    },
    "tags": []
   },
   "outputs": [],
   "source": [
    "spam_amount = 0"
   ]
  },
  {
   "cell_type": "markdown",
   "metadata": {
    "papermill": {
     "duration": 0.019022,
     "end_time": "2021-06-04T13:06:57.819837",
     "exception": false,
     "start_time": "2021-06-04T13:06:57.800815",
     "status": "completed"
    },
    "tags": []
   },
   "source": [
    "\"Number\"는 다음 종류의 좋은 비공식 이름입니다. 하지만 좀 더 기술적으로 설명하려면 Python에게 `spam_amount`의 type을 어떻게 설명해야 하는지 물어볼 수 있습니다."
   ]
  },
  {
   "cell_type": "code",
   "execution_count": 8,
   "metadata": {
    "execution": {
     "iopub.execute_input": "2021-06-04T13:06:57.866158Z",
     "iopub.status.busy": "2021-06-04T13:06:57.865470Z",
     "iopub.status.idle": "2021-06-04T13:06:57.871557Z",
     "shell.execute_reply": "2021-06-04T13:06:57.871990Z"
    },
    "papermill": {
     "duration": 0.027831,
     "end_time": "2021-06-04T13:06:57.872176",
     "exception": false,
     "start_time": "2021-06-04T13:06:57.844345",
     "status": "completed"
    },
    "tags": []
   },
   "outputs": [
    {
     "data": {
      "text/plain": [
       "int"
      ]
     },
     "execution_count": 8,
     "metadata": {},
     "output_type": "execute_result"
    }
   ],
   "source": [
    "type(spam_amount)"
   ]
  },
  {
   "cell_type": "markdown",
   "metadata": {
    "papermill": {
     "duration": 0.018547,
     "end_time": "2021-06-04T13:06:57.911220",
     "exception": false,
     "start_time": "2021-06-04T13:06:57.892673",
     "status": "completed"
    },
    "tags": []
   },
   "source": [
    " `int`는 정수의 줄임말입니다. Python에서 흔히 볼 수 있는 또 다른 종류의 숫자가 있습니다."
   ]
  },
  {
   "cell_type": "code",
   "execution_count": 9,
   "metadata": {
    "execution": {
     "iopub.execute_input": "2021-06-04T13:06:57.951693Z",
     "iopub.status.busy": "2021-06-04T13:06:57.951120Z",
     "iopub.status.idle": "2021-06-04T13:06:57.957087Z",
     "shell.execute_reply": "2021-06-04T13:06:57.956585Z"
    },
    "papermill": {
     "duration": 0.027347,
     "end_time": "2021-06-04T13:06:57.957231",
     "exception": false,
     "start_time": "2021-06-04T13:06:57.929884",
     "status": "completed"
    },
    "tags": []
   },
   "outputs": [
    {
     "data": {
      "text/plain": [
       "float"
      ]
     },
     "execution_count": 9,
     "metadata": {},
     "output_type": "execute_result"
    }
   ],
   "source": [
    "type(19.95)"
   ]
  },
  {
   "cell_type": "markdown",
   "metadata": {
    "papermill": {
     "duration": 0.018491,
     "end_time": "2021-06-04T13:06:57.994756",
     "exception": false,
     "start_time": "2021-06-04T13:06:57.976265",
     "status": "completed"
    },
    "tags": []
   },
   "source": [
    "`float` 는 소수 자릿수를 가진 숫자로 무게나 비율과 같은 것을 나타낼 때 매우 유용한 숫자입니다.\n",
    "\n",
    "`type()` 은 우리가 본 두 번째 내장 함수(after `print()`)로 기억하기 좋은 또 다른 기능입니다. Python에게 \"이것은 어떤 것인가요?\"라고 묻는 것은 매우 중요합니다."
   ]
  },
  {
   "cell_type": "markdown",
   "metadata": {
    "papermill": {
     "duration": 0.018559,
     "end_time": "2021-06-04T13:06:58.032642",
     "exception": false,
     "start_time": "2021-06-04T13:06:58.014083",
     "status": "completed"
    },
    "tags": []
   },
   "source": [
    "숫자로 하고 싶은 자연스러운 일은 계산를 하는 것입니다. 더하기 연산자는 `+`이고 곱하기 연산자는 `*`입니다. Python은 계산기의 나머지 기본 버튼도 제공합니다.:\n",
    "\n",
    "\n",
    "| Operator     | Name           | Description                                            |\n",
    "|--------------|----------------|--------------------------------------------------------|\n",
    "| ``a + b``    | Addition       | Sum of ``a`` and ``b``                                 |\n",
    "| ``a - b``    | Subtraction    | Difference of ``a`` and ``b``                          |\n",
    "| ``a * b``    | Multiplication | Product of ``a`` and ``b``                             |\n",
    "| ``a / b``    | True division  | Quotient of ``a`` and ``b``                            |\n",
    "| ``a // b``   | Floor division | Quotient of ``a`` and ``b``, removing fractional parts |\n",
    "| ``a % b``    | Modulus        | Integer remainder after division of ``a`` by ``b``     |\n",
    "| ``a ** b``   | Exponentiation | ``a`` raised to the power of ``b``                     |\n",
    "| ``-a``       | Negation       | The negative of ``a``                                  |\n",
    "\n",
    "<span style=\"display:none\"></span>\n",
    "\n",
    "한 가지 흥미로운 점은 계산기에 나누기 버튼이 하나만 있는 반면, Python은 두 가지 작업을 수행할 수 있다는 점입니다. \"True division\"은 기본적으로 계산기가 수행하는 작업입니다"
   ]
  },
  {
   "cell_type": "code",
   "execution_count": 10,
   "metadata": {
    "execution": {
     "iopub.execute_input": "2021-06-04T13:06:58.074522Z",
     "iopub.status.busy": "2021-06-04T13:06:58.073568Z",
     "iopub.status.idle": "2021-06-04T13:06:58.079360Z",
     "shell.execute_reply": "2021-06-04T13:06:58.078795Z"
    },
    "papermill": {
     "duration": 0.028142,
     "end_time": "2021-06-04T13:06:58.079508",
     "exception": false,
     "start_time": "2021-06-04T13:06:58.051366",
     "status": "completed"
    },
    "tags": []
   },
   "outputs": [
    {
     "name": "stdout",
     "output_type": "stream",
     "text": [
      "2.5\n",
      "3.0\n"
     ]
    }
   ],
   "source": [
    "print(5 / 2)\n",
    "print(6 / 2)"
   ]
  },
  {
   "cell_type": "markdown",
   "metadata": {
    "papermill": {
     "duration": 0.019051,
     "end_time": "2021-06-04T13:06:58.117755",
     "exception": false,
     "start_time": "2021-06-04T13:06:58.098704",
     "status": "completed"
    },
    "tags": []
   },
   "source": [
    "`/`는 항상 `float`을 출력합니다..\n",
    "\n",
    "`//` 연산자는 정수로 내림한 결과를 제공합니다."
   ]
  },
  {
   "cell_type": "code",
   "execution_count": 11,
   "metadata": {
    "execution": {
     "iopub.execute_input": "2021-06-04T13:06:58.161599Z",
     "iopub.status.busy": "2021-06-04T13:06:58.160701Z",
     "iopub.status.idle": "2021-06-04T13:06:58.163562Z",
     "shell.execute_reply": "2021-06-04T13:06:58.163990Z"
    },
    "papermill": {
     "duration": 0.027267,
     "end_time": "2021-06-04T13:06:58.164149",
     "exception": false,
     "start_time": "2021-06-04T13:06:58.136882",
     "status": "completed"
    },
    "tags": []
   },
   "outputs": [
    {
     "name": "stdout",
     "output_type": "stream",
     "text": [
      "2\n",
      "3\n"
     ]
    }
   ],
   "source": [
    "print(5 // 2)\n",
    "print(6 // 2)"
   ]
  },
  {
   "cell_type": "markdown",
   "metadata": {
    "papermill": {
     "duration": 0.018944,
     "end_time": "2021-06-04T13:06:58.202329",
     "exception": false,
     "start_time": "2021-06-04T13:06:58.183385",
     "status": "completed"
    },
    "tags": []
   },
   "source": [
    "이것이 어디에 유용할 지 생각해 볼 수 있나요? 코딩 과제에서 곧 예를 볼 수 있을 것입니다.\n"
   ]
  },
  {
   "cell_type": "markdown",
   "metadata": {
    "papermill": {
     "duration": 0.018833,
     "end_time": "2021-06-04T13:06:58.240806",
     "exception": false,
     "start_time": "2021-06-04T13:06:58.221973",
     "status": "completed"
    },
    "tags": []
   },
   "source": [
    "### Order of operations\n",
    "\n",
    "우리가 초등학교 때 배운 산수는 연산을 평가하는 순서에 대한 규칙이 있습니다. 연산의 우선순위 : **괄호**, **거듭제곱**, **곱셈/나눗셈**, **덧셈/뺄셈**.\n",
    "\n",
    "Python은 계산에서 위와 유사한 규칙을 따릅니다."
   ]
  },
  {
   "cell_type": "code",
   "execution_count": 12,
   "metadata": {
    "execution": {
     "iopub.execute_input": "2021-06-04T13:06:58.284750Z",
     "iopub.status.busy": "2021-06-04T13:06:58.283958Z",
     "iopub.status.idle": "2021-06-04T13:06:58.287891Z",
     "shell.execute_reply": "2021-06-04T13:06:58.287420Z"
    },
    "papermill": {
     "duration": 0.027792,
     "end_time": "2021-06-04T13:06:58.288031",
     "exception": false,
     "start_time": "2021-06-04T13:06:58.260239",
     "status": "completed"
    },
    "tags": []
   },
   "outputs": [
    {
     "data": {
      "text/plain": [
       "7"
      ]
     },
     "execution_count": 12,
     "metadata": {},
     "output_type": "execute_result"
    }
   ],
   "source": [
    "8 - 3 + 2"
   ]
  },
  {
   "cell_type": "code",
   "execution_count": 13,
   "metadata": {
    "execution": {
     "iopub.execute_input": "2021-06-04T13:06:58.331449Z",
     "iopub.status.busy": "2021-06-04T13:06:58.330823Z",
     "iopub.status.idle": "2021-06-04T13:06:58.335492Z",
     "shell.execute_reply": "2021-06-04T13:06:58.335937Z"
    },
    "papermill": {
     "duration": 0.0278,
     "end_time": "2021-06-04T13:06:58.336119",
     "exception": false,
     "start_time": "2021-06-04T13:06:58.308319",
     "status": "completed"
    },
    "tags": []
   },
   "outputs": [
    {
     "data": {
      "text/plain": [
       "5"
      ]
     },
     "execution_count": 13,
     "metadata": {},
     "output_type": "execute_result"
    }
   ],
   "source": [
    "-3 + 4 * 2"
   ]
  },
  {
   "cell_type": "markdown",
   "metadata": {
    "papermill": {
     "duration": 0.019915,
     "end_time": "2021-06-04T13:06:58.376211",
     "exception": false,
     "start_time": "2021-06-04T13:06:58.356296",
     "status": "completed"
    },
    "tags": []
   },
   "source": [
    "때때로 기본 작업 순서가 우리가 원하는 것과 다를 수 있습니다."
   ]
  },
  {
   "cell_type": "code",
   "execution_count": 14,
   "metadata": {
    "execution": {
     "iopub.execute_input": "2021-06-04T13:06:58.420929Z",
     "iopub.status.busy": "2021-06-04T13:06:58.420335Z",
     "iopub.status.idle": "2021-06-04T13:06:58.425239Z",
     "shell.execute_reply": "2021-06-04T13:06:58.425652Z"
    },
    "papermill": {
     "duration": 0.028734,
     "end_time": "2021-06-04T13:06:58.425807",
     "exception": false,
     "start_time": "2021-06-04T13:06:58.397073",
     "status": "completed"
    },
    "tags": []
   },
   "outputs": [
    {
     "name": "stdout",
     "output_type": "stream",
     "text": [
      "Height in meters = 26.9 ?\n"
     ]
    }
   ],
   "source": [
    "hat_height_cm = 25\n",
    "my_height_cm = 190\n",
    "# How tall am I, in meters, when wearing my hat?\n",
    "total_height_meters = hat_height_cm + my_height_cm / 100\n",
    "print(\"Height in meters =\", total_height_meters, \"?\")"
   ]
  },
  {
   "cell_type": "markdown",
   "metadata": {
    "papermill": {
     "duration": 0.020005,
     "end_time": "2021-06-04T13:06:58.466225",
     "exception": false,
     "start_time": "2021-06-04T13:06:58.446220",
     "status": "completed"
    },
    "tags": []
   },
   "source": [
    "여기서 괄호는 유용합니다. 원하는 순서로 하위 식을 평가하도록 파이썬을 추가할 수 있습니다."
   ]
  },
  {
   "cell_type": "code",
   "execution_count": 15,
   "metadata": {
    "execution": {
     "iopub.execute_input": "2021-06-04T13:06:58.509627Z",
     "iopub.status.busy": "2021-06-04T13:06:58.509057Z",
     "iopub.status.idle": "2021-06-04T13:06:58.514005Z",
     "shell.execute_reply": "2021-06-04T13:06:58.514396Z"
    },
    "papermill": {
     "duration": 0.028226,
     "end_time": "2021-06-04T13:06:58.514559",
     "exception": false,
     "start_time": "2021-06-04T13:06:58.486333",
     "status": "completed"
    },
    "tags": []
   },
   "outputs": [
    {
     "name": "stdout",
     "output_type": "stream",
     "text": [
      "Height in meters = 2.15\n"
     ]
    }
   ],
   "source": [
    "total_height_meters = (hat_height_cm + my_height_cm) / 100\n",
    "print(\"Height in meters =\", total_height_meters)"
   ]
  },
  {
   "cell_type": "markdown",
   "metadata": {
    "papermill": {
     "duration": 0.020884,
     "end_time": "2021-06-04T13:06:58.556322",
     "exception": false,
     "start_time": "2021-06-04T13:06:58.535438",
     "status": "completed"
    },
    "tags": []
   },
   "source": [
    "### Builtin functions for working with numbers\n",
    "\n",
    "`min` 과 `max` 는 각각 인수의 최소값과 최대값을 반환합니다."
   ]
  },
  {
   "cell_type": "code",
   "execution_count": 16,
   "metadata": {
    "execution": {
     "iopub.execute_input": "2021-06-04T13:06:58.601265Z",
     "iopub.status.busy": "2021-06-04T13:06:58.600626Z",
     "iopub.status.idle": "2021-06-04T13:06:58.604761Z",
     "shell.execute_reply": "2021-06-04T13:06:58.605251Z"
    },
    "papermill": {
     "duration": 0.028046,
     "end_time": "2021-06-04T13:06:58.605421",
     "exception": false,
     "start_time": "2021-06-04T13:06:58.577375",
     "status": "completed"
    },
    "tags": []
   },
   "outputs": [
    {
     "name": "stdout",
     "output_type": "stream",
     "text": [
      "1\n",
      "3\n"
     ]
    }
   ],
   "source": [
    "print(min(1, 2, 3))\n",
    "print(max(1, 2, 3))"
   ]
  },
  {
   "cell_type": "markdown",
   "metadata": {
    "papermill": {
     "duration": 0.020749,
     "end_time": "2021-06-04T13:06:58.647256",
     "exception": false,
     "start_time": "2021-06-04T13:06:58.626507",
     "status": "completed"
    },
    "tags": []
   },
   "source": [
    "`abs` 는 인수의 절대값을 반환합니다."
   ]
  },
  {
   "cell_type": "code",
   "execution_count": 17,
   "metadata": {
    "execution": {
     "iopub.execute_input": "2021-06-04T13:06:58.692307Z",
     "iopub.status.busy": "2021-06-04T13:06:58.691686Z",
     "iopub.status.idle": "2021-06-04T13:06:58.696593Z",
     "shell.execute_reply": "2021-06-04T13:06:58.696140Z"
    },
    "papermill": {
     "duration": 0.028429,
     "end_time": "2021-06-04T13:06:58.696725",
     "exception": false,
     "start_time": "2021-06-04T13:06:58.668296",
     "status": "completed"
    },
    "tags": []
   },
   "outputs": [
    {
     "name": "stdout",
     "output_type": "stream",
     "text": [
      "32\n",
      "32\n"
     ]
    }
   ],
   "source": [
    "print(abs(32))\n",
    "print(abs(-32))"
   ]
  },
  {
   "cell_type": "markdown",
   "metadata": {
    "papermill": {
     "duration": 0.021294,
     "end_time": "2021-06-04T13:06:58.739733",
     "exception": false,
     "start_time": "2021-06-04T13:06:58.718439",
     "status": "completed"
    },
    "tags": []
   },
   "source": [
    "`int` 와 `float` 는 파이썬의 두 가지 주요 숫자 유형의 이름일 뿐만 아니라 인수를 해당 유형으로 변환하는 함수라고도 할 수 있습니다."
   ]
  },
  {
   "cell_type": "code",
   "execution_count": 18,
   "metadata": {
    "execution": {
     "iopub.execute_input": "2021-06-04T13:06:58.787792Z",
     "iopub.status.busy": "2021-06-04T13:06:58.786780Z",
     "iopub.status.idle": "2021-06-04T13:06:58.790812Z",
     "shell.execute_reply": "2021-06-04T13:06:58.790247Z"
    },
    "papermill": {
     "duration": 0.029766,
     "end_time": "2021-06-04T13:06:58.790981",
     "exception": false,
     "start_time": "2021-06-04T13:06:58.761215",
     "status": "completed"
    },
    "tags": []
   },
   "outputs": [
    {
     "name": "stdout",
     "output_type": "stream",
     "text": [
      "10.0\n",
      "3\n",
      "808\n"
     ]
    }
   ],
   "source": [
    "print(float(10))\n",
    "print(int(3.33))\n",
    "# They can even be called on strings!\n",
    "print(int('807') + 1)"
   ]
  }
 ],
 "metadata": {
  "anaconda-cloud": {},
  "celltoolbar": "Edit Metadata",
  "hide_input": false,
  "kernelspec": {
   "display_name": "Python 3",
   "language": "python",
   "name": "python3"
  },
  "language_info": {
   "codemirror_mode": {
    "name": "ipython",
    "version": 3
   },
   "file_extension": ".py",
   "mimetype": "text/x-python",
   "name": "python",
   "nbconvert_exporter": "python",
   "pygments_lexer": "ipython3",
   "version": "3.7.6"
  },
  "learntools_metadata": {
   "lesson_index": 0,
   "type": "tutorial"
  },
  "papermill": {
   "default_parameters": {},
   "duration": 8.328042,
   "end_time": "2021-06-04T13:06:59.511024",
   "environment_variables": {},
   "exception": null,
   "input_path": "__notebook__.ipynb",
   "output_path": "__notebook__.ipynb",
   "parameters": {},
   "start_time": "2021-06-04T13:06:51.182982",
   "version": "2.3.2"
  },
  "toc": {
   "base_numbering": 1,
   "nav_menu": {},
   "number_sections": true,
   "sideBar": true,
   "skip_h1_title": false,
   "title_cell": "Table of Contents",
   "title_sidebar": "Contents",
   "toc_cell": false,
   "toc_position": {},
   "toc_section_display": true,
   "toc_window_display": false
  },
  "varInspector": {
   "cols": {
    "lenName": 16,
    "lenType": 16,
    "lenVar": 40
   },
   "kernels_config": {
    "python": {
     "delete_cmd_postfix": "",
     "delete_cmd_prefix": "del ",
     "library": "var_list.py",
     "varRefreshCmd": "print(var_dic_list())"
    },
    "r": {
     "delete_cmd_postfix": ") ",
     "delete_cmd_prefix": "rm(",
     "library": "var_list.r",
     "varRefreshCmd": "cat(var_dic_list()) "
    }
   },
   "types_to_exclude": [
    "module",
    "function",
    "builtin_function_or_method",
    "instance",
    "_Feature"
   ],
   "window_display": false
  }
 },
 "nbformat": 4,
 "nbformat_minor": 5
}
