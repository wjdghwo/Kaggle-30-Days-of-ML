{
 "cells": [
  {
   "cell_type": "markdown",
   "id": "eb0b0e35",
   "metadata": {
    "papermill": {
     "duration": 0.050961,
     "end_time": "2021-08-14T13:53:44.058140",
     "exception": false,
     "start_time": "2021-08-14T13:53:44.007179",
     "status": "completed"
    },
    "tags": []
   },
   "source": [
    "**This notebook is an exercise in the [Intermediate Machine Learning](https://www.kaggle.com/learn/intermediate-machine-learning) course.  You can reference the tutorial at [this link](https://www.kaggle.com/alexisbcook/categorical-variables).**\n",
    "\n",
    "---\n"
   ]
  },
  {
   "cell_type": "markdown",
   "id": "7400c821",
   "metadata": {
    "papermill": {
     "duration": 0.046463,
     "end_time": "2021-08-14T13:53:44.153182",
     "exception": false,
     "start_time": "2021-08-14T13:53:44.106719",
     "status": "completed"
    },
    "tags": []
   },
   "source": [
    "By encoding **categorical variables**, you'll obtain your best results thus far!\n",
    "\n",
    "# Setup\n",
    "\n",
    "The questions below will give you feedback on your work. Run the following cell to set up the feedback system."
   ]
  },
  {
   "cell_type": "code",
   "execution_count": 1,
   "id": "91c0ebf3",
   "metadata": {
    "execution": {
     "iopub.execute_input": "2021-08-14T13:53:44.256952Z",
     "iopub.status.busy": "2021-08-14T13:53:44.255714Z",
     "iopub.status.idle": "2021-08-14T13:53:44.402526Z",
     "shell.execute_reply": "2021-08-14T13:53:44.402997Z",
     "shell.execute_reply.started": "2021-08-14T13:24:15.932728Z"
    },
    "papermill": {
     "duration": 0.20464,
     "end_time": "2021-08-14T13:53:44.403287",
     "exception": false,
     "start_time": "2021-08-14T13:53:44.198647",
     "status": "completed"
    },
    "tags": []
   },
   "outputs": [
    {
     "name": "stdout",
     "output_type": "stream",
     "text": [
      "Setup Complete\n"
     ]
    }
   ],
   "source": [
    "# Set up code checking\n",
    "import os\n",
    "if not os.path.exists(\"../input/train.csv\"):\n",
    "    os.symlink(\"../input/home-data-for-ml-course/train.csv\", \"../input/train.csv\")  \n",
    "    os.symlink(\"../input/home-data-for-ml-course/test.csv\", \"../input/test.csv\") \n",
    "from learntools.core import binder\n",
    "binder.bind(globals())\n",
    "from learntools.ml_intermediate.ex3 import *\n",
    "print(\"Setup Complete\")"
   ]
  },
  {
   "cell_type": "markdown",
   "id": "d69fcfd6",
   "metadata": {
    "papermill": {
     "duration": 0.056361,
     "end_time": "2021-08-14T13:53:44.505469",
     "exception": false,
     "start_time": "2021-08-14T13:53:44.449108",
     "status": "completed"
    },
    "tags": []
   },
   "source": [
    "In this exercise, you will work with data from the [Housing Prices Competition for Kaggle Learn Users](https://www.kaggle.com/c/home-data-for-ml-course). \n",
    "\n",
    "![Ames Housing dataset image](https://i.imgur.com/lTJVG4e.png)\n",
    "\n",
    "Run the next code cell without changes to load the training and validation sets in `X_train`, `X_valid`, `y_train`, and `y_valid`.  The test set is loaded in `X_test`."
   ]
  },
  {
   "cell_type": "code",
   "execution_count": 2,
   "id": "397b75d6",
   "metadata": {
    "execution": {
     "iopub.execute_input": "2021-08-14T13:53:44.614774Z",
     "iopub.status.busy": "2021-08-14T13:53:44.613875Z",
     "iopub.status.idle": "2021-08-14T13:53:45.556008Z",
     "shell.execute_reply": "2021-08-14T13:53:45.555331Z",
     "shell.execute_reply.started": "2021-08-14T13:24:15.945332Z"
    },
    "papermill": {
     "duration": 0.996306,
     "end_time": "2021-08-14T13:53:45.556145",
     "exception": false,
     "start_time": "2021-08-14T13:53:44.559839",
     "status": "completed"
    },
    "tags": []
   },
   "outputs": [],
   "source": [
    "import pandas as pd\n",
    "from sklearn.model_selection import train_test_split\n",
    "\n",
    "# Read the data\n",
    "X = pd.read_csv('../input/train.csv', index_col='Id') \n",
    "X_test = pd.read_csv('../input/test.csv', index_col='Id')\n",
    "\n",
    "# Remove rows with missing target, separate target from predictors\n",
    "X.dropna(axis=0, subset=['SalePrice'], inplace=True)\n",
    "y = X.SalePrice\n",
    "X.drop(['SalePrice'], axis=1, inplace=True)\n",
    "\n",
    "# To keep things simple, we'll drop columns with missing values\n",
    "cols_with_missing = [col for col in X.columns if X[col].isnull().any()] \n",
    "X.drop(cols_with_missing, axis=1, inplace=True)\n",
    "X_test.drop(cols_with_missing, axis=1, inplace=True)\n",
    "\n",
    "# Break off validation set from training data\n",
    "X_train, X_valid, y_train, y_valid = train_test_split(X, y,\n",
    "                                                      train_size=0.8, test_size=0.2,\n",
    "                                                      random_state=0)"
   ]
  },
  {
   "cell_type": "markdown",
   "id": "c2a66ced",
   "metadata": {
    "papermill": {
     "duration": 0.044941,
     "end_time": "2021-08-14T13:53:45.646385",
     "exception": false,
     "start_time": "2021-08-14T13:53:45.601444",
     "status": "completed"
    },
    "tags": []
   },
   "source": [
    "Use the next code cell to print the first five rows of the data."
   ]
  },
  {
   "cell_type": "markdown",
   "id": "ba089f4c",
   "metadata": {
    "papermill": {
     "duration": 0.045221,
     "end_time": "2021-08-14T13:53:45.736906",
     "exception": false,
     "start_time": "2021-08-14T13:53:45.691685",
     "status": "completed"
    },
    "tags": []
   },
   "source": [
    "Notice that the dataset contains both numerical and categorical variables.  You'll need to encode the categorical data before training a model.\n",
    "\n",
    "To compare different models, you'll use the same `score_dataset()` function from the tutorial.  This function reports the [mean absolute error](https://en.wikipedia.org/wiki/Mean_absolute_error) (MAE) from a random forest model."
   ]
  },
  {
   "cell_type": "code",
   "execution_count": 3,
   "id": "2d5f7dbd",
   "metadata": {
    "execution": {
     "iopub.execute_input": "2021-08-14T13:53:45.833821Z",
     "iopub.status.busy": "2021-08-14T13:53:45.833001Z",
     "iopub.status.idle": "2021-08-14T13:53:46.007285Z",
     "shell.execute_reply": "2021-08-14T13:53:46.007908Z",
     "shell.execute_reply.started": "2021-08-14T13:24:16.048402Z"
    },
    "papermill": {
     "duration": 0.225914,
     "end_time": "2021-08-14T13:53:46.008102",
     "exception": false,
     "start_time": "2021-08-14T13:53:45.782188",
     "status": "completed"
    },
    "tags": []
   },
   "outputs": [],
   "source": [
    "from sklearn.ensemble import RandomForestRegressor\n",
    "from sklearn.metrics import mean_absolute_error\n",
    "\n",
    "# function for comparing different approaches\n",
    "def score_dataset(X_train, X_valid, y_train, y_valid):\n",
    "    model = RandomForestRegressor(n_estimators=100, random_state=0)\n",
    "    model.fit(X_train, y_train)\n",
    "    preds = model.predict(X_valid)\n",
    "    return mean_absolute_error(y_valid, preds)"
   ]
  },
  {
   "cell_type": "markdown",
   "id": "9bbb7112",
   "metadata": {
    "papermill": {
     "duration": 0.058218,
     "end_time": "2021-08-14T13:53:46.127027",
     "exception": false,
     "start_time": "2021-08-14T13:53:46.068809",
     "status": "completed"
    },
    "tags": []
   },
   "source": [
    "# Step 1: Drop columns with categorical data\n",
    "\n",
    "You'll get started with the most straightforward approach.  Use the code cell below to preprocess the data in `X_train` and `X_valid` to remove columns with categorical data.  Set the preprocessed DataFrames to `drop_X_train` and `drop_X_valid`, respectively.  "
   ]
  },
  {
   "cell_type": "code",
   "execution_count": 4,
   "id": "6395a4f1",
   "metadata": {
    "execution": {
     "iopub.execute_input": "2021-08-14T13:53:46.220942Z",
     "iopub.status.busy": "2021-08-14T13:53:46.220252Z",
     "iopub.status.idle": "2021-08-14T13:53:46.234555Z",
     "shell.execute_reply": "2021-08-14T13:53:46.235104Z",
     "shell.execute_reply.started": "2021-08-14T13:24:16.055940Z"
    },
    "papermill": {
     "duration": 0.062377,
     "end_time": "2021-08-14T13:53:46.235292",
     "exception": false,
     "start_time": "2021-08-14T13:53:46.172915",
     "status": "completed"
    },
    "tags": []
   },
   "outputs": [
    {
     "data": {
      "application/javascript": [
       "parent.postMessage({\"jupyterEvent\": \"custom.exercise_interaction\", \"data\": {\"outcomeType\": 1, \"valueTowardsCompletion\": 0.5, \"interactionType\": 1, \"questionType\": 2, \"questionId\": \"1_Drop\", \"learnToolsVersion\": \"0.3.4\", \"failureMessage\": \"\", \"exceptionClass\": \"\", \"trace\": \"\"}}, \"*\")"
      ],
      "text/plain": [
       "<IPython.core.display.Javascript object>"
      ]
     },
     "metadata": {},
     "output_type": "display_data"
    },
    {
     "data": {
      "text/markdown": [
       "<span style=\"color:#33cc33\">Correct</span>"
      ],
      "text/plain": [
       "Correct"
      ]
     },
     "metadata": {},
     "output_type": "display_data"
    }
   ],
   "source": [
    "# Fill in the lines below: drop columns in training and validation data\n",
    "drop_X_train = X_train.select_dtypes(exclude=['object'])\n",
    "drop_X_valid = X_valid.select_dtypes(exclude=['object'])\n",
    "\n",
    "# Check your answers\n",
    "step_1.check()"
   ]
  },
  {
   "cell_type": "code",
   "execution_count": 5,
   "id": "ea33168a",
   "metadata": {
    "execution": {
     "iopub.execute_input": "2021-08-14T13:53:46.331343Z",
     "iopub.status.busy": "2021-08-14T13:53:46.330756Z",
     "iopub.status.idle": "2021-08-14T13:53:46.340431Z",
     "shell.execute_reply": "2021-08-14T13:53:46.339936Z",
     "shell.execute_reply.started": "2021-08-14T13:24:16.081864Z"
    },
    "papermill": {
     "duration": 0.059042,
     "end_time": "2021-08-14T13:53:46.340622",
     "exception": false,
     "start_time": "2021-08-14T13:53:46.281580",
     "status": "completed"
    },
    "tags": []
   },
   "outputs": [
    {
     "data": {
      "application/javascript": [
       "parent.postMessage({\"jupyterEvent\": \"custom.exercise_interaction\", \"data\": {\"interactionType\": 2, \"questionType\": 2, \"questionId\": \"1_Drop\", \"learnToolsVersion\": \"0.3.4\", \"valueTowardsCompletion\": 0.0, \"failureMessage\": \"\", \"exceptionClass\": \"\", \"trace\": \"\", \"outcomeType\": 4}}, \"*\")"
      ],
      "text/plain": [
       "<IPython.core.display.Javascript object>"
      ]
     },
     "metadata": {},
     "output_type": "display_data"
    },
    {
     "data": {
      "text/markdown": [
       "<span style=\"color:#3366cc\">Hint:</span> Use the [`select_dtypes()`](https://pandas.pydata.org/pandas-docs/stable/reference/api/pandas.DataFrame.select_dtypes.html) method to drop all columns with the `object` dtype."
      ],
      "text/plain": [
       "Hint: Use the [`select_dtypes()`](https://pandas.pydata.org/pandas-docs/stable/reference/api/pandas.DataFrame.select_dtypes.html) method to drop all columns with the `object` dtype."
      ]
     },
     "metadata": {},
     "output_type": "display_data"
    },
    {
     "data": {
      "application/javascript": [
       "parent.postMessage({\"jupyterEvent\": \"custom.exercise_interaction\", \"data\": {\"interactionType\": 3, \"questionType\": 2, \"questionId\": \"1_Drop\", \"learnToolsVersion\": \"0.3.4\", \"valueTowardsCompletion\": 0.0, \"failureMessage\": \"\", \"exceptionClass\": \"\", \"trace\": \"\", \"outcomeType\": 4}}, \"*\")"
      ],
      "text/plain": [
       "<IPython.core.display.Javascript object>"
      ]
     },
     "metadata": {},
     "output_type": "display_data"
    },
    {
     "data": {
      "text/markdown": [
       "<span style=\"color:#33cc99\">Solution:</span> \n",
       "```python\n",
       "# Drop columns in training and validation data\n",
       "drop_X_train = X_train.select_dtypes(exclude=['object'])\n",
       "drop_X_valid = X_valid.select_dtypes(exclude=['object'])\n",
       "\n",
       "```"
      ],
      "text/plain": [
       "Solution: \n",
       "```python\n",
       "# Drop columns in training and validation data\n",
       "drop_X_train = X_train.select_dtypes(exclude=['object'])\n",
       "drop_X_valid = X_valid.select_dtypes(exclude=['object'])\n",
       "\n",
       "```"
      ]
     },
     "metadata": {},
     "output_type": "display_data"
    }
   ],
   "source": [
    "# Lines below will give you a hint or solution code\n",
    "step_1.hint()\n",
    "step_1.solution()"
   ]
  },
  {
   "cell_type": "markdown",
   "id": "70f1c33b",
   "metadata": {
    "papermill": {
     "duration": 0.047524,
     "end_time": "2021-08-14T13:53:46.436010",
     "exception": false,
     "start_time": "2021-08-14T13:53:46.388486",
     "status": "completed"
    },
    "tags": []
   },
   "source": [
    "Run the next code cell to get the MAE for this approach."
   ]
  },
  {
   "cell_type": "code",
   "execution_count": 6,
   "id": "119a75f3",
   "metadata": {
    "execution": {
     "iopub.execute_input": "2021-08-14T13:53:46.539896Z",
     "iopub.status.busy": "2021-08-14T13:53:46.539008Z",
     "iopub.status.idle": "2021-08-14T13:53:47.778062Z",
     "shell.execute_reply": "2021-08-14T13:53:47.777549Z",
     "shell.execute_reply.started": "2021-08-14T13:24:16.100644Z"
    },
    "papermill": {
     "duration": 1.294419,
     "end_time": "2021-08-14T13:53:47.778200",
     "exception": false,
     "start_time": "2021-08-14T13:53:46.483781",
     "status": "completed"
    },
    "tags": []
   },
   "outputs": [
    {
     "name": "stdout",
     "output_type": "stream",
     "text": [
      "MAE from Approach 1 (Drop categorical variables):\n",
      "17837.82570776256\n"
     ]
    }
   ],
   "source": [
    "print(\"MAE from Approach 1 (Drop categorical variables):\")\n",
    "print(score_dataset(drop_X_train, drop_X_valid, y_train, y_valid))"
   ]
  },
  {
   "cell_type": "markdown",
   "id": "07a99d91",
   "metadata": {
    "papermill": {
     "duration": 0.048559,
     "end_time": "2021-08-14T13:53:47.875778",
     "exception": false,
     "start_time": "2021-08-14T13:53:47.827219",
     "status": "completed"
    },
    "tags": []
   },
   "source": [
    "Before jumping into ordinal encoding, we'll investigate the dataset.  Specifically, we'll look at the `'Condition2'` column.  The code cell below prints the unique entries in both the training and validation sets."
   ]
  },
  {
   "cell_type": "code",
   "execution_count": 7,
   "id": "0da46b25",
   "metadata": {
    "execution": {
     "iopub.execute_input": "2021-08-14T13:53:47.980995Z",
     "iopub.status.busy": "2021-08-14T13:53:47.980097Z",
     "iopub.status.idle": "2021-08-14T13:53:47.983874Z",
     "shell.execute_reply": "2021-08-14T13:53:47.983307Z",
     "shell.execute_reply.started": "2021-08-14T13:24:17.377574Z"
    },
    "papermill": {
     "duration": 0.05943,
     "end_time": "2021-08-14T13:53:47.984006",
     "exception": false,
     "start_time": "2021-08-14T13:53:47.924576",
     "status": "completed"
    },
    "tags": []
   },
   "outputs": [
    {
     "name": "stdout",
     "output_type": "stream",
     "text": [
      "Unique values in 'Condition2' column in training data: ['Norm' 'PosA' 'Feedr' 'PosN' 'Artery' 'RRAe']\n",
      "\n",
      "Unique values in 'Condition2' column in validation data: ['Norm' 'RRAn' 'RRNn' 'Artery' 'Feedr' 'PosN']\n"
     ]
    }
   ],
   "source": [
    "print(\"Unique values in 'Condition2' column in training data:\", X_train['Condition2'].unique())\n",
    "print(\"\\nUnique values in 'Condition2' column in validation data:\", X_valid['Condition2'].unique())"
   ]
  },
  {
   "cell_type": "markdown",
   "id": "9152cc61",
   "metadata": {
    "papermill": {
     "duration": 0.049309,
     "end_time": "2021-08-14T13:53:48.082619",
     "exception": false,
     "start_time": "2021-08-14T13:53:48.033310",
     "status": "completed"
    },
    "tags": []
   },
   "source": [
    "# Step 2: Ordinal encoding\n",
    "\n",
    "### Part A\n",
    "\n",
    "If you now write code to: \n",
    "- fit an ordinal encoder to the training data, and then \n",
    "- use it to transform both the training and validation data, \n",
    "\n",
    "you'll get an error.  Can you see why this is the case?  (_You'll need  to use the above output to answer this question._)"
   ]
  },
  {
   "cell_type": "code",
   "execution_count": 8,
   "id": "ad4b4aaf",
   "metadata": {
    "execution": {
     "iopub.execute_input": "2021-08-14T13:53:48.186803Z",
     "iopub.status.busy": "2021-08-14T13:53:48.186107Z",
     "iopub.status.idle": "2021-08-14T13:53:48.191574Z",
     "shell.execute_reply": "2021-08-14T13:53:48.191064Z",
     "shell.execute_reply.started": "2021-08-14T13:24:17.385672Z"
    },
    "papermill": {
     "duration": 0.05982,
     "end_time": "2021-08-14T13:53:48.191713",
     "exception": false,
     "start_time": "2021-08-14T13:53:48.131893",
     "status": "completed"
    },
    "tags": []
   },
   "outputs": [
    {
     "data": {
      "application/javascript": [
       "parent.postMessage({\"jupyterEvent\": \"custom.exercise_interaction\", \"data\": {\"outcomeType\": 1, \"valueTowardsCompletion\": 0.5, \"interactionType\": 1, \"questionType\": 4, \"questionId\": \"2.1_LabelA\", \"learnToolsVersion\": \"0.3.4\", \"failureMessage\": \"\", \"exceptionClass\": \"\", \"trace\": \"\"}}, \"*\")"
      ],
      "text/plain": [
       "<IPython.core.display.Javascript object>"
      ]
     },
     "metadata": {},
     "output_type": "display_data"
    },
    {
     "data": {
      "text/markdown": [
       "<span style=\"color:#33cc33\">Correct:</span> \n",
       "\n",
       "Fitting an ordinal encoder to a column in the training data creates a corresponding integer-valued label for each unique value **that appears in the training data**. In the case that the validation data contains values that don't also appear in the training data, the encoder will throw an error, because these values won't have an integer assigned to them.  Notice that the `'Condition2'` column in the validation data contains the values `'RRAn'` and `'RRNn'`, but these don't appear in the training data -- thus, if we try to use an ordinal encoder with scikit-learn, the code will throw an error."
      ],
      "text/plain": [
       "Correct: \n",
       "\n",
       "Fitting an ordinal encoder to a column in the training data creates a corresponding integer-valued label for each unique value **that appears in the training data**. In the case that the validation data contains values that don't also appear in the training data, the encoder will throw an error, because these values won't have an integer assigned to them.  Notice that the `'Condition2'` column in the validation data contains the values `'RRAn'` and `'RRNn'`, but these don't appear in the training data -- thus, if we try to use an ordinal encoder with scikit-learn, the code will throw an error."
      ]
     },
     "metadata": {},
     "output_type": "display_data"
    }
   ],
   "source": [
    "# Check your answer (Run this code cell to receive credit!)\n",
    "step_2.a.check()"
   ]
  },
  {
   "cell_type": "code",
   "execution_count": 9,
   "id": "c1574b38",
   "metadata": {
    "execution": {
     "iopub.execute_input": "2021-08-14T13:53:48.297581Z",
     "iopub.status.busy": "2021-08-14T13:53:48.296783Z",
     "iopub.status.idle": "2021-08-14T13:53:48.302321Z",
     "shell.execute_reply": "2021-08-14T13:53:48.301822Z",
     "shell.execute_reply.started": "2021-08-14T13:24:17.404876Z"
    },
    "papermill": {
     "duration": 0.060456,
     "end_time": "2021-08-14T13:53:48.302467",
     "exception": false,
     "start_time": "2021-08-14T13:53:48.242011",
     "status": "completed"
    },
    "tags": []
   },
   "outputs": [
    {
     "data": {
      "application/javascript": [
       "parent.postMessage({\"jupyterEvent\": \"custom.exercise_interaction\", \"data\": {\"interactionType\": 2, \"questionType\": 4, \"questionId\": \"2.1_LabelA\", \"learnToolsVersion\": \"0.3.4\", \"valueTowardsCompletion\": 0.0, \"failureMessage\": \"\", \"exceptionClass\": \"\", \"trace\": \"\", \"outcomeType\": 4}}, \"*\")"
      ],
      "text/plain": [
       "<IPython.core.display.Javascript object>"
      ]
     },
     "metadata": {},
     "output_type": "display_data"
    },
    {
     "data": {
      "text/markdown": [
       "<span style=\"color:#3366cc\">Hint:</span> Are there any values that appear in the validation data but not in the training data?"
      ],
      "text/plain": [
       "Hint: Are there any values that appear in the validation data but not in the training data?"
      ]
     },
     "metadata": {},
     "output_type": "display_data"
    }
   ],
   "source": [
    "step_2.a.hint()"
   ]
  },
  {
   "cell_type": "markdown",
   "id": "5c249d34",
   "metadata": {
    "papermill": {
     "duration": 0.051387,
     "end_time": "2021-08-14T13:53:48.406224",
     "exception": false,
     "start_time": "2021-08-14T13:53:48.354837",
     "status": "completed"
    },
    "tags": []
   },
   "source": [
    "This is a common problem that you'll encounter with real-world data, and there are many approaches to fixing this issue.  For instance, you can write a custom ordinal encoder to deal with new categories.  The simplest approach, however, is to drop the problematic categorical columns.  \n",
    "\n",
    "Run the code cell below to save the problematic columns to a Python list `bad_label_cols`.  Likewise, columns that can be safely ordinal encoded are stored in `good_label_cols`."
   ]
  },
  {
   "cell_type": "code",
   "execution_count": 10,
   "id": "55fba004",
   "metadata": {
    "execution": {
     "iopub.execute_input": "2021-08-14T13:53:48.524178Z",
     "iopub.status.busy": "2021-08-14T13:53:48.523520Z",
     "iopub.status.idle": "2021-08-14T13:53:48.527973Z",
     "shell.execute_reply": "2021-08-14T13:53:48.527340Z",
     "shell.execute_reply.started": "2021-08-14T13:24:17.418267Z"
    },
    "papermill": {
     "duration": 0.070888,
     "end_time": "2021-08-14T13:53:48.528105",
     "exception": false,
     "start_time": "2021-08-14T13:53:48.457217",
     "status": "completed"
    },
    "tags": []
   },
   "outputs": [
    {
     "name": "stdout",
     "output_type": "stream",
     "text": [
      "Categorical columns that will be ordinal encoded: ['MSZoning', 'Street', 'LotShape', 'LandContour', 'Utilities', 'LotConfig', 'LandSlope', 'Neighborhood', 'Condition1', 'BldgType', 'HouseStyle', 'RoofStyle', 'Exterior1st', 'Exterior2nd', 'ExterQual', 'ExterCond', 'Foundation', 'Heating', 'HeatingQC', 'CentralAir', 'KitchenQual', 'PavedDrive', 'SaleType', 'SaleCondition']\n",
      "\n",
      "Categorical columns that will be dropped from the dataset: ['RoofMatl', 'Condition2', 'Functional']\n"
     ]
    }
   ],
   "source": [
    "# All categorical columns\n",
    "object_cols = [col for col in X_train.columns if X_train[col].dtype == \"object\"]\n",
    "\n",
    "# Columns that can be safely ordinal encoded\n",
    "good_label_cols = [col for col in object_cols if \n",
    "                   set(X_valid[col]).issubset(set(X_train[col]))]\n",
    "        \n",
    "# Problematic columns that will be dropped from the dataset\n",
    "bad_label_cols = list(set(object_cols)-set(good_label_cols))\n",
    "        \n",
    "print('Categorical columns that will be ordinal encoded:', good_label_cols)\n",
    "print('\\nCategorical columns that will be dropped from the dataset:', bad_label_cols)"
   ]
  },
  {
   "cell_type": "markdown",
   "id": "28547568",
   "metadata": {
    "papermill": {
     "duration": 0.051637,
     "end_time": "2021-08-14T13:53:48.631172",
     "exception": false,
     "start_time": "2021-08-14T13:53:48.579535",
     "status": "completed"
    },
    "tags": []
   },
   "source": [
    "### Part B\n",
    "\n",
    "Use the next code cell to ordinal encode the data in `X_train` and `X_valid`.  Set the preprocessed DataFrames to `label_X_train` and `label_X_valid`, respectively.  \n",
    "- We have provided code below to drop the categorical columns in `bad_label_cols` from the dataset. \n",
    "- You should ordinal encode the categorical columns in `good_label_cols`.  "
   ]
  },
  {
   "cell_type": "code",
   "execution_count": 11,
   "id": "ae02de95",
   "metadata": {
    "execution": {
     "iopub.execute_input": "2021-08-14T13:53:48.764860Z",
     "iopub.status.busy": "2021-08-14T13:53:48.744123Z",
     "iopub.status.idle": "2021-08-14T13:53:48.808295Z",
     "shell.execute_reply": "2021-08-14T13:53:48.808789Z",
     "shell.execute_reply.started": "2021-08-14T13:24:17.438257Z"
    },
    "papermill": {
     "duration": 0.12611,
     "end_time": "2021-08-14T13:53:48.808963",
     "exception": false,
     "start_time": "2021-08-14T13:53:48.682853",
     "status": "completed"
    },
    "tags": []
   },
   "outputs": [
    {
     "data": {
      "application/javascript": [
       "parent.postMessage({\"jupyterEvent\": \"custom.exercise_interaction\", \"data\": {\"outcomeType\": 1, \"valueTowardsCompletion\": 0.5, \"interactionType\": 1, \"questionType\": 2, \"questionId\": \"2.2_LabelB\", \"learnToolsVersion\": \"0.3.4\", \"failureMessage\": \"\", \"exceptionClass\": \"\", \"trace\": \"\"}}, \"*\")"
      ],
      "text/plain": [
       "<IPython.core.display.Javascript object>"
      ]
     },
     "metadata": {},
     "output_type": "display_data"
    },
    {
     "data": {
      "text/markdown": [
       "<span style=\"color:#33cc33\">Correct</span>"
      ],
      "text/plain": [
       "Correct"
      ]
     },
     "metadata": {},
     "output_type": "display_data"
    }
   ],
   "source": [
    "from sklearn.preprocessing import OrdinalEncoder\n",
    "\n",
    "# Drop categorical columns that will not be encoded\n",
    "label_X_train = X_train.drop(bad_label_cols, axis=1)\n",
    "label_X_valid = X_valid.drop(bad_label_cols, axis=1)\n",
    "\n",
    "# Apply ordinal encoder \n",
    "ordinal_encoder = OrdinalEncoder() # Your code here\n",
    "label_X_train[good_label_cols] = ordinal_encoder.fit_transform(X_train[good_label_cols])\n",
    "label_X_valid[good_label_cols] = ordinal_encoder.transform(X_valid[good_label_cols])\n",
    "\n",
    "# Check your answer\n",
    "step_2.b.check()"
   ]
  },
  {
   "cell_type": "code",
   "execution_count": 12,
   "id": "77fed22c",
   "metadata": {
    "execution": {
     "iopub.execute_input": "2021-08-14T13:53:48.920108Z",
     "iopub.status.busy": "2021-08-14T13:53:48.919259Z",
     "iopub.status.idle": "2021-08-14T13:53:48.928642Z",
     "shell.execute_reply": "2021-08-14T13:53:48.928087Z",
     "shell.execute_reply.started": "2021-08-14T13:24:17.523752Z"
    },
    "papermill": {
     "duration": 0.066956,
     "end_time": "2021-08-14T13:53:48.928775",
     "exception": false,
     "start_time": "2021-08-14T13:53:48.861819",
     "status": "completed"
    },
    "tags": []
   },
   "outputs": [
    {
     "data": {
      "application/javascript": [
       "parent.postMessage({\"jupyterEvent\": \"custom.exercise_interaction\", \"data\": {\"interactionType\": 2, \"questionType\": 2, \"questionId\": \"2.2_LabelB\", \"learnToolsVersion\": \"0.3.4\", \"valueTowardsCompletion\": 0.0, \"failureMessage\": \"\", \"exceptionClass\": \"\", \"trace\": \"\", \"outcomeType\": 4}}, \"*\")"
      ],
      "text/plain": [
       "<IPython.core.display.Javascript object>"
      ]
     },
     "metadata": {},
     "output_type": "display_data"
    },
    {
     "data": {
      "text/markdown": [
       "<span style=\"color:#3366cc\">Hint:</span> Use the `OrdinalEncoder` class from scikit-learn. You should only encode the columns in `good_label_cols`."
      ],
      "text/plain": [
       "Hint: Use the `OrdinalEncoder` class from scikit-learn. You should only encode the columns in `good_label_cols`."
      ]
     },
     "metadata": {},
     "output_type": "display_data"
    },
    {
     "data": {
      "application/javascript": [
       "parent.postMessage({\"jupyterEvent\": \"custom.exercise_interaction\", \"data\": {\"interactionType\": 3, \"questionType\": 2, \"questionId\": \"2.2_LabelB\", \"learnToolsVersion\": \"0.3.4\", \"valueTowardsCompletion\": 0.0, \"failureMessage\": \"\", \"exceptionClass\": \"\", \"trace\": \"\", \"outcomeType\": 4}}, \"*\")"
      ],
      "text/plain": [
       "<IPython.core.display.Javascript object>"
      ]
     },
     "metadata": {},
     "output_type": "display_data"
    },
    {
     "data": {
      "text/markdown": [
       "<span style=\"color:#33cc99\">Solution:</span> \n",
       "```python\n",
       "# Drop categorical columns that will not be encoded\n",
       "label_X_train = X_train.drop(bad_label_cols, axis=1)\n",
       "label_X_valid = X_valid.drop(bad_label_cols, axis=1)\n",
       "\n",
       "# Apply ordinal encoder\n",
       "ordinal_encoder = OrdinalEncoder()\n",
       "label_X_train[good_label_cols] = ordinal_encoder.fit_transform(X_train[good_label_cols])\n",
       "label_X_valid[good_label_cols] = ordinal_encoder.transform(X_valid[good_label_cols])\n",
       "\n",
       "```"
      ],
      "text/plain": [
       "Solution: \n",
       "```python\n",
       "# Drop categorical columns that will not be encoded\n",
       "label_X_train = X_train.drop(bad_label_cols, axis=1)\n",
       "label_X_valid = X_valid.drop(bad_label_cols, axis=1)\n",
       "\n",
       "# Apply ordinal encoder\n",
       "ordinal_encoder = OrdinalEncoder()\n",
       "label_X_train[good_label_cols] = ordinal_encoder.fit_transform(X_train[good_label_cols])\n",
       "label_X_valid[good_label_cols] = ordinal_encoder.transform(X_valid[good_label_cols])\n",
       "\n",
       "```"
      ]
     },
     "metadata": {},
     "output_type": "display_data"
    }
   ],
   "source": [
    "# Lines below will give you a hint or solution code\n",
    "step_2.b.hint()\n",
    "step_2.b.solution()"
   ]
  },
  {
   "cell_type": "markdown",
   "id": "0cd56f8e",
   "metadata": {
    "papermill": {
     "duration": 0.054661,
     "end_time": "2021-08-14T13:53:49.039267",
     "exception": false,
     "start_time": "2021-08-14T13:53:48.984606",
     "status": "completed"
    },
    "tags": []
   },
   "source": [
    "Run the next code cell to get the MAE for this approach."
   ]
  },
  {
   "cell_type": "code",
   "execution_count": 13,
   "id": "12f6b45a",
   "metadata": {
    "execution": {
     "iopub.execute_input": "2021-08-14T13:53:49.160938Z",
     "iopub.status.busy": "2021-08-14T13:53:49.160221Z",
     "iopub.status.idle": "2021-08-14T13:53:50.756692Z",
     "shell.execute_reply": "2021-08-14T13:53:50.756092Z",
     "shell.execute_reply.started": "2021-08-14T13:24:17.538721Z"
    },
    "papermill": {
     "duration": 1.660995,
     "end_time": "2021-08-14T13:53:50.756849",
     "exception": false,
     "start_time": "2021-08-14T13:53:49.095854",
     "status": "completed"
    },
    "tags": []
   },
   "outputs": [
    {
     "name": "stdout",
     "output_type": "stream",
     "text": [
      "MAE from Approach 2 (Ordinal Encoding):\n",
      "17098.01649543379\n"
     ]
    }
   ],
   "source": [
    "print(\"MAE from Approach 2 (Ordinal Encoding):\") \n",
    "print(score_dataset(label_X_train, label_X_valid, y_train, y_valid))"
   ]
  },
  {
   "cell_type": "markdown",
   "id": "27de5db1",
   "metadata": {
    "papermill": {
     "duration": 0.05472,
     "end_time": "2021-08-14T13:53:50.867032",
     "exception": false,
     "start_time": "2021-08-14T13:53:50.812312",
     "status": "completed"
    },
    "tags": []
   },
   "source": [
    "So far, you've tried two different approaches to dealing with categorical variables.  And, you've seen that encoding categorical data yields better results than removing columns from the dataset.\n",
    "\n",
    "Soon, you'll try one-hot encoding.  Before then, there's one additional topic we need to cover.  Begin by running the next code cell without changes.  "
   ]
  },
  {
   "cell_type": "code",
   "execution_count": 14,
   "id": "3c295586",
   "metadata": {
    "execution": {
     "iopub.execute_input": "2021-08-14T13:53:50.985531Z",
     "iopub.status.busy": "2021-08-14T13:53:50.984478Z",
     "iopub.status.idle": "2021-08-14T13:53:51.001420Z",
     "shell.execute_reply": "2021-08-14T13:53:51.000934Z",
     "shell.execute_reply.started": "2021-08-14T13:24:19.143184Z"
    },
    "papermill": {
     "duration": 0.079754,
     "end_time": "2021-08-14T13:53:51.001608",
     "exception": false,
     "start_time": "2021-08-14T13:53:50.921854",
     "status": "completed"
    },
    "tags": []
   },
   "outputs": [
    {
     "data": {
      "text/plain": [
       "[('Street', 2),\n",
       " ('Utilities', 2),\n",
       " ('CentralAir', 2),\n",
       " ('LandSlope', 3),\n",
       " ('PavedDrive', 3),\n",
       " ('LotShape', 4),\n",
       " ('LandContour', 4),\n",
       " ('ExterQual', 4),\n",
       " ('KitchenQual', 4),\n",
       " ('MSZoning', 5),\n",
       " ('LotConfig', 5),\n",
       " ('BldgType', 5),\n",
       " ('ExterCond', 5),\n",
       " ('HeatingQC', 5),\n",
       " ('Condition2', 6),\n",
       " ('RoofStyle', 6),\n",
       " ('Foundation', 6),\n",
       " ('Heating', 6),\n",
       " ('Functional', 6),\n",
       " ('SaleCondition', 6),\n",
       " ('RoofMatl', 7),\n",
       " ('HouseStyle', 8),\n",
       " ('Condition1', 9),\n",
       " ('SaleType', 9),\n",
       " ('Exterior1st', 15),\n",
       " ('Exterior2nd', 16),\n",
       " ('Neighborhood', 25)]"
      ]
     },
     "execution_count": 14,
     "metadata": {},
     "output_type": "execute_result"
    }
   ],
   "source": [
    "# Get number of unique entries in each column with categorical data\n",
    "object_nunique = list(map(lambda col: X_train[col].nunique(), object_cols))\n",
    "d = dict(zip(object_cols, object_nunique))\n",
    "\n",
    "# Print number of unique entries by column, in ascending order\n",
    "sorted(d.items(), key=lambda x: x[1])"
   ]
  },
  {
   "cell_type": "markdown",
   "id": "1141fbe2",
   "metadata": {
    "papermill": {
     "duration": 0.055455,
     "end_time": "2021-08-14T13:53:51.112624",
     "exception": false,
     "start_time": "2021-08-14T13:53:51.057169",
     "status": "completed"
    },
    "tags": []
   },
   "source": [
    "# Step 3: Investigating cardinality\n",
    "\n",
    "### Part A\n",
    "\n",
    "The output above shows, for each column with categorical data, the number of unique values in the column.  For instance, the `'Street'` column in the training data has two unique values: `'Grvl'` and `'Pave'`, corresponding to a gravel road and a paved road, respectively.\n",
    "\n",
    "We refer to the number of unique entries of a categorical variable as the **cardinality** of that categorical variable.  For instance, the `'Street'` variable has cardinality 2.\n",
    "\n",
    "Use the output above to answer the questions below."
   ]
  },
  {
   "cell_type": "code",
   "execution_count": 15,
   "id": "3942e46c",
   "metadata": {
    "execution": {
     "iopub.execute_input": "2021-08-14T13:53:51.230210Z",
     "iopub.status.busy": "2021-08-14T13:53:51.229510Z",
     "iopub.status.idle": "2021-08-14T13:53:51.231890Z",
     "shell.execute_reply": "2021-08-14T13:53:51.232338Z",
     "shell.execute_reply.started": "2021-08-14T13:24:19.169936Z"
    },
    "papermill": {
     "duration": 0.063224,
     "end_time": "2021-08-14T13:53:51.232519",
     "exception": false,
     "start_time": "2021-08-14T13:53:51.169295",
     "status": "completed"
    },
    "tags": []
   },
   "outputs": [],
   "source": [
    "d_ = pd.DataFrame(object_nunique, object_cols)"
   ]
  },
  {
   "cell_type": "code",
   "execution_count": 16,
   "id": "bee1e251",
   "metadata": {
    "execution": {
     "iopub.execute_input": "2021-08-14T13:53:51.351704Z",
     "iopub.status.busy": "2021-08-14T13:53:51.351003Z",
     "iopub.status.idle": "2021-08-14T13:53:51.356973Z",
     "shell.execute_reply": "2021-08-14T13:53:51.356310Z",
     "shell.execute_reply.started": "2021-08-14T13:24:19.175654Z"
    },
    "papermill": {
     "duration": 0.069304,
     "end_time": "2021-08-14T13:53:51.357110",
     "exception": false,
     "start_time": "2021-08-14T13:53:51.287806",
     "status": "completed"
    },
    "tags": []
   },
   "outputs": [
    {
     "data": {
      "application/javascript": [
       "parent.postMessage({\"jupyterEvent\": \"custom.exercise_interaction\", \"data\": {\"outcomeType\": 1, \"valueTowardsCompletion\": 0.5, \"interactionType\": 1, \"questionType\": 1, \"questionId\": \"3.1_CardinalityA\", \"learnToolsVersion\": \"0.3.4\", \"failureMessage\": \"\", \"exceptionClass\": \"\", \"trace\": \"\"}}, \"*\")"
      ],
      "text/plain": [
       "<IPython.core.display.Javascript object>"
      ]
     },
     "metadata": {},
     "output_type": "display_data"
    },
    {
     "data": {
      "text/markdown": [
       "<span style=\"color:#33cc33\">Correct</span>"
      ],
      "text/plain": [
       "Correct"
      ]
     },
     "metadata": {},
     "output_type": "display_data"
    }
   ],
   "source": [
    "# Fill in the line below: How many categorical variables in the training data\n",
    "# have cardinality greater than 10?\n",
    "high_cardinality_numcols = len(d_[d_.iloc[:,0]>10])\n",
    "\n",
    "# Fill in the line below: How many columns are needed to one-hot encode the \n",
    "# 'Neighborhood' variable in the training data?\n",
    "num_cols_neighborhood = d_.T['Neighborhood'].iloc[0]\n",
    "\n",
    "# Check your answers\n",
    "step_3.a.check()"
   ]
  },
  {
   "cell_type": "code",
   "execution_count": 17,
   "id": "ff1ddfbf",
   "metadata": {
    "execution": {
     "iopub.execute_input": "2021-08-14T13:53:51.479074Z",
     "iopub.status.busy": "2021-08-14T13:53:51.477941Z",
     "iopub.status.idle": "2021-08-14T13:53:51.486785Z",
     "shell.execute_reply": "2021-08-14T13:53:51.487524Z",
     "shell.execute_reply.started": "2021-08-14T13:24:19.195031Z"
    },
    "papermill": {
     "duration": 0.073562,
     "end_time": "2021-08-14T13:53:51.487776",
     "exception": false,
     "start_time": "2021-08-14T13:53:51.414214",
     "status": "completed"
    },
    "tags": []
   },
   "outputs": [
    {
     "data": {
      "application/javascript": [
       "parent.postMessage({\"jupyterEvent\": \"custom.exercise_interaction\", \"data\": {\"interactionType\": 2, \"questionType\": 1, \"questionId\": \"3.1_CardinalityA\", \"learnToolsVersion\": \"0.3.4\", \"valueTowardsCompletion\": 0.0, \"failureMessage\": \"\", \"exceptionClass\": \"\", \"trace\": \"\", \"outcomeType\": 4}}, \"*\")"
      ],
      "text/plain": [
       "<IPython.core.display.Javascript object>"
      ]
     },
     "metadata": {},
     "output_type": "display_data"
    },
    {
     "data": {
      "text/markdown": [
       "<span style=\"color:#3366cc\">Hint:</span> To one-hot encode a variable, we need one column for each unique entry."
      ],
      "text/plain": [
       "Hint: To one-hot encode a variable, we need one column for each unique entry."
      ]
     },
     "metadata": {},
     "output_type": "display_data"
    },
    {
     "data": {
      "application/javascript": [
       "parent.postMessage({\"jupyterEvent\": \"custom.exercise_interaction\", \"data\": {\"interactionType\": 3, \"questionType\": 1, \"questionId\": \"3.1_CardinalityA\", \"learnToolsVersion\": \"0.3.4\", \"valueTowardsCompletion\": 0.0, \"failureMessage\": \"\", \"exceptionClass\": \"\", \"trace\": \"\", \"outcomeType\": 4}}, \"*\")"
      ],
      "text/plain": [
       "<IPython.core.display.Javascript object>"
      ]
     },
     "metadata": {},
     "output_type": "display_data"
    },
    {
     "data": {
      "text/markdown": [
       "<span style=\"color:#33cc99\">Solution:</span> \n",
       "```python\n",
       "# How many categorical variables in the training data\n",
       "# have cardinality greater than 10?\n",
       "high_cardinality_numcols = 3\n",
       "\n",
       "# How many columns are needed to one-hot encode the\n",
       "# 'Neighborhood' variable in the training data?\n",
       "num_cols_neighborhood = 25\n",
       "\n",
       "```"
      ],
      "text/plain": [
       "Solution: \n",
       "```python\n",
       "# How many categorical variables in the training data\n",
       "# have cardinality greater than 10?\n",
       "high_cardinality_numcols = 3\n",
       "\n",
       "# How many columns are needed to one-hot encode the\n",
       "# 'Neighborhood' variable in the training data?\n",
       "num_cols_neighborhood = 25\n",
       "\n",
       "```"
      ]
     },
     "metadata": {},
     "output_type": "display_data"
    }
   ],
   "source": [
    "# Lines below will give you a hint or solution code\n",
    "step_3.a.hint()\n",
    "step_3.a.solution()"
   ]
  },
  {
   "cell_type": "markdown",
   "id": "64814f02",
   "metadata": {
    "papermill": {
     "duration": 0.06631,
     "end_time": "2021-08-14T13:53:51.625125",
     "exception": false,
     "start_time": "2021-08-14T13:53:51.558815",
     "status": "completed"
    },
    "tags": []
   },
   "source": [
    "### Part B\n",
    "\n",
    "For large datasets with many rows, one-hot encoding can greatly expand the size of the dataset.  For this reason, we typically will only one-hot encode columns with relatively low cardinality.  Then, high cardinality columns can either be dropped from the dataset, or we can use ordinal encoding.\n",
    "\n",
    "As an example, consider a dataset with 10,000 rows, and containing one categorical column with 100 unique entries.  \n",
    "- If this column is replaced with the corresponding one-hot encoding, how many entries are added to the dataset?  \n",
    "- If we instead replace the column with the ordinal encoding, how many entries are added?  \n",
    "\n",
    "Use your answers to fill in the lines below."
   ]
  },
  {
   "cell_type": "code",
   "execution_count": 18,
   "id": "fb3031c1",
   "metadata": {
    "execution": {
     "iopub.execute_input": "2021-08-14T13:53:51.757525Z",
     "iopub.status.busy": "2021-08-14T13:53:51.756529Z",
     "iopub.status.idle": "2021-08-14T13:53:51.763493Z",
     "shell.execute_reply": "2021-08-14T13:53:51.762857Z",
     "shell.execute_reply.started": "2021-08-14T13:24:19.210534Z"
    },
    "papermill": {
     "duration": 0.078045,
     "end_time": "2021-08-14T13:53:51.763651",
     "exception": false,
     "start_time": "2021-08-14T13:53:51.685606",
     "status": "completed"
    },
    "tags": []
   },
   "outputs": [
    {
     "data": {
      "application/javascript": [
       "parent.postMessage({\"jupyterEvent\": \"custom.exercise_interaction\", \"data\": {\"outcomeType\": 1, \"valueTowardsCompletion\": 0.5, \"interactionType\": 1, \"questionType\": 1, \"questionId\": \"3.2_CardinalityB\", \"learnToolsVersion\": \"0.3.4\", \"failureMessage\": \"\", \"exceptionClass\": \"\", \"trace\": \"\"}}, \"*\")"
      ],
      "text/plain": [
       "<IPython.core.display.Javascript object>"
      ]
     },
     "metadata": {},
     "output_type": "display_data"
    },
    {
     "data": {
      "text/markdown": [
       "<span style=\"color:#33cc33\">Correct</span>"
      ],
      "text/plain": [
       "Correct"
      ]
     },
     "metadata": {},
     "output_type": "display_data"
    }
   ],
   "source": [
    "# Fill in the line below: How many entries are added to the dataset by \n",
    "# replacing the column with a one-hot encoding?\n",
    "OH_entries_added = 10000*100-10000\n",
    "\n",
    "# Fill in the line below: How many entries are added to the dataset by\n",
    "# replacing the column with an ordinal encoding?\n",
    "label_entries_added = 0\n",
    "\n",
    "# Check your answers\n",
    "step_3.b.check()"
   ]
  },
  {
   "cell_type": "code",
   "execution_count": 19,
   "id": "85cd3420",
   "metadata": {
    "execution": {
     "iopub.execute_input": "2021-08-14T13:53:51.899982Z",
     "iopub.status.busy": "2021-08-14T13:53:51.899023Z",
     "iopub.status.idle": "2021-08-14T13:53:51.908704Z",
     "shell.execute_reply": "2021-08-14T13:53:51.909136Z",
     "shell.execute_reply.started": "2021-08-14T13:24:19.222759Z"
    },
    "papermill": {
     "duration": 0.074987,
     "end_time": "2021-08-14T13:53:51.909301",
     "exception": false,
     "start_time": "2021-08-14T13:53:51.834314",
     "status": "completed"
    },
    "tags": []
   },
   "outputs": [
    {
     "data": {
      "application/javascript": [
       "parent.postMessage({\"jupyterEvent\": \"custom.exercise_interaction\", \"data\": {\"interactionType\": 2, \"questionType\": 1, \"questionId\": \"3.2_CardinalityB\", \"learnToolsVersion\": \"0.3.4\", \"valueTowardsCompletion\": 0.0, \"failureMessage\": \"\", \"exceptionClass\": \"\", \"trace\": \"\", \"outcomeType\": 4}}, \"*\")"
      ],
      "text/plain": [
       "<IPython.core.display.Javascript object>"
      ]
     },
     "metadata": {},
     "output_type": "display_data"
    },
    {
     "data": {
      "text/markdown": [
       "<span style=\"color:#3366cc\">Hint:</span> To calculate how many entries are added to the dataset through the one-hot encoding, begin by calculating how many entries are needed to encode the categorical variable (by multiplying the number of rows by the number of columns in the one-hot encoding). Then, to obtain how many entries are **added** to the dataset, subtract the number of entries in the original column."
      ],
      "text/plain": [
       "Hint: To calculate how many entries are added to the dataset through the one-hot encoding, begin by calculating how many entries are needed to encode the categorical variable (by multiplying the number of rows by the number of columns in the one-hot encoding). Then, to obtain how many entries are **added** to the dataset, subtract the number of entries in the original column."
      ]
     },
     "metadata": {},
     "output_type": "display_data"
    },
    {
     "data": {
      "application/javascript": [
       "parent.postMessage({\"jupyterEvent\": \"custom.exercise_interaction\", \"data\": {\"interactionType\": 3, \"questionType\": 1, \"questionId\": \"3.2_CardinalityB\", \"learnToolsVersion\": \"0.3.4\", \"valueTowardsCompletion\": 0.0, \"failureMessage\": \"\", \"exceptionClass\": \"\", \"trace\": \"\", \"outcomeType\": 4}}, \"*\")"
      ],
      "text/plain": [
       "<IPython.core.display.Javascript object>"
      ]
     },
     "metadata": {},
     "output_type": "display_data"
    },
    {
     "data": {
      "text/markdown": [
       "<span style=\"color:#33cc99\">Solution:</span> \n",
       "```python\n",
       "# How many entries are added to the dataset by\n",
       "# replacing the column with a one-hot encoding?\n",
       "OH_entries_added = 1e4*100 - 1e4\n",
       "\n",
       "# How many entries are added to the dataset by\n",
       "# replacing the column with an ordinal encoding?\n",
       "label_entries_added = 0\n",
       "\n",
       "```"
      ],
      "text/plain": [
       "Solution: \n",
       "```python\n",
       "# How many entries are added to the dataset by\n",
       "# replacing the column with a one-hot encoding?\n",
       "OH_entries_added = 1e4*100 - 1e4\n",
       "\n",
       "# How many entries are added to the dataset by\n",
       "# replacing the column with an ordinal encoding?\n",
       "label_entries_added = 0\n",
       "\n",
       "```"
      ]
     },
     "metadata": {},
     "output_type": "display_data"
    }
   ],
   "source": [
    "# Lines below will give you a hint or solution code\n",
    "step_3.b.hint()\n",
    "step_3.b.solution()"
   ]
  },
  {
   "cell_type": "markdown",
   "id": "da63877f",
   "metadata": {
    "papermill": {
     "duration": 0.06209,
     "end_time": "2021-08-14T13:53:52.032921",
     "exception": false,
     "start_time": "2021-08-14T13:53:51.970831",
     "status": "completed"
    },
    "tags": []
   },
   "source": [
    "Next, you'll experiment with one-hot encoding.  But, instead of encoding all of the categorical variables in the dataset, you'll only create a one-hot encoding for columns with cardinality less than 10.\n",
    "\n",
    "Run the code cell below without changes to set `low_cardinality_cols` to a Python list containing the columns that will be one-hot encoded.  Likewise, `high_cardinality_cols` contains a list of categorical columns that will be dropped from the dataset."
   ]
  },
  {
   "cell_type": "code",
   "execution_count": 20,
   "id": "0e06c473",
   "metadata": {
    "execution": {
     "iopub.execute_input": "2021-08-14T13:53:52.166500Z",
     "iopub.status.busy": "2021-08-14T13:53:52.164500Z",
     "iopub.status.idle": "2021-08-14T13:53:52.181491Z",
     "shell.execute_reply": "2021-08-14T13:53:52.182254Z",
     "shell.execute_reply.started": "2021-08-14T13:24:19.237948Z"
    },
    "papermill": {
     "duration": 0.08728,
     "end_time": "2021-08-14T13:53:52.182500",
     "exception": false,
     "start_time": "2021-08-14T13:53:52.095220",
     "status": "completed"
    },
    "tags": []
   },
   "outputs": [
    {
     "name": "stdout",
     "output_type": "stream",
     "text": [
      "Categorical columns that will be one-hot encoded: ['MSZoning', 'Street', 'LotShape', 'LandContour', 'Utilities', 'LotConfig', 'LandSlope', 'Condition1', 'Condition2', 'BldgType', 'HouseStyle', 'RoofStyle', 'RoofMatl', 'ExterQual', 'ExterCond', 'Foundation', 'Heating', 'HeatingQC', 'CentralAir', 'KitchenQual', 'Functional', 'PavedDrive', 'SaleType', 'SaleCondition']\n",
      "\n",
      "Categorical columns that will be dropped from the dataset: ['Exterior2nd', 'Exterior1st', 'Neighborhood']\n"
     ]
    }
   ],
   "source": [
    "# Columns that will be one-hot encoded\n",
    "low_cardinality_cols = [col for col in object_cols if X_train[col].nunique() < 10]\n",
    "\n",
    "# Columns that will be dropped from the dataset\n",
    "high_cardinality_cols = list(set(object_cols)-set(low_cardinality_cols))\n",
    "\n",
    "print('Categorical columns that will be one-hot encoded:', low_cardinality_cols)\n",
    "print('\\nCategorical columns that will be dropped from the dataset:', high_cardinality_cols)"
   ]
  },
  {
   "cell_type": "markdown",
   "id": "1955b3e3",
   "metadata": {
    "papermill": {
     "duration": 0.061817,
     "end_time": "2021-08-14T13:53:52.313860",
     "exception": false,
     "start_time": "2021-08-14T13:53:52.252043",
     "status": "completed"
    },
    "tags": []
   },
   "source": [
    "# Step 4: One-hot encoding\n",
    "\n",
    "Use the next code cell to one-hot encode the data in `X_train` and `X_valid`.  Set the preprocessed DataFrames to `OH_X_train` and `OH_X_valid`, respectively.  \n",
    "- The full list of categorical columns in the dataset can be found in the Python list `object_cols`.\n",
    "- You should only one-hot encode the categorical columns in `low_cardinality_cols`.  All other categorical columns should be dropped from the dataset. "
   ]
  },
  {
   "cell_type": "code",
   "execution_count": 21,
   "id": "b130a244",
   "metadata": {
    "execution": {
     "iopub.execute_input": "2021-08-14T13:53:52.459709Z",
     "iopub.status.busy": "2021-08-14T13:53:52.458725Z",
     "iopub.status.idle": "2021-08-14T13:53:52.487449Z",
     "shell.execute_reply": "2021-08-14T13:53:52.487972Z",
     "shell.execute_reply.started": "2021-08-14T13:24:19.259343Z"
    },
    "papermill": {
     "duration": 0.111922,
     "end_time": "2021-08-14T13:53:52.488137",
     "exception": false,
     "start_time": "2021-08-14T13:53:52.376215",
     "status": "completed"
    },
    "tags": []
   },
   "outputs": [
    {
     "data": {
      "application/javascript": [
       "parent.postMessage({\"jupyterEvent\": \"custom.exercise_interaction\", \"data\": {\"outcomeType\": 1, \"valueTowardsCompletion\": 0.5, \"interactionType\": 1, \"questionType\": 2, \"questionId\": \"4_OneHot\", \"learnToolsVersion\": \"0.3.4\", \"failureMessage\": \"\", \"exceptionClass\": \"\", \"trace\": \"\"}}, \"*\")"
      ],
      "text/plain": [
       "<IPython.core.display.Javascript object>"
      ]
     },
     "metadata": {},
     "output_type": "display_data"
    },
    {
     "data": {
      "text/markdown": [
       "<span style=\"color:#33cc33\">Correct</span>"
      ],
      "text/plain": [
       "Correct"
      ]
     },
     "metadata": {},
     "output_type": "display_data"
    }
   ],
   "source": [
    "from sklearn.preprocessing import OneHotEncoder\n",
    "\n",
    "# Use as many lines of code as you need!\n",
    "OH_encoder = OneHotEncoder(handle_unknown='ignore', sparse=False)\n",
    "OH_cols_train = pd.DataFrame(OH_encoder.fit_transform(X_train[low_cardinality_cols]))\n",
    "OH_cols_valid = pd.DataFrame(OH_encoder.transform(X_valid[low_cardinality_cols]))\n",
    "\n",
    "# One-hot encoding removed index; put it back\n",
    "OH_cols_train.index = X_train.index\n",
    "OH_cols_valid.index = X_valid.index\n",
    "\n",
    "# Remove categorical columns (will replace with one-hot encoding)\n",
    "num_X_train = X_train.drop(object_cols, axis=1)\n",
    "num_X_valid = X_valid.drop(object_cols, axis=1)\n",
    "\n",
    "# Add one-hot encoded columns to numerical features\n",
    "OH_X_train = pd.concat([num_X_train, OH_cols_train], axis=1)\n",
    "OH_X_valid = pd.concat([num_X_valid, OH_cols_valid], axis=1)\n",
    "\n",
    "# Check your answer\n",
    "step_4.check()"
   ]
  },
  {
   "cell_type": "code",
   "execution_count": 22,
   "id": "cb1d6df3",
   "metadata": {
    "execution": {
     "iopub.execute_input": "2021-08-14T13:53:52.619054Z",
     "iopub.status.busy": "2021-08-14T13:53:52.618104Z",
     "iopub.status.idle": "2021-08-14T13:53:52.630311Z",
     "shell.execute_reply": "2021-08-14T13:53:52.629702Z",
     "shell.execute_reply.started": "2021-08-14T13:24:19.312967Z"
    },
    "papermill": {
     "duration": 0.079222,
     "end_time": "2021-08-14T13:53:52.630464",
     "exception": false,
     "start_time": "2021-08-14T13:53:52.551242",
     "status": "completed"
    },
    "tags": []
   },
   "outputs": [
    {
     "data": {
      "application/javascript": [
       "parent.postMessage({\"jupyterEvent\": \"custom.exercise_interaction\", \"data\": {\"interactionType\": 2, \"questionType\": 2, \"questionId\": \"4_OneHot\", \"learnToolsVersion\": \"0.3.4\", \"valueTowardsCompletion\": 0.0, \"failureMessage\": \"\", \"exceptionClass\": \"\", \"trace\": \"\", \"outcomeType\": 4}}, \"*\")"
      ],
      "text/plain": [
       "<IPython.core.display.Javascript object>"
      ]
     },
     "metadata": {},
     "output_type": "display_data"
    },
    {
     "data": {
      "text/markdown": [
       "<span style=\"color:#3366cc\">Hint:</span> Begin by applying the one-hot encoder to the low cardinality columns in the training and validation data in `X_train[low_cardinality_cols]` and `X_valid[low_cardinality_cols]`, respectively."
      ],
      "text/plain": [
       "Hint: Begin by applying the one-hot encoder to the low cardinality columns in the training and validation data in `X_train[low_cardinality_cols]` and `X_valid[low_cardinality_cols]`, respectively."
      ]
     },
     "metadata": {},
     "output_type": "display_data"
    },
    {
     "data": {
      "application/javascript": [
       "parent.postMessage({\"jupyterEvent\": \"custom.exercise_interaction\", \"data\": {\"interactionType\": 3, \"questionType\": 2, \"questionId\": \"4_OneHot\", \"learnToolsVersion\": \"0.3.4\", \"valueTowardsCompletion\": 0.0, \"failureMessage\": \"\", \"exceptionClass\": \"\", \"trace\": \"\", \"outcomeType\": 4}}, \"*\")"
      ],
      "text/plain": [
       "<IPython.core.display.Javascript object>"
      ]
     },
     "metadata": {},
     "output_type": "display_data"
    },
    {
     "data": {
      "text/markdown": [
       "<span style=\"color:#33cc99\">Solution:</span> \n",
       "```python\n",
       "# Apply one-hot encoder to each column with categorical data\n",
       "OH_encoder = OneHotEncoder(handle_unknown='ignore', sparse=False)\n",
       "OH_cols_train = pd.DataFrame(OH_encoder.fit_transform(X_train[low_cardinality_cols]))\n",
       "OH_cols_valid = pd.DataFrame(OH_encoder.transform(X_valid[low_cardinality_cols]))\n",
       "\n",
       "# One-hot encoding removed index; put it back\n",
       "OH_cols_train.index = X_train.index\n",
       "OH_cols_valid.index = X_valid.index\n",
       "\n",
       "# Remove categorical columns (will replace with one-hot encoding)\n",
       "num_X_train = X_train.drop(object_cols, axis=1)\n",
       "num_X_valid = X_valid.drop(object_cols, axis=1)\n",
       "\n",
       "# Add one-hot encoded columns to numerical features\n",
       "OH_X_train = pd.concat([num_X_train, OH_cols_train], axis=1)\n",
       "OH_X_valid = pd.concat([num_X_valid, OH_cols_valid], axis=1)\n",
       "\n",
       "\n",
       "```"
      ],
      "text/plain": [
       "Solution: \n",
       "```python\n",
       "# Apply one-hot encoder to each column with categorical data\n",
       "OH_encoder = OneHotEncoder(handle_unknown='ignore', sparse=False)\n",
       "OH_cols_train = pd.DataFrame(OH_encoder.fit_transform(X_train[low_cardinality_cols]))\n",
       "OH_cols_valid = pd.DataFrame(OH_encoder.transform(X_valid[low_cardinality_cols]))\n",
       "\n",
       "# One-hot encoding removed index; put it back\n",
       "OH_cols_train.index = X_train.index\n",
       "OH_cols_valid.index = X_valid.index\n",
       "\n",
       "# Remove categorical columns (will replace with one-hot encoding)\n",
       "num_X_train = X_train.drop(object_cols, axis=1)\n",
       "num_X_valid = X_valid.drop(object_cols, axis=1)\n",
       "\n",
       "# Add one-hot encoded columns to numerical features\n",
       "OH_X_train = pd.concat([num_X_train, OH_cols_train], axis=1)\n",
       "OH_X_valid = pd.concat([num_X_valid, OH_cols_valid], axis=1)\n",
       "\n",
       "\n",
       "```"
      ]
     },
     "metadata": {},
     "output_type": "display_data"
    }
   ],
   "source": [
    "# Lines below will give you a hint or solution code\n",
    "step_4.hint()\n",
    "step_4.solution()"
   ]
  },
  {
   "cell_type": "markdown",
   "id": "20cde017",
   "metadata": {
    "papermill": {
     "duration": 0.064803,
     "end_time": "2021-08-14T13:53:52.759936",
     "exception": false,
     "start_time": "2021-08-14T13:53:52.695133",
     "status": "completed"
    },
    "tags": []
   },
   "source": [
    "Run the next code cell to get the MAE for this approach."
   ]
  },
  {
   "cell_type": "code",
   "execution_count": 23,
   "id": "fa0b498a",
   "metadata": {
    "execution": {
     "iopub.execute_input": "2021-08-14T13:53:52.892326Z",
     "iopub.status.busy": "2021-08-14T13:53:52.891722Z",
     "iopub.status.idle": "2021-08-14T13:53:54.862095Z",
     "shell.execute_reply": "2021-08-14T13:53:54.861507Z",
     "shell.execute_reply.started": "2021-08-14T12:26:51.510063Z"
    },
    "papermill": {
     "duration": 2.037712,
     "end_time": "2021-08-14T13:53:54.862240",
     "exception": false,
     "start_time": "2021-08-14T13:53:52.824528",
     "status": "completed"
    },
    "tags": []
   },
   "outputs": [
    {
     "name": "stdout",
     "output_type": "stream",
     "text": [
      "MAE from Approach 3 (One-Hot Encoding):\n",
      "17525.345719178084\n"
     ]
    }
   ],
   "source": [
    "print(\"MAE from Approach 3 (One-Hot Encoding):\") \n",
    "print(score_dataset(OH_X_train, OH_X_valid, y_train, y_valid))"
   ]
  },
  {
   "cell_type": "markdown",
   "id": "ada14fff",
   "metadata": {
    "papermill": {
     "duration": 0.065547,
     "end_time": "2021-08-14T13:53:54.993767",
     "exception": false,
     "start_time": "2021-08-14T13:53:54.928220",
     "status": "completed"
    },
    "tags": []
   },
   "source": [
    "### Using only 'Exercise: Categorical Variables' Algorithms"
   ]
  },
  {
   "cell_type": "code",
   "execution_count": 24,
   "id": "c57bd2dd",
   "metadata": {
    "execution": {
     "iopub.execute_input": "2021-08-14T13:53:55.134495Z",
     "iopub.status.busy": "2021-08-14T13:53:55.133821Z",
     "iopub.status.idle": "2021-08-14T13:53:55.235151Z",
     "shell.execute_reply": "2021-08-14T13:53:55.234596Z",
     "shell.execute_reply.started": "2021-08-14T13:35:39.761535Z"
    },
    "papermill": {
     "duration": 0.175817,
     "end_time": "2021-08-14T13:53:55.235294",
     "exception": false,
     "start_time": "2021-08-14T13:53:55.059477",
     "status": "completed"
    },
    "tags": []
   },
   "outputs": [],
   "source": [
    "import pandas as pd\n",
    "from sklearn.model_selection import train_test_split\n",
    "\n",
    "# Read the data\n",
    "X = pd.read_csv('../input/train.csv', index_col='Id') \n",
    "X_test = pd.read_csv('../input/test.csv', index_col='Id')\n",
    "\n",
    "# Remove rows with missing target, separate target from predictors\n",
    "X.dropna(axis=0, subset=['SalePrice'], inplace=True)\n",
    "y = X.SalePrice\n",
    "X.drop(['SalePrice'], axis=1, inplace=True)\n",
    "\n",
    "# To keep things simple, we'll drop columns with missing values\n",
    "cols_with_missing = [col for col in X.columns if X[col].isnull().any()] \n",
    "X.drop(cols_with_missing, axis=1, inplace=True)\n",
    "X_test.drop(cols_with_missing, axis=1, inplace=True)\n",
    "\n",
    "# To keep things simple, we'll drop columns with missing values\n",
    "cols_with_missing = [col for col in X_test.columns if X_test[col].isnull().any()] \n",
    "X.drop(cols_with_missing, axis=1, inplace=True)\n",
    "X_test.drop(cols_with_missing, axis=1, inplace=True)"
   ]
  },
  {
   "cell_type": "code",
   "execution_count": 25,
   "id": "73e2b20d",
   "metadata": {
    "execution": {
     "iopub.execute_input": "2021-08-14T13:53:55.379379Z",
     "iopub.status.busy": "2021-08-14T13:53:55.378328Z",
     "iopub.status.idle": "2021-08-14T13:53:55.429248Z",
     "shell.execute_reply": "2021-08-14T13:53:55.429733Z",
     "shell.execute_reply.started": "2021-08-14T13:35:49.584560Z"
    },
    "papermill": {
     "duration": 0.12901,
     "end_time": "2021-08-14T13:53:55.429912",
     "exception": false,
     "start_time": "2021-08-14T13:53:55.300902",
     "status": "completed"
    },
    "tags": []
   },
   "outputs": [],
   "source": [
    "object_cols = [col for col in X.columns if X[col].dtype == \"object\"]\n",
    "\n",
    "# Columns that will be one-hot encoded\n",
    "low_cardinality_cols = [col for col in object_cols if X[col].nunique() < 10]\n",
    "\n",
    "# Columns that will be dropped from the dataset\n",
    "high_cardinality_cols = list(set(object_cols)-set(low_cardinality_cols))\n",
    "\n",
    "# Preprocessed training and validation features\n",
    "from sklearn.preprocessing import OneHotEncoder\n",
    "\n",
    "# Use as many lines of code as you need!\n",
    "OH_encoder = OneHotEncoder(handle_unknown='ignore', sparse=False)\n",
    "OH_cols_X = pd.DataFrame(OH_encoder.fit_transform(X[low_cardinality_cols]))\n",
    "OH_cols_X_test = pd.DataFrame(OH_encoder.transform(X_test[low_cardinality_cols]))\n",
    "\n",
    "# One-hot encoding removed index; put it back\n",
    "OH_cols_X.index = X.index\n",
    "OH_cols_X_test.index = X_test.index\n",
    "\n",
    "# Remove categorical columns (will replace with one-hot encoding)\n",
    "num_X = X.drop(object_cols, axis=1)\n",
    "num_X_test = X_test.drop(object_cols, axis=1)\n",
    "\n",
    "# Add one-hot encoded columns to numerical features\n",
    "OH_X = pd.concat([num_X, OH_cols_X], axis=1)\n",
    "OH_X_test = pd.concat([num_X_test, OH_cols_X_test], axis=1)"
   ]
  },
  {
   "cell_type": "code",
   "execution_count": 26,
   "id": "0d2339c9",
   "metadata": {
    "execution": {
     "iopub.execute_input": "2021-08-14T13:53:55.565045Z",
     "iopub.status.busy": "2021-08-14T13:53:55.564072Z",
     "iopub.status.idle": "2021-08-14T13:53:57.630255Z",
     "shell.execute_reply": "2021-08-14T13:53:57.629463Z",
     "shell.execute_reply.started": "2021-08-14T13:36:00.505367Z"
    },
    "papermill": {
     "duration": 2.134428,
     "end_time": "2021-08-14T13:53:57.630553",
     "exception": true,
     "start_time": "2021-08-14T13:53:55.496125",
     "status": "failed"
    },
    "tags": []
   },
   "outputs": [
    {
     "ename": "NameError",
     "evalue": "name 'X_test_index' is not defined",
     "output_type": "error",
     "traceback": [
      "\u001b[0;31m---------------------------------------------------------------------------\u001b[0m",
      "\u001b[0;31mNameError\u001b[0m                                 Traceback (most recent call last)",
      "\u001b[0;32m<ipython-input-26-5b8973a85a9f>\u001b[0m in \u001b[0;36m<module>\u001b[0;34m\u001b[0m\n\u001b[1;32m      6\u001b[0m \u001b[0;34m\u001b[0m\u001b[0m\n\u001b[1;32m      7\u001b[0m \u001b[0;31m# Save test predictions to file\u001b[0m\u001b[0;34m\u001b[0m\u001b[0;34m\u001b[0m\u001b[0;34m\u001b[0m\u001b[0m\n\u001b[0;32m----> 8\u001b[0;31m output = pd.DataFrame({'Id': X_test_index,\n\u001b[0m\u001b[1;32m      9\u001b[0m                        'SalePrice': preds_test})\n\u001b[1;32m     10\u001b[0m \u001b[0moutput\u001b[0m\u001b[0;34m.\u001b[0m\u001b[0mto_csv\u001b[0m\u001b[0;34m(\u001b[0m\u001b[0;34m'submission.csv'\u001b[0m\u001b[0;34m,\u001b[0m \u001b[0mindex\u001b[0m\u001b[0;34m=\u001b[0m\u001b[0;32mFalse\u001b[0m\u001b[0;34m)\u001b[0m\u001b[0;34m\u001b[0m\u001b[0;34m\u001b[0m\u001b[0m\n",
      "\u001b[0;31mNameError\u001b[0m: name 'X_test_index' is not defined"
     ]
    }
   ],
   "source": [
    "model = RandomForestRegressor(n_estimators=100, random_state=0)\n",
    "model.fit(OH_X, y)\n",
    "\n",
    "# Fill in the line below: get test predictions\n",
    "preds_test = model.predict(OH_X_test)\n",
    "\n",
    "# Save test predictions to file\n",
    "output = pd.DataFrame({'Id': X_test_index,\n",
    "                       'SalePrice': preds_test})\n",
    "output.to_csv('submission.csv', index=False)"
   ]
  },
  {
   "cell_type": "markdown",
   "id": "7e84b4d1",
   "metadata": {
    "papermill": {
     "duration": null,
     "end_time": null,
     "exception": null,
     "start_time": null,
     "status": "pending"
    },
    "tags": []
   },
   "source": [
    "submission score : 17449.87591"
   ]
  },
  {
   "cell_type": "markdown",
   "id": "5e8c4c74",
   "metadata": {
    "papermill": {
     "duration": null,
     "end_time": null,
     "exception": null,
     "start_time": null,
     "status": "pending"
    },
    "tags": []
   },
   "source": [
    "# Generate test predictions and submit your results\n",
    "\n",
    "After you complete Step 4, if you'd like to use what you've learned to submit your results to the leaderboard, you'll need to preprocess the test data before generating predictions.\n",
    "\n",
    "**This step is completely optional, and you do not need to submit results to the leaderboard to successfully complete the exercise.**\n",
    "\n",
    "Check out the previous exercise if you need help with remembering how to [join the competition](https://www.kaggle.com/c/home-data-for-ml-course) or save your results to CSV.  Once you have generated a file with your results, follow the instructions below:\n",
    "1. Begin by clicking on the **Save Version** button in the top right corner of the window.  This will generate a pop-up window.  \n",
    "2. Ensure that the **Save and Run All** option is selected, and then click on the **Save** button.\n",
    "3. This generates a window in the bottom left corner of the notebook.  After it has finished running, click on the number to the right of the **Save Version** button.  This pulls up a list of versions on the right of the screen.  Click on the ellipsis **(...)** to the right of the most recent version, and select **Open in Viewer**.  This brings you into view mode of the same page. You will need to scroll down to get back to these instructions.\n",
    "4. Click on the **Output** tab on the right of the screen.  Then, click on the file you would like to submit, and click on the blue **Submit** button to submit your results to the leaderboard.\n",
    "\n",
    "You have now successfully submitted to the competition!\n",
    "\n",
    "If you want to keep working to improve your performance, select the **Edit** button in the top right of the screen. Then you can change your code and repeat the process. There's a lot of room to improve, and you will climb up the leaderboard as you work.\n"
   ]
  },
  {
   "cell_type": "markdown",
   "id": "42e400e0",
   "metadata": {
    "papermill": {
     "duration": null,
     "end_time": null,
     "exception": null,
     "start_time": null,
     "status": "pending"
    },
    "tags": []
   },
   "source": [
    "### Using 'Exercise: Categorical Variables' and 'Exercise: Missing Values' Algorithms"
   ]
  },
  {
   "cell_type": "code",
   "execution_count": null,
   "id": "72616ba6",
   "metadata": {
    "execution": {
     "iopub.execute_input": "2021-08-14T13:39:16.391648Z",
     "iopub.status.busy": "2021-08-14T13:39:16.391095Z",
     "iopub.status.idle": "2021-08-14T13:39:16.459922Z",
     "shell.execute_reply": "2021-08-14T13:39:16.458815Z",
     "shell.execute_reply.started": "2021-08-14T13:39:16.391616Z"
    },
    "papermill": {
     "duration": null,
     "end_time": null,
     "exception": null,
     "start_time": null,
     "status": "pending"
    },
    "tags": []
   },
   "outputs": [],
   "source": [
    "import pandas as pd\n",
    "from sklearn.model_selection import train_test_split\n",
    "\n",
    "# Read the data\n",
    "X = pd.read_csv('../input/train.csv', index_col='Id') \n",
    "X_test = pd.read_csv('../input/test.csv', index_col='Id')\n",
    "X_test_index=X_test.index\n",
    "\n",
    "# Remove rows with missing target, separate target from predictors\n",
    "X.dropna(axis=0, subset=['SalePrice'], inplace=True)\n",
    "y = X.SalePrice\n",
    "X.drop(['SalePrice'], axis=1, inplace=True)"
   ]
  },
  {
   "cell_type": "code",
   "execution_count": null,
   "id": "1e5ec3dd",
   "metadata": {
    "execution": {
     "iopub.execute_input": "2021-08-14T13:39:17.406285Z",
     "iopub.status.busy": "2021-08-14T13:39:17.405852Z",
     "iopub.status.idle": "2021-08-14T13:39:17.436800Z",
     "shell.execute_reply": "2021-08-14T13:39:17.435642Z",
     "shell.execute_reply.started": "2021-08-14T13:39:17.406251Z"
    },
    "papermill": {
     "duration": null,
     "end_time": null,
     "exception": null,
     "start_time": null,
     "status": "pending"
    },
    "tags": []
   },
   "outputs": [],
   "source": [
    "number_X = X.select_dtypes(exclude=['object'])\n",
    "number_X_columns = number_X.columns\n",
    "\n",
    "final_imputer = SimpleImputer(strategy='median')\n",
    "final_number_X = pd.DataFrame(final_imputer.fit_transform(number_X))\n",
    "\n",
    "# Imputation removed column names; put them back\n",
    "final_number_X.columns = number_X.columns\n",
    "\n",
    "number_X_test = X_test.select_dtypes(exclude=['object'])\n",
    "final_number_X_test = pd.DataFrame(final_imputer.transform(number_X_test))\n",
    "\n",
    "# Imputation removed column names; put them back\n",
    "final_number_X_test.columns = number_X_test.columns"
   ]
  },
  {
   "cell_type": "code",
   "execution_count": null,
   "id": "654b7339",
   "metadata": {
    "execution": {
     "iopub.execute_input": "2021-08-14T13:39:18.200237Z",
     "iopub.status.busy": "2021-08-14T13:39:18.199835Z",
     "iopub.status.idle": "2021-08-14T13:39:18.293941Z",
     "shell.execute_reply": "2021-08-14T13:39:18.292925Z",
     "shell.execute_reply.started": "2021-08-14T13:39:18.200204Z"
    },
    "papermill": {
     "duration": null,
     "end_time": null,
     "exception": null,
     "start_time": null,
     "status": "pending"
    },
    "tags": []
   },
   "outputs": [],
   "source": [
    "object_X = X.drop(number_X_columns, axis=1)\n",
    "\n",
    "imputer = SimpleImputer(strategy=\"most_frequent\")\n",
    "final_object_X = pd.DataFrame(imputer.fit_transform(object_X), columns=object_X.columns)\n",
    "\n",
    "object_X_test = X_test.drop(number_X_test.columns, axis=1)\n",
    "\n",
    "final_object_X_test = pd.DataFrame(imputer.transform(object_X_test), columns=object_X_test.columns)"
   ]
  },
  {
   "cell_type": "code",
   "execution_count": null,
   "id": "8d564a12",
   "metadata": {
    "execution": {
     "iopub.execute_input": "2021-08-14T13:39:18.908569Z",
     "iopub.status.busy": "2021-08-14T13:39:18.908149Z",
     "iopub.status.idle": "2021-08-14T13:39:18.916715Z",
     "shell.execute_reply": "2021-08-14T13:39:18.915414Z",
     "shell.execute_reply.started": "2021-08-14T13:39:18.908538Z"
    },
    "papermill": {
     "duration": null,
     "end_time": null,
     "exception": null,
     "start_time": null,
     "status": "pending"
    },
    "tags": []
   },
   "outputs": [],
   "source": [
    "X = pd.concat([final_number_X, final_object_X], axis=1)\n",
    "X_test = pd.concat([final_number_X_test, final_object_X_test], axis=1)"
   ]
  },
  {
   "cell_type": "code",
   "execution_count": null,
   "id": "4d2a6ada",
   "metadata": {
    "execution": {
     "iopub.execute_input": "2021-08-14T13:39:19.652449Z",
     "iopub.status.busy": "2021-08-14T13:39:19.651903Z",
     "iopub.status.idle": "2021-08-14T13:39:19.769235Z",
     "shell.execute_reply": "2021-08-14T13:39:19.768443Z",
     "shell.execute_reply.started": "2021-08-14T13:39:19.652414Z"
    },
    "papermill": {
     "duration": null,
     "end_time": null,
     "exception": null,
     "start_time": null,
     "status": "pending"
    },
    "tags": []
   },
   "outputs": [],
   "source": [
    "# (Optional) Your code here\n",
    "object_cols = [col for col in X.columns if X[col].dtype == \"object\"]\n",
    "# Columns that will be one-hot encoded\n",
    "low_cardinality_cols = [col for col in object_cols if X[col].nunique() < 10]\n",
    "\n",
    "# Columns that will be dropped from the dataset\n",
    "high_cardinality_cols = list(set(object_cols)-set(low_cardinality_cols))\n",
    "\n",
    "# Preprocessed training and validation features\n",
    "from sklearn.preprocessing import OneHotEncoder\n",
    "\n",
    "# Use as many lines of code as you need!\n",
    "OH_encoder = OneHotEncoder(handle_unknown='ignore', sparse=False)\n",
    "OH_cols_X = pd.DataFrame(OH_encoder.fit_transform(X[low_cardinality_cols]))\n",
    "OH_cols_X_test = pd.DataFrame(OH_encoder.transform(X_test[low_cardinality_cols]))\n",
    "\n",
    "# One-hot encoding removed index; put it back\n",
    "OH_cols_X.index = X.index\n",
    "OH_cols_X_test.index = X_test.index\n",
    "\n",
    "# Remove categorical columns (will replace with one-hot encoding)\n",
    "num_X = X.drop(object_cols, axis=1)\n",
    "num_X_test = X_test.drop(object_cols, axis=1)\n",
    "\n",
    "# Add one-hot encoded columns to numerical features\n",
    "OH_X = pd.concat([num_X, OH_cols_X], axis=1)\n",
    "OH_X_test = pd.concat([num_X_test, OH_cols_X_test], axis=1)"
   ]
  },
  {
   "cell_type": "code",
   "execution_count": null,
   "id": "465bac0a",
   "metadata": {
    "execution": {
     "iopub.execute_input": "2021-08-14T13:39:20.416432Z",
     "iopub.status.busy": "2021-08-14T13:39:20.415889Z",
     "iopub.status.idle": "2021-08-14T13:39:20.428684Z",
     "shell.execute_reply": "2021-08-14T13:39:20.427403Z",
     "shell.execute_reply.started": "2021-08-14T13:39:20.416400Z"
    },
    "papermill": {
     "duration": null,
     "end_time": null,
     "exception": null,
     "start_time": null,
     "status": "pending"
    },
    "tags": []
   },
   "outputs": [],
   "source": [
    "# Break off validation set from training data\n",
    "X_train, X_valid, y_train, y_valid = train_test_split(OH_X, y,\n",
    "                                                      train_size=0.8, test_size=0.2,\n",
    "                                                      random_state=0)"
   ]
  },
  {
   "cell_type": "code",
   "execution_count": null,
   "id": "28a1336d",
   "metadata": {
    "execution": {
     "iopub.execute_input": "2021-08-14T13:39:21.278207Z",
     "iopub.status.busy": "2021-08-14T13:39:21.277829Z",
     "iopub.status.idle": "2021-08-14T13:39:23.881798Z",
     "shell.execute_reply": "2021-08-14T13:39:23.880651Z",
     "shell.execute_reply.started": "2021-08-14T13:39:21.278175Z"
    },
    "papermill": {
     "duration": null,
     "end_time": null,
     "exception": null,
     "start_time": null,
     "status": "pending"
    },
    "tags": []
   },
   "outputs": [],
   "source": [
    "print(\"MAE from Approach 3 (One-Hot Encoding):\") \n",
    "print(score_dataset(X_train, X_valid, y_train, y_valid))"
   ]
  },
  {
   "cell_type": "code",
   "execution_count": null,
   "id": "a493e48b",
   "metadata": {
    "execution": {
     "iopub.execute_input": "2021-08-14T13:39:23.883643Z",
     "iopub.status.busy": "2021-08-14T13:39:23.883373Z",
     "iopub.status.idle": "2021-08-14T13:39:27.177880Z",
     "shell.execute_reply": "2021-08-14T13:39:27.176781Z",
     "shell.execute_reply.started": "2021-08-14T13:39:23.883616Z"
    },
    "papermill": {
     "duration": null,
     "end_time": null,
     "exception": null,
     "start_time": null,
     "status": "pending"
    },
    "tags": []
   },
   "outputs": [],
   "source": [
    "model = RandomForestRegressor(n_estimators=100, random_state=0)\n",
    "model.fit(OH_X, y)\n",
    "\n",
    "# Fill in the line below: get test predictions\n",
    "preds_test = model.predict(OH_X_test)\n",
    "\n",
    "# Save test predictions to file\n",
    "output = pd.DataFrame({'Id': X_test_index,\n",
    "                       'SalePrice': preds_test})\n",
    "output.to_csv('submission.csv', index=False)"
   ]
  },
  {
   "cell_type": "markdown",
   "id": "4092dd5e",
   "metadata": {
    "papermill": {
     "duration": null,
     "end_time": null,
     "exception": null,
     "start_time": null,
     "status": "pending"
    },
    "tags": []
   },
   "source": [
    "submission score : 16046.55270"
   ]
  },
  {
   "cell_type": "code",
   "execution_count": null,
   "id": "83caedde",
   "metadata": {
    "execution": {
     "iopub.execute_input": "2021-08-14T13:40:48.681385Z",
     "iopub.status.busy": "2021-08-14T13:40:48.680926Z",
     "iopub.status.idle": "2021-08-14T13:41:21.880110Z",
     "shell.execute_reply": "2021-08-14T13:41:21.879099Z",
     "shell.execute_reply.started": "2021-08-14T13:40:48.681347Z"
    },
    "papermill": {
     "duration": null,
     "end_time": null,
     "exception": null,
     "start_time": null,
     "status": "pending"
    },
    "tags": []
   },
   "outputs": [],
   "source": [
    "# more complex model\n",
    "model = RandomForestRegressor(n_estimators=1000, random_state=0)\n",
    "model.fit(OH_X, y)\n",
    "\n",
    "# Fill in the line below: get test predictions\n",
    "preds_test = model.predict(OH_X_test)\n",
    "\n",
    "# Save test predictions to file\n",
    "output = pd.DataFrame({'Id': X_test_index,\n",
    "                       'SalePrice': preds_test})\n",
    "output.to_csv('submission.csv', index=False)"
   ]
  },
  {
   "cell_type": "markdown",
   "id": "864835f5",
   "metadata": {
    "papermill": {
     "duration": null,
     "end_time": null,
     "exception": null,
     "start_time": null,
     "status": "pending"
    },
    "tags": []
   },
   "source": [
    "submission score : 16056.42324"
   ]
  },
  {
   "cell_type": "code",
   "execution_count": null,
   "id": "193483db",
   "metadata": {
    "execution": {
     "iopub.execute_input": "2021-08-14T13:48:07.352833Z",
     "iopub.status.busy": "2021-08-14T13:48:07.352227Z",
     "iopub.status.idle": "2021-08-14T13:48:07.587064Z",
     "shell.execute_reply": "2021-08-14T13:48:07.586061Z",
     "shell.execute_reply.started": "2021-08-14T13:48:07.352795Z"
    },
    "papermill": {
     "duration": null,
     "end_time": null,
     "exception": null,
     "start_time": null,
     "status": "pending"
    },
    "tags": []
   },
   "outputs": [],
   "source": [
    "from lightgbm import LGBMRegressor\n",
    "\n",
    "# function for comparing different approaches\n",
    "def score_dataset(X_train, X_valid, y_train, y_valid):\n",
    "    model = LGBMRegressor(n_estimators=100)\n",
    "    model.fit(X_train, y_train)\n",
    "    preds = model.predict(X_valid)\n",
    "    return mean_absolute_error(y_valid, preds)\n",
    "\n",
    "print(\"MAE from Approach 3 (One-Hot Encoding):\") \n",
    "print(score_dataset(X_train, X_valid, y_train, y_valid))"
   ]
  },
  {
   "cell_type": "code",
   "execution_count": null,
   "id": "bf03c54f",
   "metadata": {
    "execution": {
     "iopub.execute_input": "2021-08-14T13:44:36.270013Z",
     "iopub.status.busy": "2021-08-14T13:44:36.269572Z",
     "iopub.status.idle": "2021-08-14T13:44:38.071875Z",
     "shell.execute_reply": "2021-08-14T13:44:38.070982Z",
     "shell.execute_reply.started": "2021-08-14T13:44:36.269973Z"
    },
    "papermill": {
     "duration": null,
     "end_time": null,
     "exception": null,
     "start_time": null,
     "status": "pending"
    },
    "tags": []
   },
   "outputs": [],
   "source": [
    "model = LGBMRegressor(n_estimators=100)\n",
    "model.fit(OH_X, y)\n",
    "\n",
    "# Fill in the line below: get test predictions\n",
    "preds_test = model.predict(OH_X_test)\n",
    "\n",
    "# Save test predictions to file\n",
    "output = pd.DataFrame({'Id': X_test_index,\n",
    "                       'SalePrice': preds_test})\n",
    "output.to_csv('submission.csv', index=False)"
   ]
  },
  {
   "cell_type": "markdown",
   "id": "6dcae8ee",
   "metadata": {
    "papermill": {
     "duration": null,
     "end_time": null,
     "exception": null,
     "start_time": null,
     "status": "pending"
    },
    "tags": []
   },
   "source": [
    "submission score : 15533.07015"
   ]
  },
  {
   "cell_type": "code",
   "execution_count": null,
   "id": "6f5b93b7",
   "metadata": {
    "execution": {
     "iopub.execute_input": "2021-08-14T13:48:45.880983Z",
     "iopub.status.busy": "2021-08-14T13:48:45.880591Z",
     "iopub.status.idle": "2021-08-14T13:48:48.102679Z",
     "shell.execute_reply": "2021-08-14T13:48:48.101835Z",
     "shell.execute_reply.started": "2021-08-14T13:48:45.880951Z"
    },
    "papermill": {
     "duration": null,
     "end_time": null,
     "exception": null,
     "start_time": null,
     "status": "pending"
    },
    "tags": []
   },
   "outputs": [],
   "source": [
    "from lightgbm import LGBMRegressor\n",
    "model = LGBMRegressor(n_estimators=1000)\n",
    "model.fit(OH_X, y)\n",
    "\n",
    "# Fill in the line below: get test predictions\n",
    "preds_test = model.predict(OH_X_test)\n",
    "\n",
    "# Save test predictions to file\n",
    "output = pd.DataFrame({'Id': X_test_index,\n",
    "                       'SalePrice': preds_test})\n",
    "output.to_csv('submission.csv', index=False)"
   ]
  },
  {
   "cell_type": "code",
   "execution_count": null,
   "id": "8d7aa5a3",
   "metadata": {
    "execution": {
     "iopub.execute_input": "2021-08-14T13:48:48.104465Z",
     "iopub.status.busy": "2021-08-14T13:48:48.104010Z",
     "iopub.status.idle": "2021-08-14T13:48:50.200160Z",
     "shell.execute_reply": "2021-08-14T13:48:50.199367Z",
     "shell.execute_reply.started": "2021-08-14T13:48:48.104430Z"
    },
    "papermill": {
     "duration": null,
     "end_time": null,
     "exception": null,
     "start_time": null,
     "status": "pending"
    },
    "tags": []
   },
   "outputs": [],
   "source": [
    "# function for comparing different approaches\n",
    "def score_dataset(X_train, X_valid, y_train, y_valid):\n",
    "    model = LGBMRegressor(n_estimators=1000)\n",
    "    model.fit(X_train, y_train)\n",
    "    preds = model.predict(X_valid)\n",
    "    return mean_absolute_error(y_valid, preds)\n",
    "\n",
    "print(\"MAE from Approach 3 (One-Hot Encoding):\") \n",
    "print(score_dataset(X_train, X_valid, y_train, y_valid))"
   ]
  },
  {
   "cell_type": "markdown",
   "id": "51ed03cc",
   "metadata": {
    "papermill": {
     "duration": null,
     "end_time": null,
     "exception": null,
     "start_time": null,
     "status": "pending"
    },
    "tags": []
   },
   "source": [
    "submission score : 15666.65578"
   ]
  },
  {
   "cell_type": "markdown",
   "id": "246c3deb",
   "metadata": {
    "papermill": {
     "duration": null,
     "end_time": null,
     "exception": null,
     "start_time": null,
     "status": "pending"
    },
    "tags": []
   },
   "source": [
    "What I think is important.\n",
    "\n",
    "1. Handling missing values\n",
    "2. Data Structure Transformation (like scale or normalize)\n",
    "3. Model Selection\n",
    "4. Hyper Parameter Selection\n",
    "\n",
    "Selecting learning models that fit the data is important. Also, complex models do not always have good predictive performance."
   ]
  },
  {
   "cell_type": "markdown",
   "id": "7eeb11b6",
   "metadata": {
    "papermill": {
     "duration": null,
     "end_time": null,
     "exception": null,
     "start_time": null,
     "status": "pending"
    },
    "tags": []
   },
   "source": [
    "# Keep going\n",
    "\n",
    "With missing value handling and categorical encoding, your modeling process is getting complex. This complexity gets worse when you want to save your model to use in the future. The key to managing this complexity is something called **pipelines**. \n",
    "\n",
    "**[Learn to use pipelines](https://www.kaggle.com/alexisbcook/pipelines)** to preprocess datasets with categorical variables, missing values and any other messiness your data throws at you."
   ]
  },
  {
   "cell_type": "markdown",
   "id": "573659fa",
   "metadata": {
    "papermill": {
     "duration": null,
     "end_time": null,
     "exception": null,
     "start_time": null,
     "status": "pending"
    },
    "tags": []
   },
   "source": [
    "---\n",
    "\n",
    "\n",
    "\n",
    "\n",
    "*Have questions or comments? Visit the [Learn Discussion forum](https://www.kaggle.com/learn-forum/161289) to chat with other Learners.*"
   ]
  }
 ],
 "metadata": {
  "kernelspec": {
   "display_name": "Python 3",
   "language": "python",
   "name": "python3"
  },
  "language_info": {
   "codemirror_mode": {
    "name": "ipython",
    "version": 3
   },
   "file_extension": ".py",
   "mimetype": "text/x-python",
   "name": "python",
   "nbconvert_exporter": "python",
   "pygments_lexer": "ipython3",
   "version": "3.7.10"
  },
  "papermill": {
   "default_parameters": {},
   "duration": 22.732858,
   "end_time": "2021-08-14T13:53:59.347793",
   "environment_variables": {},
   "exception": true,
   "input_path": "__notebook__.ipynb",
   "output_path": "__notebook__.ipynb",
   "parameters": {},
   "start_time": "2021-08-14T13:53:36.614935",
   "version": "2.3.3"
  }
 },
 "nbformat": 4,
 "nbformat_minor": 5
}
