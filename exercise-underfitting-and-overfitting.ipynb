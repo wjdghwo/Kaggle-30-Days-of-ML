{
 "cells": [
  {
   "cell_type": "markdown",
   "id": "b558c161",
   "metadata": {
    "papermill": {
     "duration": 0.012268,
     "end_time": "2021-08-12T13:35:02.745313",
     "exception": false,
     "start_time": "2021-08-12T13:35:02.733045",
     "status": "completed"
    },
    "tags": []
   },
   "source": [
    "**This notebook is an exercise in the [Introduction to Machine Learning](https://www.kaggle.com/learn/intro-to-machine-learning) course.  You can reference the tutorial at [this link](https://www.kaggle.com/dansbecker/underfitting-and-overfitting).**\n",
    "\n",
    "---\n"
   ]
  },
  {
   "cell_type": "markdown",
   "id": "673d0d36",
   "metadata": {
    "papermill": {
     "duration": 0.010845,
     "end_time": "2021-08-12T13:35:02.768251",
     "exception": false,
     "start_time": "2021-08-12T13:35:02.757406",
     "status": "completed"
    },
    "tags": []
   },
   "source": [
    "## Recap\n",
    "You've built your first model, and now it's time to optimize the size of the tree to make better predictions. Run this cell to set up your coding environment where the previous step left off."
   ]
  },
  {
   "cell_type": "code",
   "execution_count": 1,
   "id": "e6920de8",
   "metadata": {
    "execution": {
     "iopub.execute_input": "2021-08-12T13:35:02.807780Z",
     "iopub.status.busy": "2021-08-12T13:35:02.807126Z",
     "iopub.status.idle": "2021-08-12T13:35:04.102003Z",
     "shell.execute_reply": "2021-08-12T13:35:04.102714Z",
     "shell.execute_reply.started": "2021-08-12T13:15:53.796988Z"
    },
    "papermill": {
     "duration": 1.323643,
     "end_time": "2021-08-12T13:35:04.103029",
     "exception": false,
     "start_time": "2021-08-12T13:35:02.779386",
     "status": "completed"
    },
    "tags": []
   },
   "outputs": [
    {
     "name": "stdout",
     "output_type": "stream",
     "text": [
      "Validation MAE: 29,653\n",
      "\n",
      "Setup complete\n"
     ]
    }
   ],
   "source": [
    "# Code you have previously used to load data\n",
    "import pandas as pd\n",
    "from sklearn.metrics import mean_absolute_error\n",
    "from sklearn.model_selection import train_test_split\n",
    "from sklearn.tree import DecisionTreeRegressor\n",
    "\n",
    "\n",
    "# Path of the file to read\n",
    "iowa_file_path = '../input/home-data-for-ml-course/train.csv'\n",
    "\n",
    "home_data = pd.read_csv(iowa_file_path)\n",
    "# Create target object and call it y\n",
    "y = home_data.SalePrice\n",
    "# Create X\n",
    "features = ['LotArea', 'YearBuilt', '1stFlrSF', '2ndFlrSF', 'FullBath', 'BedroomAbvGr', 'TotRmsAbvGrd']\n",
    "X = home_data[features]\n",
    "\n",
    "# Split into validation and training data\n",
    "train_X, val_X, train_y, val_y = train_test_split(X, y, random_state=1)\n",
    "\n",
    "# Specify Model\n",
    "iowa_model = DecisionTreeRegressor(random_state=1)\n",
    "# Fit Model\n",
    "iowa_model.fit(train_X, train_y)\n",
    "\n",
    "# Make validation predictions and calculate mean absolute error\n",
    "val_predictions = iowa_model.predict(val_X)\n",
    "val_mae = mean_absolute_error(val_predictions, val_y)\n",
    "print(\"Validation MAE: {:,.0f}\".format(val_mae))\n",
    "\n",
    "# Set up code checking\n",
    "from learntools.core import binder\n",
    "binder.bind(globals())\n",
    "from learntools.machine_learning.ex5 import *\n",
    "print(\"\\nSetup complete\")"
   ]
  },
  {
   "cell_type": "markdown",
   "id": "caa2268e",
   "metadata": {
    "papermill": {
     "duration": 0.011182,
     "end_time": "2021-08-12T13:35:04.126191",
     "exception": false,
     "start_time": "2021-08-12T13:35:04.115009",
     "status": "completed"
    },
    "tags": []
   },
   "source": [
    "# Exercises\n",
    "You could write the function `get_mae` yourself. For now, we'll supply it. This is the same function you read about in the previous lesson. Just run the cell below."
   ]
  },
  {
   "cell_type": "code",
   "execution_count": 2,
   "id": "2df98a66",
   "metadata": {
    "execution": {
     "iopub.execute_input": "2021-08-12T13:35:04.152576Z",
     "iopub.status.busy": "2021-08-12T13:35:04.151633Z",
     "iopub.status.idle": "2021-08-12T13:35:04.156628Z",
     "shell.execute_reply": "2021-08-12T13:35:04.157109Z",
     "shell.execute_reply.started": "2021-08-12T13:15:55.029130Z"
    },
    "papermill": {
     "duration": 0.01975,
     "end_time": "2021-08-12T13:35:04.157267",
     "exception": false,
     "start_time": "2021-08-12T13:35:04.137517",
     "status": "completed"
    },
    "tags": []
   },
   "outputs": [],
   "source": [
    "def get_mae(max_leaf_nodes, train_X, val_X, train_y, val_y):\n",
    "    model = DecisionTreeRegressor(max_leaf_nodes=max_leaf_nodes, random_state=0)\n",
    "    model.fit(train_X, train_y)\n",
    "    preds_val = model.predict(val_X)\n",
    "    mae = mean_absolute_error(val_y, preds_val)\n",
    "    return(mae)"
   ]
  },
  {
   "cell_type": "markdown",
   "id": "bd84a83e",
   "metadata": {
    "papermill": {
     "duration": 0.010857,
     "end_time": "2021-08-12T13:35:04.179365",
     "exception": false,
     "start_time": "2021-08-12T13:35:04.168508",
     "status": "completed"
    },
    "tags": []
   },
   "source": [
    "## Step 1: Compare Different Tree Sizes\n",
    "Write a loop that tries the following values for *max_leaf_nodes* from a set of possible values.\n",
    "\n",
    "Call the *get_mae* function on each value of max_leaf_nodes. Store the output in some way that allows you to select the value of `max_leaf_nodes` that gives the most accurate model on your data."
   ]
  },
  {
   "cell_type": "code",
   "execution_count": 3,
   "id": "c8a90348",
   "metadata": {
    "execution": {
     "iopub.execute_input": "2021-08-12T13:35:04.205487Z",
     "iopub.status.busy": "2021-08-12T13:35:04.204504Z",
     "iopub.status.idle": "2021-08-12T13:35:04.309282Z",
     "shell.execute_reply": "2021-08-12T13:35:04.307910Z",
     "shell.execute_reply.started": "2021-08-12T13:30:50.607663Z"
    },
    "papermill": {
     "duration": 0.119036,
     "end_time": "2021-08-12T13:35:04.309616",
     "exception": true,
     "start_time": "2021-08-12T13:35:04.190580",
     "status": "failed"
    },
    "tags": []
   },
   "outputs": [
    {
     "ename": "NameError",
     "evalue": "name 'mae' is not defined",
     "output_type": "error",
     "traceback": [
      "\u001b[0;31m---------------------------------------------------------------------------\u001b[0m",
      "\u001b[0;31mNameError\u001b[0m                                 Traceback (most recent call last)",
      "\u001b[0;32m<ipython-input-3-159262a7b222>\u001b[0m in \u001b[0;36m<module>\u001b[0;34m\u001b[0m\n\u001b[0;32m----> 1\u001b[0;31m \u001b[0mpd\u001b[0m\u001b[0;34m.\u001b[0m\u001b[0mDataFrame\u001b[0m\u001b[0;34m(\u001b[0m\u001b[0mmae\u001b[0m\u001b[0;34m,\u001b[0m\u001b[0mcandidate_max_leaf_nodes\u001b[0m\u001b[0;34m)\u001b[0m\u001b[0;34m\u001b[0m\u001b[0;34m\u001b[0m\u001b[0m\n\u001b[0m",
      "\u001b[0;31mNameError\u001b[0m: name 'mae' is not defined"
     ]
    }
   ],
   "source": [
    "pd.DataFrame(mae,candidate_max_leaf_nodes)"
   ]
  },
  {
   "cell_type": "code",
   "execution_count": null,
   "id": "e9526b9d",
   "metadata": {
    "execution": {
     "iopub.execute_input": "2021-08-12T13:31:58.009443Z",
     "iopub.status.busy": "2021-08-12T13:31:58.009111Z",
     "iopub.status.idle": "2021-08-12T13:31:58.066788Z",
     "shell.execute_reply": "2021-08-12T13:31:58.066013Z",
     "shell.execute_reply.started": "2021-08-12T13:31:58.009415Z"
    },
    "papermill": {
     "duration": null,
     "end_time": null,
     "exception": null,
     "start_time": null,
     "status": "pending"
    },
    "tags": []
   },
   "outputs": [],
   "source": [
    "candidate_max_leaf_nodes = [5, 25, 50, 100, 250, 500]\n",
    "mae=[0,0,0,0,0,0]\n",
    "\n",
    "# Write loop to find the ideal tree size from candidate_max_leaf_nodes\n",
    "for i in range(len(candidate_max_leaf_nodes)):\n",
    "    mae[i]=get_mae(candidate_max_leaf_nodes[i], train_X, val_X, train_y, val_y)\n",
    "\n",
    "# Store the best value of max_leaf_nodes (it will be either 5, 25, 50, 100, 250 or 500)\n",
    "temp = pd.DataFrame(mae,candidate_max_leaf_nodes)\n",
    "best_tree_size = temp[temp.iloc[:,0]==temp.iloc[:,0].min()].index\n",
    "\n",
    "# Check your answer\n",
    "step_1.check()"
   ]
  },
  {
   "cell_type": "code",
   "execution_count": null,
   "id": "a9a7df17",
   "metadata": {
    "execution": {
     "iopub.execute_input": "2021-08-12T13:32:45.114274Z",
     "iopub.status.busy": "2021-08-12T13:32:45.113617Z",
     "iopub.status.idle": "2021-08-12T13:32:45.166256Z",
     "shell.execute_reply": "2021-08-12T13:32:45.165400Z",
     "shell.execute_reply.started": "2021-08-12T13:32:45.114220Z"
    },
    "papermill": {
     "duration": null,
     "end_time": null,
     "exception": null,
     "start_time": null,
     "status": "pending"
    },
    "tags": []
   },
   "outputs": [],
   "source": [
    "candidate_max_leaf_nodes = [5, 25, 50, 100, 250, 500]\n",
    "\n",
    "# Here is a short solution with a dict comprehension.\n",
    "# The lesson gives an example of how to do this with an explicit loop.\n",
    "scores = {leaf_size: get_mae(leaf_size, train_X, val_X, train_y, val_y) for leaf_size in candidate_max_leaf_nodes}\n",
    "best_tree_size = min(scores, key=scores.get)\n",
    "\n",
    "# Check your answer\n",
    "step_1.check()"
   ]
  },
  {
   "cell_type": "code",
   "execution_count": null,
   "id": "2e9444a6",
   "metadata": {
    "execution": {
     "iopub.execute_input": "2021-08-12T13:32:06.047692Z",
     "iopub.status.busy": "2021-08-12T13:32:06.047356Z",
     "iopub.status.idle": "2021-08-12T13:32:06.058677Z",
     "shell.execute_reply": "2021-08-12T13:32:06.057871Z",
     "shell.execute_reply.started": "2021-08-12T13:32:06.047664Z"
    },
    "papermill": {
     "duration": null,
     "end_time": null,
     "exception": null,
     "start_time": null,
     "status": "pending"
    },
    "tags": []
   },
   "outputs": [],
   "source": [
    "# The lines below will show you a hint or the solution.\n",
    "step_1.hint() \n",
    "step_1.solution()"
   ]
  },
  {
   "cell_type": "markdown",
   "id": "fd1118e8",
   "metadata": {
    "papermill": {
     "duration": null,
     "end_time": null,
     "exception": null,
     "start_time": null,
     "status": "pending"
    },
    "tags": []
   },
   "source": [
    "## Step 2: Fit Model Using All Data\n",
    "You know the best tree size. If you were going to deploy this model in practice, you would make it even more accurate by using all of the data and keeping that tree size.  That is, you don't need to hold out the validation data now that you've made all your modeling decisions."
   ]
  },
  {
   "cell_type": "code",
   "execution_count": null,
   "id": "f54c645e",
   "metadata": {
    "execution": {
     "iopub.execute_input": "2021-08-12T13:34:21.780815Z",
     "iopub.status.busy": "2021-08-12T13:34:21.780204Z",
     "iopub.status.idle": "2021-08-12T13:34:21.798838Z",
     "shell.execute_reply": "2021-08-12T13:34:21.798052Z",
     "shell.execute_reply.started": "2021-08-12T13:34:21.780766Z"
    },
    "papermill": {
     "duration": null,
     "end_time": null,
     "exception": null,
     "start_time": null,
     "status": "pending"
    },
    "tags": []
   },
   "outputs": [],
   "source": [
    "# Fill in argument to make optimal size and uncomment\n",
    "final_model = DecisionTreeRegressor(max_leaf_nodes=best_tree_size, random_state=0)\n",
    "\n",
    "# fit the final model and uncomment the next two lines\n",
    "final_model.fit(X, y)\n",
    "\n",
    "# Check your answer\n",
    "step_2.check()"
   ]
  },
  {
   "cell_type": "code",
   "execution_count": null,
   "id": "92d114b9",
   "metadata": {
    "execution": {
     "iopub.execute_input": "2021-08-12T13:34:26.928655Z",
     "iopub.status.busy": "2021-08-12T13:34:26.927985Z",
     "iopub.status.idle": "2021-08-12T13:34:26.940434Z",
     "shell.execute_reply": "2021-08-12T13:34:26.939486Z",
     "shell.execute_reply.started": "2021-08-12T13:34:26.928604Z"
    },
    "papermill": {
     "duration": null,
     "end_time": null,
     "exception": null,
     "start_time": null,
     "status": "pending"
    },
    "tags": []
   },
   "outputs": [],
   "source": [
    "step_2.hint()\n",
    "step_2.solution()"
   ]
  },
  {
   "cell_type": "markdown",
   "id": "d385e364",
   "metadata": {
    "papermill": {
     "duration": null,
     "end_time": null,
     "exception": null,
     "start_time": null,
     "status": "pending"
    },
    "tags": []
   },
   "source": [
    "You've tuned this model and improved your results. But we are still using Decision Tree models, which are not very sophisticated by modern machine learning standards. In the next step you will learn to use Random Forests to improve your models even more.\n",
    "\n",
    "# Keep Going\n",
    "\n",
    "You are ready for **[Random Forests](https://www.kaggle.com/dansbecker/random-forests).**\n"
   ]
  },
  {
   "cell_type": "markdown",
   "id": "b53d6f5a",
   "metadata": {
    "papermill": {
     "duration": null,
     "end_time": null,
     "exception": null,
     "start_time": null,
     "status": "pending"
    },
    "tags": []
   },
   "source": [
    "---\n",
    "\n",
    "\n",
    "\n",
    "\n",
    "*Have questions or comments? Visit the [Learn Discussion forum](https://www.kaggle.com/learn-forum/161285) to chat with other Learners.*"
   ]
  }
 ],
 "metadata": {
  "kernelspec": {
   "display_name": "Python 3",
   "language": "python",
   "name": "python3"
  },
  "language_info": {
   "codemirror_mode": {
    "name": "ipython",
    "version": 3
   },
   "file_extension": ".py",
   "mimetype": "text/x-python",
   "name": "python",
   "nbconvert_exporter": "python",
   "pygments_lexer": "ipython3",
   "version": "3.7.10"
  },
  "papermill": {
   "default_parameters": {},
   "duration": 10.264801,
   "end_time": "2021-08-12T13:35:05.031448",
   "environment_variables": {},
   "exception": true,
   "input_path": "__notebook__.ipynb",
   "output_path": "__notebook__.ipynb",
   "parameters": {},
   "start_time": "2021-08-12T13:34:54.766647",
   "version": "2.3.3"
  }
 },
 "nbformat": 4,
 "nbformat_minor": 5
}
