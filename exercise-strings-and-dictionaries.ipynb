{
 "cells": [
  {
   "cell_type": "markdown",
   "id": "0d2108e0",
   "metadata": {
    "papermill": {
     "duration": 0.017969,
     "end_time": "2021-11-24T15:44:01.578027",
     "exception": false,
     "start_time": "2021-11-24T15:44:01.560058",
     "status": "completed"
    },
    "tags": []
   },
   "source": [
    "**This notebook is an exercise in the [Python](https://www.kaggle.com/learn/python) course.  You can reference the tutorial at [this link](https://www.kaggle.com/colinmorris/strings-and-dictionaries).**\n",
    "\n",
    "---\n"
   ]
  },
  {
   "cell_type": "markdown",
   "id": "36038688",
   "metadata": {
    "papermill": {
     "duration": 0.01614,
     "end_time": "2021-11-24T15:44:01.611605",
     "exception": false,
     "start_time": "2021-11-24T15:44:01.595465",
     "status": "completed"
    },
    "tags": []
   },
   "source": [
    "You are almost done with the course. Nice job!\n",
    "\n",
    "We have a couple more interesting problems for you before you go. \n",
    "\n",
    "As always, run the setup code below before working on the questions."
   ]
  },
  {
   "cell_type": "code",
   "execution_count": 1,
   "id": "e346eb4c",
   "metadata": {
    "execution": {
     "iopub.execute_input": "2021-11-24T15:44:01.653998Z",
     "iopub.status.busy": "2021-11-24T15:44:01.652184Z",
     "iopub.status.idle": "2021-11-24T15:44:01.710833Z",
     "shell.execute_reply": "2021-11-24T15:44:01.711695Z",
     "shell.execute_reply.started": "2021-08-08T15:44:17.469628Z"
    },
    "papermill": {
     "duration": 0.081446,
     "end_time": "2021-11-24T15:44:01.712255",
     "exception": false,
     "start_time": "2021-11-24T15:44:01.630809",
     "status": "completed"
    },
    "tags": []
   },
   "outputs": [
    {
     "name": "stdout",
     "output_type": "stream",
     "text": [
      "Setup complete.\n"
     ]
    }
   ],
   "source": [
    "from learntools.core import binder; binder.bind(globals())\n",
    "from learntools.python.ex6 import *\n",
    "print('Setup complete.')"
   ]
  },
  {
   "cell_type": "markdown",
   "id": "a0e3334a",
   "metadata": {
    "papermill": {
     "duration": 0.021394,
     "end_time": "2021-11-24T15:44:01.755726",
     "exception": false,
     "start_time": "2021-11-24T15:44:01.734332",
     "status": "completed"
    },
    "tags": []
   },
   "source": [
    "Let's start with a string lightning round to warm up. What are the lengths of the strings below?\n",
    "\n",
    "For each of the five strings below, predict what `len()` would return when passed that string. Use the variable `length` to record your answer, then run the cell to check whether you were right.  \n",
    "\n",
    "# 0a."
   ]
  },
  {
   "cell_type": "code",
   "execution_count": 2,
   "id": "b403f72a",
   "metadata": {
    "execution": {
     "iopub.execute_input": "2021-11-24T15:44:01.808567Z",
     "iopub.status.busy": "2021-11-24T15:44:01.807358Z",
     "iopub.status.idle": "2021-11-24T15:44:01.823340Z",
     "shell.execute_reply": "2021-11-24T15:44:01.822418Z",
     "shell.execute_reply.started": "2021-08-08T15:45:30.096605Z"
    },
    "papermill": {
     "duration": 0.043263,
     "end_time": "2021-11-24T15:44:01.823619",
     "exception": false,
     "start_time": "2021-11-24T15:44:01.780356",
     "status": "completed"
    },
    "tags": []
   },
   "outputs": [
    {
     "name": "stdout",
     "output_type": "stream",
     "text": [
      "0\n"
     ]
    },
    {
     "data": {
      "application/javascript": [
       "parent.postMessage({\"jupyterEvent\": \"custom.exercise_interaction\", \"data\": {\"outcomeType\": 1, \"valueTowardsCompletion\": 0.3333333333333333, \"interactionType\": 1, \"questionType\": 1, \"questionId\": \"0.1_ZA\", \"learnToolsVersion\": \"0.3.4\", \"failureMessage\": \"\", \"exceptionClass\": \"\", \"trace\": \"\"}}, \"*\")"
      ],
      "text/plain": [
       "<IPython.core.display.Javascript object>"
      ]
     },
     "metadata": {},
     "output_type": "display_data"
    },
    {
     "data": {
      "text/markdown": [
       "<span style=\"color:#33cc33\">Correct:</span> \n",
       "\n",
       "The empty string has length zero. Note that the empty string is also the only string that Python considers as False when converting to boolean."
      ],
      "text/plain": [
       "Correct: \n",
       "\n",
       "The empty string has length zero. Note that the empty string is also the only string that Python considers as False when converting to boolean."
      ]
     },
     "metadata": {},
     "output_type": "display_data"
    }
   ],
   "source": [
    "a = \"\"\n",
    "length = len(a)\n",
    "print(length)\n",
    "\n",
    "q0.a.check()"
   ]
  },
  {
   "cell_type": "markdown",
   "id": "db3c40c9",
   "metadata": {
    "papermill": {
     "duration": 0.019038,
     "end_time": "2021-11-24T15:44:01.867914",
     "exception": false,
     "start_time": "2021-11-24T15:44:01.848876",
     "status": "completed"
    },
    "tags": []
   },
   "source": [
    "# 0b."
   ]
  },
  {
   "cell_type": "code",
   "execution_count": 3,
   "id": "93eeb153",
   "metadata": {
    "execution": {
     "iopub.execute_input": "2021-11-24T15:44:01.913123Z",
     "iopub.status.busy": "2021-11-24T15:44:01.910555Z",
     "iopub.status.idle": "2021-11-24T15:44:01.922245Z",
     "shell.execute_reply": "2021-11-24T15:44:01.921699Z"
    },
    "papermill": {
     "duration": 0.03508,
     "end_time": "2021-11-24T15:44:01.922411",
     "exception": false,
     "start_time": "2021-11-24T15:44:01.887331",
     "status": "completed"
    },
    "tags": []
   },
   "outputs": [
    {
     "name": "stdout",
     "output_type": "stream",
     "text": [
      "7\n"
     ]
    },
    {
     "data": {
      "application/javascript": [
       "parent.postMessage({\"jupyterEvent\": \"custom.exercise_interaction\", \"data\": {\"outcomeType\": 1, \"valueTowardsCompletion\": 0.3333333333333333, \"interactionType\": 1, \"questionType\": 1, \"questionId\": \"0.2_ZB\", \"learnToolsVersion\": \"0.3.4\", \"failureMessage\": \"\", \"exceptionClass\": \"\", \"trace\": \"\"}}, \"*\")"
      ],
      "text/plain": [
       "<IPython.core.display.Javascript object>"
      ]
     },
     "metadata": {},
     "output_type": "display_data"
    },
    {
     "data": {
      "text/markdown": [
       "<span style=\"color:#33cc33\">Correct:</span> \n",
       "\n",
       "Keep in mind Python includes spaces (and punctuation) when counting string length."
      ],
      "text/plain": [
       "Correct: \n",
       "\n",
       "Keep in mind Python includes spaces (and punctuation) when counting string length."
      ]
     },
     "metadata": {},
     "output_type": "display_data"
    }
   ],
   "source": [
    "b = \"it's ok\"\n",
    "length = len(b)\n",
    "print(length)\n",
    "\n",
    "q0.b.check()"
   ]
  },
  {
   "cell_type": "markdown",
   "id": "c6f9c947",
   "metadata": {
    "papermill": {
     "duration": 0.020691,
     "end_time": "2021-11-24T15:44:01.963718",
     "exception": false,
     "start_time": "2021-11-24T15:44:01.943027",
     "status": "completed"
    },
    "tags": []
   },
   "source": [
    "# 0c."
   ]
  },
  {
   "cell_type": "code",
   "execution_count": 4,
   "id": "4f0e8913",
   "metadata": {
    "execution": {
     "iopub.execute_input": "2021-11-24T15:44:02.008738Z",
     "iopub.status.busy": "2021-11-24T15:44:02.007935Z",
     "iopub.status.idle": "2021-11-24T15:44:02.018408Z",
     "shell.execute_reply": "2021-11-24T15:44:02.019012Z",
     "shell.execute_reply.started": "2021-08-08T15:45:57.246696Z"
    },
    "papermill": {
     "duration": 0.034792,
     "end_time": "2021-11-24T15:44:02.019263",
     "exception": false,
     "start_time": "2021-11-24T15:44:01.984471",
     "status": "completed"
    },
    "tags": []
   },
   "outputs": [
    {
     "name": "stdout",
     "output_type": "stream",
     "text": [
      "7\n"
     ]
    },
    {
     "data": {
      "application/javascript": [
       "parent.postMessage({\"jupyterEvent\": \"custom.exercise_interaction\", \"data\": {\"outcomeType\": 1, \"valueTowardsCompletion\": 0.3333333333333333, \"interactionType\": 1, \"questionType\": 1, \"questionId\": \"0.3_ZC\", \"learnToolsVersion\": \"0.3.4\", \"failureMessage\": \"\", \"exceptionClass\": \"\", \"trace\": \"\"}}, \"*\")"
      ],
      "text/plain": [
       "<IPython.core.display.Javascript object>"
      ]
     },
     "metadata": {},
     "output_type": "display_data"
    },
    {
     "data": {
      "text/markdown": [
       "<span style=\"color:#33cc33\">Correct:</span> \n",
       "\n",
       "Even though we use different syntax to create it, the string `c` is identical to `b`. In particular, note that the backslash is not part of the string, so it doesn't contribute to its length."
      ],
      "text/plain": [
       "Correct: \n",
       "\n",
       "Even though we use different syntax to create it, the string `c` is identical to `b`. In particular, note that the backslash is not part of the string, so it doesn't contribute to its length."
      ]
     },
     "metadata": {},
     "output_type": "display_data"
    }
   ],
   "source": [
    "c = 'it\\'s ok'\n",
    "length = len(c)\n",
    "print(length)\n",
    "\n",
    "q0.c.check()"
   ]
  },
  {
   "cell_type": "markdown",
   "id": "853bd540",
   "metadata": {
    "papermill": {
     "duration": 0.021198,
     "end_time": "2021-11-24T15:44:02.062464",
     "exception": false,
     "start_time": "2021-11-24T15:44:02.041266",
     "status": "completed"
    },
    "tags": []
   },
   "source": [
    "# 0d."
   ]
  },
  {
   "cell_type": "code",
   "execution_count": 5,
   "id": "a7f7cc66",
   "metadata": {
    "execution": {
     "iopub.execute_input": "2021-11-24T15:44:02.109885Z",
     "iopub.status.busy": "2021-11-24T15:44:02.109060Z",
     "iopub.status.idle": "2021-11-24T15:44:02.116554Z",
     "shell.execute_reply": "2021-11-24T15:44:02.117184Z",
     "shell.execute_reply.started": "2021-08-08T15:46:18.161592Z"
    },
    "papermill": {
     "duration": 0.033094,
     "end_time": "2021-11-24T15:44:02.117386",
     "exception": false,
     "start_time": "2021-11-24T15:44:02.084292",
     "status": "completed"
    },
    "tags": []
   },
   "outputs": [
    {
     "name": "stdout",
     "output_type": "stream",
     "text": [
      "3\n"
     ]
    },
    {
     "data": {
      "application/javascript": [
       "parent.postMessage({\"jupyterEvent\": \"custom.exercise_interaction\", \"data\": {\"outcomeType\": 1, \"valueTowardsCompletion\": 0.3333333333333333, \"interactionType\": 1, \"questionType\": 1, \"questionId\": \"0.4_ZD\", \"learnToolsVersion\": \"0.3.4\", \"failureMessage\": \"\", \"exceptionClass\": \"\", \"trace\": \"\"}}, \"*\")"
      ],
      "text/plain": [
       "<IPython.core.display.Javascript object>"
      ]
     },
     "metadata": {},
     "output_type": "display_data"
    },
    {
     "data": {
      "text/markdown": [
       "<span style=\"color:#33cc33\">Correct:</span> \n",
       "\n",
       "The fact that this string was created using triple-quote syntax doesn't make any difference in terms of its content or length. This string is exactly the same as `'hey'`."
      ],
      "text/plain": [
       "Correct: \n",
       "\n",
       "The fact that this string was created using triple-quote syntax doesn't make any difference in terms of its content or length. This string is exactly the same as `'hey'`."
      ]
     },
     "metadata": {},
     "output_type": "display_data"
    }
   ],
   "source": [
    "d = \"\"\"hey\"\"\"\n",
    "length = len(d)\n",
    "print(length)\n",
    "\n",
    "q0.d.check()"
   ]
  },
  {
   "cell_type": "markdown",
   "id": "cd34926c",
   "metadata": {
    "papermill": {
     "duration": 0.022558,
     "end_time": "2021-11-24T15:44:02.162949",
     "exception": false,
     "start_time": "2021-11-24T15:44:02.140391",
     "status": "completed"
    },
    "tags": []
   },
   "source": [
    "# 0e."
   ]
  },
  {
   "cell_type": "code",
   "execution_count": 6,
   "id": "90948354",
   "metadata": {
    "execution": {
     "iopub.execute_input": "2021-11-24T15:44:02.216287Z",
     "iopub.status.busy": "2021-11-24T15:44:02.215170Z",
     "iopub.status.idle": "2021-11-24T15:44:02.225930Z",
     "shell.execute_reply": "2021-11-24T15:44:02.226552Z",
     "shell.execute_reply.started": "2021-08-08T15:46:27.381604Z"
    },
    "papermill": {
     "duration": 0.040818,
     "end_time": "2021-11-24T15:44:02.226793",
     "exception": false,
     "start_time": "2021-11-24T15:44:02.185975",
     "status": "completed"
    },
    "tags": []
   },
   "outputs": [
    {
     "name": "stdout",
     "output_type": "stream",
     "text": [
      "1\n"
     ]
    },
    {
     "data": {
      "application/javascript": [
       "parent.postMessage({\"jupyterEvent\": \"custom.exercise_interaction\", \"data\": {\"outcomeType\": 1, \"valueTowardsCompletion\": 0.3333333333333333, \"interactionType\": 1, \"questionType\": 1, \"questionId\": \"0.5_ZE\", \"learnToolsVersion\": \"0.3.4\", \"failureMessage\": \"\", \"exceptionClass\": \"\", \"trace\": \"\"}}, \"*\")"
      ],
      "text/plain": [
       "<IPython.core.display.Javascript object>"
      ]
     },
     "metadata": {},
     "output_type": "display_data"
    },
    {
     "data": {
      "text/markdown": [
       "<span style=\"color:#33cc33\">Correct:</span> \n",
       "\n",
       "The newline character is just a single character! (Even though we represent it to Python using a combination of two characters.)"
      ],
      "text/plain": [
       "Correct: \n",
       "\n",
       "The newline character is just a single character! (Even though we represent it to Python using a combination of two characters.)"
      ]
     },
     "metadata": {},
     "output_type": "display_data"
    }
   ],
   "source": [
    "e = '\\n'\n",
    "length = len(e)\n",
    "print(length)\n",
    "\n",
    "q0.e.check()"
   ]
  },
  {
   "cell_type": "markdown",
   "id": "d68ee19a",
   "metadata": {
    "papermill": {
     "duration": 0.024397,
     "end_time": "2021-11-24T15:44:02.275621",
     "exception": false,
     "start_time": "2021-11-24T15:44:02.251224",
     "status": "completed"
    },
    "tags": []
   },
   "source": [
    "# 1.\n",
    "\n",
    "There is a saying that \"Data scientists spend 80% of their time cleaning data, and 20% of their time complaining about cleaning data.\" Let's see if you can write a function to help clean US zip code data. Given a string, it should return whether or not that string represents a valid zip code. For our purposes, a valid zip code is any string consisting of exactly 5 digits.\n",
    "\n",
    "HINT: `str` has a method that will be useful here. Use `help(str)` to review a list of string methods."
   ]
  },
  {
   "cell_type": "code",
   "execution_count": 7,
   "id": "303d6ec7",
   "metadata": {
    "execution": {
     "iopub.execute_input": "2021-11-24T15:44:02.329750Z",
     "iopub.status.busy": "2021-11-24T15:44:02.328652Z",
     "iopub.status.idle": "2021-11-24T15:44:02.337281Z",
     "shell.execute_reply": "2021-11-24T15:44:02.337826Z",
     "shell.execute_reply.started": "2021-08-08T15:46:56.444337Z"
    },
    "papermill": {
     "duration": 0.038263,
     "end_time": "2021-11-24T15:44:02.338044",
     "exception": false,
     "start_time": "2021-11-24T15:44:02.299781",
     "status": "completed"
    },
    "tags": []
   },
   "outputs": [
    {
     "data": {
      "application/javascript": [
       "parent.postMessage({\"jupyterEvent\": \"custom.exercise_interaction\", \"data\": {\"outcomeType\": 1, \"valueTowardsCompletion\": 0.3333333333333333, \"interactionType\": 1, \"questionType\": 2, \"questionId\": \"1_ZipValidator\", \"learnToolsVersion\": \"0.3.4\", \"failureMessage\": \"\", \"exceptionClass\": \"\", \"trace\": \"\"}}, \"*\")"
      ],
      "text/plain": [
       "<IPython.core.display.Javascript object>"
      ]
     },
     "metadata": {},
     "output_type": "display_data"
    },
    {
     "data": {
      "text/markdown": [
       "<span style=\"color:#33cc33\">Correct</span>"
      ],
      "text/plain": [
       "Correct"
      ]
     },
     "metadata": {},
     "output_type": "display_data"
    }
   ],
   "source": [
    "def is_valid_zip(zip_code):\n",
    "    \"\"\"Returns whether the input string is a valid (5 digit) zip code\n",
    "    \"\"\"\n",
    "    return (len(zip_code)==5 and zip_code.isdigit())\n",
    "\n",
    "# Check your answer\n",
    "q1.check()"
   ]
  },
  {
   "cell_type": "code",
   "execution_count": 8,
   "id": "bbdf4fc2",
   "metadata": {
    "execution": {
     "iopub.execute_input": "2021-11-24T15:44:02.393322Z",
     "iopub.status.busy": "2021-11-24T15:44:02.392251Z",
     "iopub.status.idle": "2021-11-24T15:44:02.403499Z",
     "shell.execute_reply": "2021-11-24T15:44:02.403972Z",
     "shell.execute_reply.started": "2021-08-08T15:47:48.134224Z"
    },
    "papermill": {
     "duration": 0.041134,
     "end_time": "2021-11-24T15:44:02.404195",
     "exception": false,
     "start_time": "2021-11-24T15:44:02.363061",
     "status": "completed"
    },
    "tags": []
   },
   "outputs": [
    {
     "data": {
      "application/javascript": [
       "parent.postMessage({\"jupyterEvent\": \"custom.exercise_interaction\", \"data\": {\"interactionType\": 2, \"questionType\": 2, \"questionId\": \"1_ZipValidator\", \"learnToolsVersion\": \"0.3.4\", \"valueTowardsCompletion\": 0.0, \"failureMessage\": \"\", \"exceptionClass\": \"\", \"trace\": \"\", \"outcomeType\": 4}}, \"*\")"
      ],
      "text/plain": [
       "<IPython.core.display.Javascript object>"
      ]
     },
     "metadata": {},
     "output_type": "display_data"
    },
    {
     "data": {
      "text/markdown": [
       "<span style=\"color:#3366cc\">Hint:</span> Try looking up `help(str.isdigit)`"
      ],
      "text/plain": [
       "Hint: Try looking up `help(str.isdigit)`"
      ]
     },
     "metadata": {},
     "output_type": "display_data"
    },
    {
     "data": {
      "application/javascript": [
       "parent.postMessage({\"jupyterEvent\": \"custom.exercise_interaction\", \"data\": {\"interactionType\": 3, \"questionType\": 2, \"questionId\": \"1_ZipValidator\", \"learnToolsVersion\": \"0.3.4\", \"valueTowardsCompletion\": 0.0, \"failureMessage\": \"\", \"exceptionClass\": \"\", \"trace\": \"\", \"outcomeType\": 4}}, \"*\")"
      ],
      "text/plain": [
       "<IPython.core.display.Javascript object>"
      ]
     },
     "metadata": {},
     "output_type": "display_data"
    },
    {
     "data": {
      "text/markdown": [
       "<span style=\"color:#33cc99\">Solution:</span> \n",
       "```python\n",
       "def is_valid_zip(zip_code):\n",
       "    return len(zip_code) == 5 and zip_code.isdigit()\n",
       "```"
      ],
      "text/plain": [
       "Solution: \n",
       "```python\n",
       "def is_valid_zip(zip_code):\n",
       "    return len(zip_code) == 5 and zip_code.isdigit()\n",
       "```"
      ]
     },
     "metadata": {},
     "output_type": "display_data"
    }
   ],
   "source": [
    "q1.hint()\n",
    "q1.solution()"
   ]
  },
  {
   "cell_type": "markdown",
   "id": "c9d0d9db",
   "metadata": {
    "papermill": {
     "duration": 0.02659,
     "end_time": "2021-11-24T15:44:02.457712",
     "exception": false,
     "start_time": "2021-11-24T15:44:02.431122",
     "status": "completed"
    },
    "tags": []
   },
   "source": [
    "# 2.\n",
    "\n",
    "A researcher has gathered thousands of news articles. But she wants to focus her attention on articles including a specific word. Complete the function below to help her filter her list of articles.\n",
    "\n",
    "Your function should meet the following criteria:\n",
    "\n",
    "- Do not include documents where the keyword string shows up only as a part of a larger word. For example, if she were looking for the keyword “closed”, you would not include the string “enclosed.” \n",
    "- She does not want you to distinguish upper case from lower case letters. So the phrase “Closed the case.” would be included when the keyword is “closed”\n",
    "- Do not let periods or commas affect what is matched. “It is closed.” would be included when the keyword is “closed”. But you can assume there are no other types of punctuation."
   ]
  },
  {
   "cell_type": "code",
   "execution_count": 9,
   "id": "859a756e",
   "metadata": {
    "execution": {
     "iopub.execute_input": "2021-11-24T15:44:02.516399Z",
     "iopub.status.busy": "2021-11-24T15:44:02.515343Z",
     "iopub.status.idle": "2021-11-24T15:44:02.525661Z",
     "shell.execute_reply": "2021-11-24T15:44:02.526301Z",
     "shell.execute_reply.started": "2021-08-08T15:48:46.248334Z"
    },
    "papermill": {
     "duration": 0.041778,
     "end_time": "2021-11-24T15:44:02.526505",
     "exception": false,
     "start_time": "2021-11-24T15:44:02.484727",
     "status": "completed"
    },
    "tags": []
   },
   "outputs": [
    {
     "data": {
      "application/javascript": [
       "parent.postMessage({\"jupyterEvent\": \"custom.exercise_interaction\", \"data\": {\"outcomeType\": 1, \"valueTowardsCompletion\": 0.3333333333333333, \"interactionType\": 1, \"questionType\": 2, \"questionId\": \"2_WordSearch\", \"learnToolsVersion\": \"0.3.4\", \"failureMessage\": \"\", \"exceptionClass\": \"\", \"trace\": \"\"}}, \"*\")"
      ],
      "text/plain": [
       "<IPython.core.display.Javascript object>"
      ]
     },
     "metadata": {},
     "output_type": "display_data"
    },
    {
     "data": {
      "text/markdown": [
       "<span style=\"color:#33cc33\">Correct</span>"
      ],
      "text/plain": [
       "Correct"
      ]
     },
     "metadata": {},
     "output_type": "display_data"
    }
   ],
   "source": [
    "def word_search(doc_list, keyword):\n",
    "    \"\"\"\n",
    "    Takes a list of documents (each document is a string) and a keyword. \n",
    "    Returns list of the index values into the original list for all documents \n",
    "    containing the keyword.\n",
    "\n",
    "    Example:\n",
    "    doc_list = [\"The Learn Python Challenge Casino.\", \"They bought a car\", \"Casinoville\"]\n",
    "    >>> word_search(doc_list, 'casino')\n",
    "    >>> [0]\n",
    "    \"\"\"\n",
    "    list=[]\n",
    "    # Iterate through the indices (statement) and elements (phrase) of doc_list\n",
    "    for statement,phrase in enumerate(doc_list):\n",
    "        # Split the string phrase into a list of words (according to whitespace)\n",
    "        phrase=phrase.split()\n",
    "        # Make a transformed list where we 'normalize' each word to facilitate matching.\n",
    "        # Periods and commas are removed from the end of each word, and it's set to all lowercase.\n",
    "        if keyword.lower() in [word.rstrip('.,').lower() for word in phrase]:\n",
    "            list.append(statement)\n",
    "    return list\n",
    "            \n",
    "\n",
    "# Check your answer\n",
    "q2.check()"
   ]
  },
  {
   "cell_type": "code",
   "execution_count": 10,
   "id": "ec1c1e03",
   "metadata": {
    "execution": {
     "iopub.execute_input": "2021-11-24T15:44:02.590914Z",
     "iopub.status.busy": "2021-11-24T15:44:02.590049Z",
     "iopub.status.idle": "2021-11-24T15:44:02.599506Z",
     "shell.execute_reply": "2021-11-24T15:44:02.598778Z",
     "shell.execute_reply.started": "2021-08-08T15:48:49.002611Z"
    },
    "papermill": {
     "duration": 0.043928,
     "end_time": "2021-11-24T15:44:02.599674",
     "exception": false,
     "start_time": "2021-11-24T15:44:02.555746",
     "status": "completed"
    },
    "tags": []
   },
   "outputs": [
    {
     "data": {
      "application/javascript": [
       "parent.postMessage({\"jupyterEvent\": \"custom.exercise_interaction\", \"data\": {\"interactionType\": 2, \"questionType\": 2, \"questionId\": \"2_WordSearch\", \"learnToolsVersion\": \"0.3.4\", \"valueTowardsCompletion\": 0.0, \"failureMessage\": \"\", \"exceptionClass\": \"\", \"trace\": \"\", \"outcomeType\": 4}}, \"*\")"
      ],
      "text/plain": [
       "<IPython.core.display.Javascript object>"
      ]
     },
     "metadata": {},
     "output_type": "display_data"
    },
    {
     "data": {
      "text/markdown": [
       "<span style=\"color:#3366cc\">Hint:</span> Some methods that may be useful here: `str.split()`, `str.strip()`, `str.lower()`."
      ],
      "text/plain": [
       "Hint: Some methods that may be useful here: `str.split()`, `str.strip()`, `str.lower()`."
      ]
     },
     "metadata": {},
     "output_type": "display_data"
    },
    {
     "data": {
      "application/javascript": [
       "parent.postMessage({\"jupyterEvent\": \"custom.exercise_interaction\", \"data\": {\"interactionType\": 3, \"questionType\": 2, \"questionId\": \"2_WordSearch\", \"learnToolsVersion\": \"0.3.4\", \"valueTowardsCompletion\": 0.0, \"failureMessage\": \"\", \"exceptionClass\": \"\", \"trace\": \"\", \"outcomeType\": 4}}, \"*\")"
      ],
      "text/plain": [
       "<IPython.core.display.Javascript object>"
      ]
     },
     "metadata": {},
     "output_type": "display_data"
    },
    {
     "data": {
      "text/markdown": [
       "<span style=\"color:#33cc99\">Solution:</span> \n",
       "```python\n",
       "def word_search(doc_list, keyword):\n",
       "    # list to hold the indices of matching documents\n",
       "    indices = [] \n",
       "    # Iterate through the indices (i) and elements (doc) of documents\n",
       "    for i, doc in enumerate(doc_list):\n",
       "        # Split the string doc into a list of words (according to whitespace)\n",
       "        tokens = doc.split()\n",
       "        # Make a transformed list where we 'normalize' each word to facilitate matching.\n",
       "        # Periods and commas are removed from the end of each word, and it's set to all lowercase.\n",
       "        normalized = [token.rstrip('.,').lower() for token in tokens]\n",
       "        # Is there a match? If so, update the list of matching indices.\n",
       "        if keyword.lower() in normalized:\n",
       "            indices.append(i)\n",
       "    return indices\n",
       "```"
      ],
      "text/plain": [
       "Solution: \n",
       "```python\n",
       "def word_search(doc_list, keyword):\n",
       "    # list to hold the indices of matching documents\n",
       "    indices = [] \n",
       "    # Iterate through the indices (i) and elements (doc) of documents\n",
       "    for i, doc in enumerate(doc_list):\n",
       "        # Split the string doc into a list of words (according to whitespace)\n",
       "        tokens = doc.split()\n",
       "        # Make a transformed list where we 'normalize' each word to facilitate matching.\n",
       "        # Periods and commas are removed from the end of each word, and it's set to all lowercase.\n",
       "        normalized = [token.rstrip('.,').lower() for token in tokens]\n",
       "        # Is there a match? If so, update the list of matching indices.\n",
       "        if keyword.lower() in normalized:\n",
       "            indices.append(i)\n",
       "    return indices\n",
       "```"
      ]
     },
     "metadata": {},
     "output_type": "display_data"
    }
   ],
   "source": [
    "q2.hint()\n",
    "q2.solution()"
   ]
  },
  {
   "cell_type": "markdown",
   "id": "a6d59780",
   "metadata": {
    "papermill": {
     "duration": 0.029646,
     "end_time": "2021-11-24T15:44:02.659777",
     "exception": false,
     "start_time": "2021-11-24T15:44:02.630131",
     "status": "completed"
    },
    "tags": []
   },
   "source": [
    "# 3.\n",
    "\n",
    "Now the researcher wants to supply multiple keywords to search for. Complete the function below to help her.\n",
    "\n",
    "(You're encouraged to use the `word_search` function you just wrote when implementing this function. Reusing code in this way makes your programs more robust and readable - and it saves typing!)"
   ]
  },
  {
   "cell_type": "code",
   "execution_count": 11,
   "id": "ba94425c",
   "metadata": {
    "execution": {
     "iopub.execute_input": "2021-11-24T15:44:02.729492Z",
     "iopub.status.busy": "2021-11-24T15:44:02.728585Z",
     "iopub.status.idle": "2021-11-24T15:44:02.734272Z",
     "shell.execute_reply": "2021-11-24T15:44:02.733538Z",
     "shell.execute_reply.started": "2021-08-08T15:49:07.6802Z"
    },
    "papermill": {
     "duration": 0.044268,
     "end_time": "2021-11-24T15:44:02.734445",
     "exception": false,
     "start_time": "2021-11-24T15:44:02.690177",
     "status": "completed"
    },
    "tags": []
   },
   "outputs": [
    {
     "data": {
      "application/javascript": [
       "parent.postMessage({\"jupyterEvent\": \"custom.exercise_interaction\", \"data\": {\"outcomeType\": 1, \"valueTowardsCompletion\": 0.3333333333333333, \"interactionType\": 1, \"questionType\": 2, \"questionId\": \"3_MultiWordSearch\", \"learnToolsVersion\": \"0.3.4\", \"failureMessage\": \"\", \"exceptionClass\": \"\", \"trace\": \"\"}}, \"*\")"
      ],
      "text/plain": [
       "<IPython.core.display.Javascript object>"
      ]
     },
     "metadata": {},
     "output_type": "display_data"
    },
    {
     "data": {
      "text/markdown": [
       "<span style=\"color:#33cc33\">Correct</span>"
      ],
      "text/plain": [
       "Correct"
      ]
     },
     "metadata": {},
     "output_type": "display_data"
    }
   ],
   "source": [
    "def multi_word_search(doc_list, keywords):\n",
    "    \"\"\"\n",
    "    Takes list of documents (each document is a string) and a list of keywords.  \n",
    "    Returns a dictionary where each key is a keyword, and the value is a list of indices\n",
    "    (from doc_list) of the documents containing that keyword\n",
    "\n",
    "    >>> doc_list = [\"The Learn Python Challenge Casino.\", \"They bought a car and a casino\", \"Casinoville\"]\n",
    "    >>> keywords = ['casino', 'they']\n",
    "    >>> multi_word_search(doc_list, keywords)\n",
    "    {'casino': [0, 1], 'they': [1]}\n",
    "    \"\"\"\n",
    "    indices={}\n",
    "    for keyword in keywords:\n",
    "        indices[keyword]=word_search(doc_list,keyword)\n",
    "    return indices\n",
    "   \n",
    "# Check your answer\n",
    "q3.check()"
   ]
  },
  {
   "cell_type": "code",
   "execution_count": 12,
   "id": "cc4b21f8",
   "metadata": {
    "execution": {
     "iopub.execute_input": "2021-11-24T15:44:02.805558Z",
     "iopub.status.busy": "2021-11-24T15:44:02.804755Z",
     "iopub.status.idle": "2021-11-24T15:44:02.810772Z",
     "shell.execute_reply": "2021-11-24T15:44:02.810173Z",
     "shell.execute_reply.started": "2021-08-08T15:49:09.981824Z"
    },
    "papermill": {
     "duration": 0.045096,
     "end_time": "2021-11-24T15:44:02.810933",
     "exception": false,
     "start_time": "2021-11-24T15:44:02.765837",
     "status": "completed"
    },
    "tags": []
   },
   "outputs": [
    {
     "data": {
      "application/javascript": [
       "parent.postMessage({\"jupyterEvent\": \"custom.exercise_interaction\", \"data\": {\"interactionType\": 3, \"questionType\": 2, \"questionId\": \"3_MultiWordSearch\", \"learnToolsVersion\": \"0.3.4\", \"valueTowardsCompletion\": 0.0, \"failureMessage\": \"\", \"exceptionClass\": \"\", \"trace\": \"\", \"outcomeType\": 4}}, \"*\")"
      ],
      "text/plain": [
       "<IPython.core.display.Javascript object>"
      ]
     },
     "metadata": {},
     "output_type": "display_data"
    },
    {
     "data": {
      "text/markdown": [
       "<span style=\"color:#33cc99\">Solution:</span> \n",
       "```python\n",
       "def multi_word_search(documents, keywords):\n",
       "    keyword_to_indices = {}\n",
       "    for keyword in keywords:\n",
       "        keyword_to_indices[keyword] = word_search(documents, keyword)\n",
       "    return keyword_to_indices\n",
       "```"
      ],
      "text/plain": [
       "Solution: \n",
       "```python\n",
       "def multi_word_search(documents, keywords):\n",
       "    keyword_to_indices = {}\n",
       "    for keyword in keywords:\n",
       "        keyword_to_indices[keyword] = word_search(documents, keyword)\n",
       "    return keyword_to_indices\n",
       "```"
      ]
     },
     "metadata": {},
     "output_type": "display_data"
    }
   ],
   "source": [
    "q3.solution()"
   ]
  },
  {
   "cell_type": "markdown",
   "id": "232ddaa4",
   "metadata": {
    "papermill": {
     "duration": 0.03273,
     "end_time": "2021-11-24T15:44:02.877320",
     "exception": false,
     "start_time": "2021-11-24T15:44:02.844590",
     "status": "completed"
    },
    "tags": []
   },
   "source": [
    "# Keep Going\n",
    "\n",
    "You've learned a lot. But even the best programmers rely heavily on \"libraries\" of code from other programmers. You'll learn about that in **[the last lesson](https://www.kaggle.com/colinmorris/working-with-external-libraries)**.\n"
   ]
  },
  {
   "cell_type": "markdown",
   "id": "d7217ba9",
   "metadata": {
    "papermill": {
     "duration": 0.033191,
     "end_time": "2021-11-24T15:44:02.942559",
     "exception": false,
     "start_time": "2021-11-24T15:44:02.909368",
     "status": "completed"
    },
    "tags": []
   },
   "source": [
    "---\n",
    "\n",
    "\n",
    "\n",
    "\n",
    "*Have questions or comments? Visit the [Learn Discussion forum](https://www.kaggle.com/learn-forum/161283) to chat with other Learners.*"
   ]
  }
 ],
 "metadata": {
  "kernelspec": {
   "display_name": "Python 3",
   "language": "python",
   "name": "python3"
  },
  "language_info": {
   "codemirror_mode": {
    "name": "ipython",
    "version": 3
   },
   "file_extension": ".py",
   "mimetype": "text/x-python",
   "name": "python",
   "nbconvert_exporter": "python",
   "pygments_lexer": "ipython3",
   "version": "3.7.10"
  },
  "papermill": {
   "default_parameters": {},
   "duration": 12.437282,
   "end_time": "2021-11-24T15:44:03.888440",
   "environment_variables": {},
   "exception": null,
   "input_path": "__notebook__.ipynb",
   "output_path": "__notebook__.ipynb",
   "parameters": {},
   "start_time": "2021-11-24T15:43:51.451158",
   "version": "2.3.3"
  }
 },
 "nbformat": 4,
 "nbformat_minor": 5
}
