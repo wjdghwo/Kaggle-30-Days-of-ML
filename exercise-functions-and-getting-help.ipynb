{
 "cells": [
  {
   "cell_type": "markdown",
   "id": "bb78ce6d",
   "metadata": {
    "papermill": {
     "duration": 0.018872,
     "end_time": "2021-08-05T03:00:43.196033",
     "exception": false,
     "start_time": "2021-08-05T03:00:43.177161",
     "status": "completed"
    },
    "tags": []
   },
   "source": [
    "**This notebook is an exercise in the [Python](https://www.kaggle.com/learn/python) course.  You can reference the tutorial at [this link](https://www.kaggle.com/colinmorris/functions-and-getting-help).**\n",
    "\n",
    "---\n"
   ]
  },
  {
   "cell_type": "markdown",
   "id": "7f095578",
   "metadata": {
    "papermill": {
     "duration": 0.018016,
     "end_time": "2021-08-05T03:00:43.229346",
     "exception": false,
     "start_time": "2021-08-05T03:00:43.211330",
     "status": "completed"
    },
    "tags": []
   },
   "source": [
    "Functions are powerful. Try writing some yourself.\n",
    "\n",
    "As before, don't forget to run the setup code below before jumping into question 1."
   ]
  },
  {
   "cell_type": "code",
   "execution_count": 1,
   "id": "3c8a62be",
   "metadata": {
    "_kg_hide-input": true,
    "_kg_hide-output": true,
    "execution": {
     "iopub.execute_input": "2021-08-05T03:00:43.267413Z",
     "iopub.status.busy": "2021-08-05T03:00:43.266597Z",
     "iopub.status.idle": "2021-08-05T03:00:43.451893Z",
     "shell.execute_reply": "2021-08-05T03:00:43.451062Z",
     "shell.execute_reply.started": "2021-08-05T02:57:52.601128Z"
    },
    "papermill": {
     "duration": 0.210188,
     "end_time": "2021-08-05T03:00:43.452090",
     "exception": false,
     "start_time": "2021-08-05T03:00:43.241902",
     "status": "completed"
    },
    "tags": []
   },
   "outputs": [
    {
     "name": "stdout",
     "output_type": "stream",
     "text": [
      "Setup complete.\n"
     ]
    }
   ],
   "source": [
    "# SETUP. You don't need to worry for now about what this code does or how it works.\n",
    "from learntools.core import binder; binder.bind(globals())\n",
    "from learntools.python.ex2 import *\n",
    "print('Setup complete.')"
   ]
  },
  {
   "cell_type": "markdown",
   "id": "4c6819ca",
   "metadata": {
    "papermill": {
     "duration": 0.011587,
     "end_time": "2021-08-05T03:00:43.476875",
     "exception": false,
     "start_time": "2021-08-05T03:00:43.465288",
     "status": "completed"
    },
    "tags": []
   },
   "source": [
    "# 1.\n",
    "\n",
    "Complete the body of the following function according to its docstring.\n",
    "\n",
    "HINT: Python has a built-in function `round`."
   ]
  },
  {
   "cell_type": "code",
   "execution_count": 2,
   "id": "00ca1418",
   "metadata": {
    "execution": {
     "iopub.execute_input": "2021-08-05T03:00:43.510323Z",
     "iopub.status.busy": "2021-08-05T03:00:43.509208Z",
     "iopub.status.idle": "2021-08-05T03:00:43.515559Z",
     "shell.execute_reply": "2021-08-05T03:00:43.515004Z",
     "shell.execute_reply.started": "2021-08-05T02:58:35.374430Z"
    },
    "papermill": {
     "duration": 0.026897,
     "end_time": "2021-08-05T03:00:43.515717",
     "exception": false,
     "start_time": "2021-08-05T03:00:43.488820",
     "status": "completed"
    },
    "tags": []
   },
   "outputs": [
    {
     "data": {
      "application/javascript": [
       "parent.postMessage({\"jupyterEvent\": \"custom.exercise_interaction\", \"data\": {\"outcomeType\": 1, \"valueTowardsCompletion\": 0.16666666666666666, \"interactionType\": 1, \"questionType\": 2, \"questionId\": \"1_RoundFunctionProblem\", \"learnToolsVersion\": \"0.3.4\", \"failureMessage\": \"\", \"exceptionClass\": \"\", \"trace\": \"\"}}, \"*\")"
      ],
      "text/plain": [
       "<IPython.core.display.Javascript object>"
      ]
     },
     "metadata": {},
     "output_type": "display_data"
    },
    {
     "data": {
      "text/markdown": [
       "<span style=\"color:#33cc33\">Correct</span>"
      ],
      "text/plain": [
       "Correct"
      ]
     },
     "metadata": {},
     "output_type": "display_data"
    }
   ],
   "source": [
    "def round_to_two_places(num):\n",
    "    \"\"\"Return the given number rounded to two decimal places. \n",
    "    \n",
    "    >>> round_to_two_places1(3.14159)\n",
    "    3.14\n",
    "    \"\"\"\n",
    "    # Replace this body with your own code.\n",
    "    # (\"pass\" is a keyword that does literally nothing. We used it as a placeholder\n",
    "    # because after we begin a code block, Python requires at least one line of code)\n",
    "    return round(num, 2)\n",
    "    pass\n",
    "\n",
    "round_to_two_places(3.14159)\n",
    "\n",
    "# Check your answer\n",
    "q1.check()"
   ]
  },
  {
   "cell_type": "code",
   "execution_count": 3,
   "id": "d80eb9dc",
   "metadata": {
    "execution": {
     "iopub.execute_input": "2021-08-05T03:00:43.545124Z",
     "iopub.status.busy": "2021-08-05T03:00:43.544483Z",
     "iopub.status.idle": "2021-08-05T03:00:43.547854Z",
     "shell.execute_reply": "2021-08-05T03:00:43.548368Z",
     "shell.execute_reply.started": "2021-08-05T02:57:52.742318Z"
    },
    "papermill": {
     "duration": 0.020167,
     "end_time": "2021-08-05T03:00:43.548569",
     "exception": false,
     "start_time": "2021-08-05T03:00:43.528402",
     "status": "completed"
    },
    "tags": []
   },
   "outputs": [],
   "source": [
    "# Uncomment the following for a hint\n",
    "#q1.hint()\n",
    "# Or uncomment the following to peek at the solution\n",
    "#q1.solution()"
   ]
  },
  {
   "cell_type": "markdown",
   "id": "076247e3",
   "metadata": {
    "papermill": {
     "duration": 0.012369,
     "end_time": "2021-08-05T03:00:43.573881",
     "exception": false,
     "start_time": "2021-08-05T03:00:43.561512",
     "status": "completed"
    },
    "tags": []
   },
   "source": [
    "# 2.\n",
    "The help for `round` says that `ndigits` (the second argument) may be negative.\n",
    "What do you think will happen when it is? Try some examples in the following cell."
   ]
  },
  {
   "cell_type": "code",
   "execution_count": 4,
   "id": "f5f09f97",
   "metadata": {
    "execution": {
     "iopub.execute_input": "2021-08-05T03:00:43.614540Z",
     "iopub.status.busy": "2021-08-05T03:00:43.613857Z",
     "iopub.status.idle": "2021-08-05T03:00:43.621483Z",
     "shell.execute_reply": "2021-08-05T03:00:43.622015Z",
     "shell.execute_reply.started": "2021-08-05T02:59:07.977540Z"
    },
    "papermill": {
     "duration": 0.027039,
     "end_time": "2021-08-05T03:00:43.622224",
     "exception": false,
     "start_time": "2021-08-05T03:00:43.595185",
     "status": "completed"
    },
    "tags": []
   },
   "outputs": [
    {
     "data": {
      "text/plain": [
       "123500"
      ]
     },
     "execution_count": 4,
     "metadata": {},
     "output_type": "execute_result"
    }
   ],
   "source": [
    "# Put your test code here\n",
    "def round_to_two_places2(num):\n",
    "\n",
    "    return round(num, -2)\n",
    "    pass\n",
    "\n",
    "round_to_two_places2(123456)"
   ]
  },
  {
   "cell_type": "markdown",
   "id": "aa08299f",
   "metadata": {
    "papermill": {
     "duration": 0.016391,
     "end_time": "2021-08-05T03:00:43.654640",
     "exception": false,
     "start_time": "2021-08-05T03:00:43.638249",
     "status": "completed"
    },
    "tags": []
   },
   "source": [
    "Can you think of a case where this would be useful?  Once you're ready, run the code cell below to see the answer and to receive credit for completing the problem."
   ]
  },
  {
   "cell_type": "code",
   "execution_count": 5,
   "id": "8dbb1ff5",
   "metadata": {
    "execution": {
     "iopub.execute_input": "2021-08-05T03:00:43.685572Z",
     "iopub.status.busy": "2021-08-05T03:00:43.684841Z",
     "iopub.status.idle": "2021-08-05T03:00:43.693653Z",
     "shell.execute_reply": "2021-08-05T03:00:43.694133Z",
     "shell.execute_reply.started": "2021-08-05T02:58:48.786257Z"
    },
    "papermill": {
     "duration": 0.026816,
     "end_time": "2021-08-05T03:00:43.694343",
     "exception": false,
     "start_time": "2021-08-05T03:00:43.667527",
     "status": "completed"
    },
    "tags": []
   },
   "outputs": [
    {
     "data": {
      "application/javascript": [
       "parent.postMessage({\"jupyterEvent\": \"custom.exercise_interaction\", \"data\": {\"interactionType\": 3, \"questionType\": 4, \"questionId\": \"2_RoundNdigitsProblem\", \"learnToolsVersion\": \"0.3.4\", \"valueTowardsCompletion\": 0.0, \"failureMessage\": \"\", \"exceptionClass\": \"\", \"trace\": \"\", \"outcomeType\": 4}}, \"*\")"
      ],
      "text/plain": [
       "<IPython.core.display.Javascript object>"
      ]
     },
     "metadata": {},
     "output_type": "display_data"
    },
    {
     "data": {
      "text/markdown": [
       "<span style=\"color:#33cc99\">Solution:</span> As you've seen, `ndigits=-1` rounds to the nearest 10, `ndigits=-2` rounds to the nearest 100 and so on. Where might this be useful? Suppose we're dealing with large numbers:\n",
       "\n",
       "> The area of Finland is 338,424 km²  \n",
       "> The area of Greenland is 2,166,086 km²\n",
       "\n",
       "We probably don't care whether it's really 338,424, or 338,425, or 338,177. All those digits of accuracy are just distracting. We can chop them off by calling `round()` with `ndigits=-3`:\n",
       "\n",
       "> The area of Finland is 338,000 km²  \n",
       "> The area of Greenland is 2,166,000 km²\n",
       "\n",
       "(We'll talk about how we would get the commas later when we talk about string formatting :))\n"
      ],
      "text/plain": [
       "Solution: As you've seen, `ndigits=-1` rounds to the nearest 10, `ndigits=-2` rounds to the nearest 100 and so on. Where might this be useful? Suppose we're dealing with large numbers:\n",
       "\n",
       "> The area of Finland is 338,424 km²  \n",
       "> The area of Greenland is 2,166,086 km²\n",
       "\n",
       "We probably don't care whether it's really 338,424, or 338,425, or 338,177. All those digits of accuracy are just distracting. We can chop them off by calling `round()` with `ndigits=-3`:\n",
       "\n",
       "> The area of Finland is 338,000 km²  \n",
       "> The area of Greenland is 2,166,000 km²\n",
       "\n",
       "(We'll talk about how we would get the commas later when we talk about string formatting :))"
      ]
     },
     "metadata": {},
     "output_type": "display_data"
    }
   ],
   "source": [
    "# Check your answer (Run this code cell to receive credit!)\n",
    "q2.solution()"
   ]
  },
  {
   "cell_type": "markdown",
   "id": "97ce3e87",
   "metadata": {
    "papermill": {
     "duration": 0.013402,
     "end_time": "2021-08-05T03:00:43.725114",
     "exception": false,
     "start_time": "2021-08-05T03:00:43.711712",
     "status": "completed"
    },
    "tags": []
   },
   "source": [
    "# 3.\n",
    "\n",
    "In the previous exercise, the candy-sharing friends Alice, Bob and Carol tried to split candies evenly. For the sake of their friendship, any candies left over would be smashed. For example, if they collectively bring home 91 candies, they'll take 30 each and smash 1.\n",
    "\n",
    "Below is a simple function that will calculate the number of candies to smash for *any* number of total candies.\n",
    "\n",
    "Modify it so that it optionally takes a second argument representing the number of friends the candies are being split between. If no second argument is provided, it should assume 3 friends, as before.\n",
    "\n",
    "Update the docstring to reflect this new behaviour."
   ]
  },
  {
   "cell_type": "code",
   "execution_count": 6,
   "id": "b7764e9f",
   "metadata": {
    "execution": {
     "iopub.execute_input": "2021-08-05T03:00:43.760295Z",
     "iopub.status.busy": "2021-08-05T03:00:43.759295Z",
     "iopub.status.idle": "2021-08-05T03:00:43.766088Z",
     "shell.execute_reply": "2021-08-05T03:00:43.766614Z",
     "shell.execute_reply.started": "2021-08-05T02:59:25.740194Z"
    },
    "papermill": {
     "duration": 0.0281,
     "end_time": "2021-08-05T03:00:43.766825",
     "exception": false,
     "start_time": "2021-08-05T03:00:43.738725",
     "status": "completed"
    },
    "tags": []
   },
   "outputs": [
    {
     "data": {
      "application/javascript": [
       "parent.postMessage({\"jupyterEvent\": \"custom.exercise_interaction\", \"data\": {\"outcomeType\": 1, \"valueTowardsCompletion\": 0.16666666666666666, \"interactionType\": 1, \"questionType\": 2, \"questionId\": \"3_CandySmashingFunctionProblem\", \"learnToolsVersion\": \"0.3.4\", \"failureMessage\": \"\", \"exceptionClass\": \"\", \"trace\": \"\"}}, \"*\")"
      ],
      "text/plain": [
       "<IPython.core.display.Javascript object>"
      ]
     },
     "metadata": {},
     "output_type": "display_data"
    },
    {
     "data": {
      "text/markdown": [
       "<span style=\"color:#33cc33\">Correct</span>"
      ],
      "text/plain": [
       "Correct"
      ]
     },
     "metadata": {},
     "output_type": "display_data"
    }
   ],
   "source": [
    "def to_smash(total_candies, n=3):\n",
    "    \"\"\"Return the number of leftover candies that must be smashed after distributing\n",
    "    the given number of candies evenly between 3 friends.\n",
    "    \n",
    "    >>> to_smash(91)\n",
    "    1\n",
    "    \"\"\"\n",
    "    return total_candies % n\n",
    "\n",
    "# Check your answer\n",
    "q3.check()"
   ]
  },
  {
   "cell_type": "code",
   "execution_count": 7,
   "id": "567c3b9b",
   "metadata": {
    "execution": {
     "iopub.execute_input": "2021-08-05T03:00:43.801792Z",
     "iopub.status.busy": "2021-08-05T03:00:43.800940Z",
     "iopub.status.idle": "2021-08-05T03:00:43.803933Z",
     "shell.execute_reply": "2021-08-05T03:00:43.803365Z"
    },
    "papermill": {
     "duration": 0.021953,
     "end_time": "2021-08-05T03:00:43.804076",
     "exception": false,
     "start_time": "2021-08-05T03:00:43.782123",
     "status": "completed"
    },
    "tags": []
   },
   "outputs": [],
   "source": [
    "#q3.hint()"
   ]
  },
  {
   "cell_type": "code",
   "execution_count": 8,
   "id": "e64b7137",
   "metadata": {
    "execution": {
     "iopub.execute_input": "2021-08-05T03:00:43.839936Z",
     "iopub.status.busy": "2021-08-05T03:00:43.839205Z",
     "iopub.status.idle": "2021-08-05T03:00:43.842688Z",
     "shell.execute_reply": "2021-08-05T03:00:43.842121Z",
     "shell.execute_reply.started": "2021-08-05T02:59:29.348026Z"
    },
    "papermill": {
     "duration": 0.022034,
     "end_time": "2021-08-05T03:00:43.842839",
     "exception": false,
     "start_time": "2021-08-05T03:00:43.820805",
     "status": "completed"
    },
    "tags": []
   },
   "outputs": [],
   "source": [
    "#q3.solution()"
   ]
  },
  {
   "cell_type": "markdown",
   "id": "d070c4bb",
   "metadata": {
    "papermill": {
     "duration": 0.014347,
     "end_time": "2021-08-05T03:00:43.872505",
     "exception": false,
     "start_time": "2021-08-05T03:00:43.858158",
     "status": "completed"
    },
    "tags": []
   },
   "source": [
    "# 4. (Optional)\n",
    "\n",
    "It may not be fun, but reading and understanding error messages will be an important part of your Python career.\n",
    "\n",
    "Each code cell below contains some commented buggy code. For each cell...\n",
    "\n",
    "1. Read the code and predict what you think will happen when it's run.\n",
    "2. Then uncomment the code and run it to see what happens. (**Tip**: In the kernel editor, you can highlight several lines and press `ctrl`+`/` to toggle commenting.)\n",
    "3. Fix the code (so that it accomplishes its intended purpose without throwing an exception)\n",
    "\n",
    "<!-- TODO: should this be autochecked? Delta is probably pretty small. -->"
   ]
  },
  {
   "cell_type": "code",
   "execution_count": 9,
   "id": "88850119",
   "metadata": {
    "execution": {
     "iopub.execute_input": "2021-08-05T03:00:43.909200Z",
     "iopub.status.busy": "2021-08-05T03:00:43.908561Z",
     "iopub.status.idle": "2021-08-05T03:00:43.911631Z",
     "shell.execute_reply": "2021-08-05T03:00:43.912052Z",
     "shell.execute_reply.started": "2021-08-05T02:59:34.727818Z"
    },
    "papermill": {
     "duration": 0.023804,
     "end_time": "2021-08-05T03:00:43.912247",
     "exception": false,
     "start_time": "2021-08-05T03:00:43.888443",
     "status": "completed"
    },
    "tags": []
   },
   "outputs": [
    {
     "data": {
      "text/plain": [
       "10.0"
      ]
     },
     "execution_count": 9,
     "metadata": {},
     "output_type": "execute_result"
    }
   ],
   "source": [
    "round_to_two_places(9.9999)"
   ]
  },
  {
   "cell_type": "code",
   "execution_count": 10,
   "id": "62749692",
   "metadata": {
    "execution": {
     "iopub.execute_input": "2021-08-05T03:00:43.946189Z",
     "iopub.status.busy": "2021-08-05T03:00:43.945236Z",
     "iopub.status.idle": "2021-08-05T03:00:43.949757Z",
     "shell.execute_reply": "2021-08-05T03:00:43.949218Z",
     "shell.execute_reply.started": "2021-08-05T02:59:53.794373Z"
    },
    "papermill": {
     "duration": 0.023026,
     "end_time": "2021-08-05T03:00:43.949909",
     "exception": false,
     "start_time": "2021-08-05T03:00:43.926883",
     "status": "completed"
    },
    "tags": []
   },
   "outputs": [],
   "source": [
    "x = -10\n",
    "y = 5\n",
    "# Which of the two variables above has the smallest absolute value?\n",
    "smallest_abs = min(abs(x), abs(y))"
   ]
  },
  {
   "cell_type": "code",
   "execution_count": 11,
   "id": "7d8a7da9",
   "metadata": {
    "execution": {
     "iopub.execute_input": "2021-08-05T03:00:43.986384Z",
     "iopub.status.busy": "2021-08-05T03:00:43.985677Z",
     "iopub.status.idle": "2021-08-05T03:00:43.990610Z",
     "shell.execute_reply": "2021-08-05T03:00:43.989966Z",
     "shell.execute_reply.started": "2021-08-05T03:00:07.094209Z"
    },
    "papermill": {
     "duration": 0.025521,
     "end_time": "2021-08-05T03:00:43.990766",
     "exception": false,
     "start_time": "2021-08-05T03:00:43.965245",
     "status": "completed"
    },
    "tags": []
   },
   "outputs": [
    {
     "data": {
      "text/plain": [
       "5"
      ]
     },
     "execution_count": 11,
     "metadata": {},
     "output_type": "execute_result"
    }
   ],
   "source": [
    "min(x, y, key=abs)"
   ]
  },
  {
   "cell_type": "code",
   "execution_count": 12,
   "id": "62619cce",
   "metadata": {
    "execution": {
     "iopub.execute_input": "2021-08-05T03:00:44.028311Z",
     "iopub.status.busy": "2021-08-05T03:00:44.027600Z",
     "iopub.status.idle": "2021-08-05T03:00:44.030426Z",
     "shell.execute_reply": "2021-08-05T03:00:44.030937Z",
     "shell.execute_reply.started": "2021-08-05T02:59:47.314071Z"
    },
    "papermill": {
     "duration": 0.024955,
     "end_time": "2021-08-05T03:00:44.031141",
     "exception": false,
     "start_time": "2021-08-05T03:00:44.006186",
     "status": "completed"
    },
    "tags": []
   },
   "outputs": [
    {
     "name": "stdout",
     "output_type": "stream",
     "text": [
      "5\n"
     ]
    }
   ],
   "source": [
    "def f(x):\n",
    "    y = abs(x)\n",
    "    return y\n",
    "\n",
    "print(f(5))"
   ]
  },
  {
   "cell_type": "markdown",
   "id": "72c9c09a",
   "metadata": {
    "papermill": {
     "duration": 0.016508,
     "end_time": "2021-08-05T03:00:44.066414",
     "exception": false,
     "start_time": "2021-08-05T03:00:44.049906",
     "status": "completed"
    },
    "tags": []
   },
   "source": [
    "# Keep Going\n",
    "\n",
    "Nice job with the code. Next up, you'll learn about *conditionals*, which you'll need to **[write interesting programs](https://www.kaggle.com/colinmorris/booleans-and-conditionals)**. "
   ]
  },
  {
   "cell_type": "markdown",
   "id": "fcd43e0c",
   "metadata": {
    "papermill": {
     "duration": 0.019596,
     "end_time": "2021-08-05T03:00:44.103241",
     "exception": false,
     "start_time": "2021-08-05T03:00:44.083645",
     "status": "completed"
    },
    "tags": []
   },
   "source": [
    "---\n",
    "\n",
    "\n",
    "\n",
    "\n",
    "*Have questions or comments? Visit the [Learn Discussion forum](https://www.kaggle.com/learn-forum/161283) to chat with other Learners.*"
   ]
  }
 ],
 "metadata": {
  "kernelspec": {
   "display_name": "Python 3",
   "language": "python",
   "name": "python3"
  },
  "language_info": {
   "codemirror_mode": {
    "name": "ipython",
    "version": 3
   },
   "file_extension": ".py",
   "mimetype": "text/x-python",
   "name": "python",
   "nbconvert_exporter": "python",
   "pygments_lexer": "ipython3",
   "version": "3.7.10"
  },
  "papermill": {
   "default_parameters": {},
   "duration": 9.470697,
   "end_time": "2021-08-05T03:00:44.836001",
   "environment_variables": {},
   "exception": null,
   "input_path": "__notebook__.ipynb",
   "output_path": "__notebook__.ipynb",
   "parameters": {},
   "start_time": "2021-08-05T03:00:35.365304",
   "version": "2.3.3"
  }
 },
 "nbformat": 4,
 "nbformat_minor": 5
}
