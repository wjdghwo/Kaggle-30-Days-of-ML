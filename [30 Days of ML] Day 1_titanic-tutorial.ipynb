{
 "cells": [
  {
   "cell_type": "markdown",
   "metadata": {},
   "source": [
    "Kaggle을 시작하기는 어려울 수 있다. Kaggle 대회는 큰 상금과 Public leaderboards(순위표), 복잡한 데이터를 제공하고 있다. 이런 대회에 참가하지 않아도 모든 데이터 과학자들이 기계 학습 경쟁에서 빠르게 배울 수 있도록 (사회에 의미 있는 기여)를 위한 학습서비스도 제공하고 있다. Kaggle에서는 플랫폼의 작동 방식 및 대회에서 수행되는 학습 멘탈 모델의 이해를 돕기 위한 Titanic 경연대회용 시작하기 튜토리얼을 제공하고 있다. 처음 리더보드 제출을 시도하는 참가자들을 위한 초기 단계를 안내한다. 튜토리얼을 마치면 Kaggle의 온라인 코딩 환경 사용 방법 또한 확실하게 알수 있을 것이다.\n",
    "\n",
    "다음 과정이 없어도 Kaggle 대회에 참여하고 배워갈 수 있다!!:\n",
    "- 대규모 데이터셋을 처리한 경험이 있습니다.\n",
    "- 코딩은 많이 하지 않았습니다.\n",
    "- 데이터 과학이 처음입니다.\n",
    "- 상대적으로 경험이 풍부합니다. (그러나 Kaggle의 플랫폼에 익숙하지 않을 뿐입니다).\n",
    "\n",
    "\n",
    "# Part 1: Get started\n",
    "\n",
    "이 섹션은 competition에 대해 알아보고 제출단계까지 포함합니다.\n",
    "\n",
    "## Join the competition!\n",
    "\n",
    "먼저 competition에 등록하세요!  본 대회링크를 **[the competition page](https://www.kaggle.com/c/titanic)**, 열고 **\"Join Competition\"** 버튼을 누르세요.  \"Submit Predictions\" 표시는 이미 참여하고 있는 대회입니다.\n",
    "\n",
    "![](https://i.imgur.com/07cskyU.png)\n",
    "\n",
    "Rules acceptance page을 허용해야 대회 참여가 가능합니다. 이 규칙은 일일 제출 횟수, 최대 팀 규모 및 기타 경기별 세부 정보를 포함하고 있습니다. **\"I Understand and Accept\"** 버튼을 클릭하여 경기 규칙을 준수하여 대회에 참가할 수 있습니다.\n",
    "\n",
    "## The challenge\n",
    "\n",
    "Competition는 간단합니다. 타이타닉 승객 데이터(이름, 나이, 티켓 가격 등)를 사용하여 생존자와 사망자를 예측해 보십시오.\n",
    "\n",
    "## The data\n",
    "\n",
    "경쟁 데이터를 보려면 경쟁 페이지 상단에 있는 **<a href=\"https://www.kaggle.com/c/titanic/data\" target=\"_blank\" rel=\"noopener noreferrer\"><b>Data tab</b></a>** 를 클릭하십시오. 그런 다음 아래로 스크롤하여 파일 목록을 찾습니다.\n",
    "데이터에는 세 가지 파일이 있습니다: (1) **train.csv**, (2) **test.csv**, and (3) **gender_submission.csv**.\n",
    "\n",
    "### (1) train.csv\n",
    "\n",
    "**train.csv**에는 탑승한 승객의 하위 집합(정확히 말해서 승객 891명)에 대한 세부 정보가 포함되어 있습니다(각 승객은 테이블에서 서로 다른 행에 표시됩니다). 이 데이터를 살표보려면 화면 왼쪽에 있는 파일 이름을 클릭하십시오. 이 작업을 완료하면 창에 있는 모든 데이터를 볼 수 있습니다\n",
    "\n",
    "![](https://i.imgur.com/cYsdt0n.png)\n",
    "\n",
    "두 번째 열의 값 (**\"Survived\"**)을 사용하여 각 승객의 생존 여부를 확인할 수 있습니다.\n",
    "- \"1\" 이면 승객은 살아남았습니다.\n",
    "- \"0\" 이면 승객이 사망했습니다.\n",
    "\n",
    "ex) **train.csv**의 첫 번째 승객은 오웬 해리스 브라운드 씨입니다. 그는 22살에 타이타닉 사고로 사망했습니다.\n",
    "\n",
    "### (2) test.csv\n",
    "\n",
    "**train.csv**에 있는 패턴을 사용하여 탑승한 다른 418명의 승객(**test.csv**)이 생존했는지 여부를 예측해야 합니다.\n",
    "\n",
    "**test.csv**(화면 왼쪽)을 클릭하여 내용을 검사합니다. **test.csv**에는 **\"Survived\"** 열이 없습니다. 이 정보는 사용자에게 비공개 됩니다. 비공개 된 데이터를 얼마나 잘 예측하느냐에 따라 경쟁에서 얼마나 높은 점수를 받을 수 있습니다.\n",
    "\n",
    "### (3) gender_submission.csv\n",
    "\n",
    "**gender_submission.csv** 파일은 예측을 구조화하는 방법을 보여 주는 예로 제공됩니다. 여성 승객은 모두 살아남았고 남성 승객은 모두 사망했다고 가정합니다. 생존에 대한 가설은 분석가마다 다를 것이고, 서로 다른 제출 파일을 제출하게 될 것입니다. 그러나 이 파일과 마찬가지로 제출 항목에는 다음이 변수가 포함되어야 합니다.\n",
    "- **test.csv**의 각 승객 ID가 들어 있는 **\"PassengerId\"** 열입니다.\n",
    "- **\"Survived\"** 열 (예측 열)\"은 승객이 생존했다고 생각하는 행에 \"1\"을, 승객이 사망했다고 예측하는 행에 대해 \"0\"을 표시합니다."
   ]
  },
  {
   "cell_type": "markdown",
   "metadata": {},
   "source": [
    "# Part 2: Your coding environment\n",
    "\n",
    "이 섹션에서는 예측을 개선을 위한 기계 학습 모델을 소개합니다. _코드를 작성해 본 적이 없거나 기계 학습 경험이 없다면 걱정하지 마십시오! 본 튜토리얼에서는 사전지식이 필요하지 않습니다._\n",
    "\n",
    "\n",
    "## The Notebook\n",
    "\n",
    "먼저 모든 코드를 저장할 Kaggle 노트북을 만드는 것입니다. Kaggle 노트북을 사용하면 컴퓨터에 프로그램을 설치할 필요 없이 분석코드를 빠르게 작성하고 실행할 수 있습니다. (_Deep learning에 관심이 있는 경우 GPU 액세스도 무료로 제공합니다!_)\n",
    "\n",
    "Competition page에서 **<a href=\"https://www.kaggle.com/c/titanic/kernels\" target=\"_blank\">Code tab</a>** 를 클릭하여 시작합니다. 그런 다음 **\"New Notebook\"** 을 클릭합니다.\n",
    "\n",
    "![](https://i.imgur.com/v2i82Xd.png)\n",
    "\n",
    "노트북을 로드하는 데 몇 초 정도 걸립니다. 왼쪽 상단 모서리에 **\"kernel2daed3cd79\"**와 같은 노트북 이름이 표시됩니다.\n",
    "\n",
    "![](https://i.imgur.com/64ZFT1L.png)\n",
    "\n",
    "노트북 이름을 클릭하여 편집할 수 있습니다. **\"Getting Started with Titanic\"**\"와 같은 다른이름으로 변경합니다.\n",
    "\n",
    "![](https://i.imgur.com/uwyvzXq.png)\n",
    "\n",
    "## Your first lines of code\n",
    "\n",
    "새 노트북을 시작하면 코드를 저장하는 회색 상자가 두 개 있습니다. 우리는 이 회색 상자를 \"code cells\"이라고 부릅니다.\n",
    "\n",
    "![](https://i.imgur.com/q9mwkZM.png)\n",
    "\n",
    "첫 번째 코드 셀에는 이미 코드가 포함되어 있습니다. 이 코드를 실행하려면 코드 셀에 커서를 넣으십시오. (_커서가 올바른 위치에 있으면 회색 상자 왼쪽에 파란색 세로줄이 표시됩니다._) 그런 다음 재생 버튼(파란색 라인 왼쪽에 표시됨)을 누르거나 키보드에서 **[Shift] + [Enter]**를 누르십시오.\n",
    "\n",
    "코드가 성공적으로 실행되면 세 줄의 출력이 반환됩니다. 아래에는 방금 실행한 것과 동일한 코드와 노트북에 표시되어야 하는 출력이 표시됩니다."
   ]
  },
  {
   "cell_type": "code",
   "execution_count": 1,
   "metadata": {
    "_kg_hide-input": false
   },
   "outputs": [
    {
     "name": "stdout",
     "output_type": "stream",
     "text": [
      "/kaggle/input/titanic/train.csv\n",
      "/kaggle/input/titanic/test.csv\n",
      "/kaggle/input/titanic/gender_submission.csv\n"
     ]
    }
   ],
   "source": [
    "# This Python 3 environment comes with many helpful analytics libraries installed\n",
    "# It is defined by the kaggle/python docker image: https://github.com/kaggle/docker-python\n",
    "# For example, here's several helpful packages to load in \n",
    "\n",
    "import numpy as np # linear algebra\n",
    "import pandas as pd # data processing, CSV file I/O (e.g. pd.read_csv)\n",
    "\n",
    "# Input data files are available in the \"../input/\" directory.\n",
    "# For example, running this (by clicking run or pressing Shift+Enter) will list all files under the input directory\n",
    "\n",
    "import os\n",
    "for dirname, _, filenames in os.walk('/kaggle/input'):\n",
    "    for filename in filenames:\n",
    "        print(os.path.join(dirname, filename))\n",
    "\n",
    "# Any results you write to the current directory are saved as output."
   ]
  },
  {
   "cell_type": "markdown",
   "metadata": {},
   "source": [
    "노트북에 파일을 로드할 수 있도록 competition data가 저장된 위치를 보여줍니다.\n",
    "\n",
    "## Load the data\n",
    "\n",
    "이제 노트북의 두 번째 코드 셀이 파일 위치와 함께 출력 세 줄 아래에 나타납니다.\n",
    "\n",
    "![](https://i.imgur.com/OQBax9n.png)\n",
    "\n",
    "아래의 두 줄의 코드를 두 번째 코드 셀에 입력하십시오. 그런 다음 파란색 재생 버튼을 클릭하거나 **[Shift] + [Enter]** 를 누릅니다."
   ]
  },
  {
   "cell_type": "code",
   "execution_count": 2,
   "metadata": {},
   "outputs": [
    {
     "data": {
      "text/html": [
       "<div>\n",
       "<style scoped>\n",
       "    .dataframe tbody tr th:only-of-type {\n",
       "        vertical-align: middle;\n",
       "    }\n",
       "\n",
       "    .dataframe tbody tr th {\n",
       "        vertical-align: top;\n",
       "    }\n",
       "\n",
       "    .dataframe thead th {\n",
       "        text-align: right;\n",
       "    }\n",
       "</style>\n",
       "<table border=\"1\" class=\"dataframe\">\n",
       "  <thead>\n",
       "    <tr style=\"text-align: right;\">\n",
       "      <th></th>\n",
       "      <th>PassengerId</th>\n",
       "      <th>Survived</th>\n",
       "      <th>Pclass</th>\n",
       "      <th>Name</th>\n",
       "      <th>Sex</th>\n",
       "      <th>Age</th>\n",
       "      <th>SibSp</th>\n",
       "      <th>Parch</th>\n",
       "      <th>Ticket</th>\n",
       "      <th>Fare</th>\n",
       "      <th>Cabin</th>\n",
       "      <th>Embarked</th>\n",
       "    </tr>\n",
       "  </thead>\n",
       "  <tbody>\n",
       "    <tr>\n",
       "      <td>0</td>\n",
       "      <td>1</td>\n",
       "      <td>0</td>\n",
       "      <td>3</td>\n",
       "      <td>Braund, Mr. Owen Harris</td>\n",
       "      <td>male</td>\n",
       "      <td>22.0</td>\n",
       "      <td>1</td>\n",
       "      <td>0</td>\n",
       "      <td>A/5 21171</td>\n",
       "      <td>7.2500</td>\n",
       "      <td>NaN</td>\n",
       "      <td>S</td>\n",
       "    </tr>\n",
       "    <tr>\n",
       "      <td>1</td>\n",
       "      <td>2</td>\n",
       "      <td>1</td>\n",
       "      <td>1</td>\n",
       "      <td>Cumings, Mrs. John Bradley (Florence Briggs Th...</td>\n",
       "      <td>female</td>\n",
       "      <td>38.0</td>\n",
       "      <td>1</td>\n",
       "      <td>0</td>\n",
       "      <td>PC 17599</td>\n",
       "      <td>71.2833</td>\n",
       "      <td>C85</td>\n",
       "      <td>C</td>\n",
       "    </tr>\n",
       "    <tr>\n",
       "      <td>2</td>\n",
       "      <td>3</td>\n",
       "      <td>1</td>\n",
       "      <td>3</td>\n",
       "      <td>Heikkinen, Miss. Laina</td>\n",
       "      <td>female</td>\n",
       "      <td>26.0</td>\n",
       "      <td>0</td>\n",
       "      <td>0</td>\n",
       "      <td>STON/O2. 3101282</td>\n",
       "      <td>7.9250</td>\n",
       "      <td>NaN</td>\n",
       "      <td>S</td>\n",
       "    </tr>\n",
       "    <tr>\n",
       "      <td>3</td>\n",
       "      <td>4</td>\n",
       "      <td>1</td>\n",
       "      <td>1</td>\n",
       "      <td>Futrelle, Mrs. Jacques Heath (Lily May Peel)</td>\n",
       "      <td>female</td>\n",
       "      <td>35.0</td>\n",
       "      <td>1</td>\n",
       "      <td>0</td>\n",
       "      <td>113803</td>\n",
       "      <td>53.1000</td>\n",
       "      <td>C123</td>\n",
       "      <td>S</td>\n",
       "    </tr>\n",
       "    <tr>\n",
       "      <td>4</td>\n",
       "      <td>5</td>\n",
       "      <td>0</td>\n",
       "      <td>3</td>\n",
       "      <td>Allen, Mr. William Henry</td>\n",
       "      <td>male</td>\n",
       "      <td>35.0</td>\n",
       "      <td>0</td>\n",
       "      <td>0</td>\n",
       "      <td>373450</td>\n",
       "      <td>8.0500</td>\n",
       "      <td>NaN</td>\n",
       "      <td>S</td>\n",
       "    </tr>\n",
       "  </tbody>\n",
       "</table>\n",
       "</div>"
      ],
      "text/plain": [
       "   PassengerId  Survived  Pclass  \\\n",
       "0            1         0       3   \n",
       "1            2         1       1   \n",
       "2            3         1       3   \n",
       "3            4         1       1   \n",
       "4            5         0       3   \n",
       "\n",
       "                                                Name     Sex   Age  SibSp  \\\n",
       "0                            Braund, Mr. Owen Harris    male  22.0      1   \n",
       "1  Cumings, Mrs. John Bradley (Florence Briggs Th...  female  38.0      1   \n",
       "2                             Heikkinen, Miss. Laina  female  26.0      0   \n",
       "3       Futrelle, Mrs. Jacques Heath (Lily May Peel)  female  35.0      1   \n",
       "4                           Allen, Mr. William Henry    male  35.0      0   \n",
       "\n",
       "   Parch            Ticket     Fare Cabin Embarked  \n",
       "0      0         A/5 21171   7.2500   NaN        S  \n",
       "1      0          PC 17599  71.2833   C85        C  \n",
       "2      0  STON/O2. 3101282   7.9250   NaN        S  \n",
       "3      0            113803  53.1000  C123        S  \n",
       "4      0            373450   8.0500   NaN        S  "
      ]
     },
     "execution_count": 2,
     "metadata": {},
     "output_type": "execute_result"
    }
   ],
   "source": [
    "train_data = pd.read_csv(\"/kaggle/input/titanic/train.csv\")\n",
    "train_data.head()"
   ]
  },
  {
   "cell_type": "markdown",
   "metadata": {},
   "source": [
    "Your code should return the output above, which corresponds to the first five rows of the table in **train.csv**.  It's very important that you see this output **in your notebook** before proceeding with the tutorial!\n",
    "\n",
    "코드는 위 출력을 반환해야 합니다. 이는 **train.csv**에 있는 표의 처음 5행에 해당합니다. 튜토리얼을 진행하기 전에 **notebook 출력값** 이 표시되는 것이 매우 중요합니다!\n",
    "\n",
    "> _코드로 이 출력이 생성되지 않는 경우 코드가 위의 두 줄과 동일한지 다시 확인하십시오. 그리고 **[Shift] + [Enter]** 를 누르기 전에 커서가 코드 셀에 있는지 확인하십시오.\n",
    "\n",
    "방금 작성한 코드는 파이썬 프로그래밍 언어로 되어 있습니다. 또한 **pandas**(약칭 'pd')라는 Python \"module\"을 사용하여 **train.csv** 파일에서 노트북으로 표를 로드합니다. 로드를 위해 파일 위치(\"/kaggle/input/titanic/train.csv\")에 연결 했습니다.\n",
    "> Python(+pandas)에 대해 아직 잘 모르신다면 코드가 이해가 되지 않을 것입니다. 하지만 걱정하지 마십시오! 이 튜토리얼의 요점은 대회에 처음 제출하는 것입니다. 튜토리얼이 끝나면 학습을 계속할 수 있는 리소스를 제공합니다.\n",
    "\n",
    "이때 노트북에 최소 세 개의 코드 셀이 있어야 합니다.\n",
    "\n",
    "![](https://i.imgur.com/ReLhYca.png)\n",
    "\n",
    "아래 코드를 노트북의 세 번째 코드 셀에 복사하여 **test.csv** 파일의 내용을 로드합니다. 재생 버튼을 클릭(또는 **[Shift] + [Enter]**)하는 것을 잊지 마십시오!"
   ]
  },
  {
   "cell_type": "code",
   "execution_count": 3,
   "metadata": {},
   "outputs": [
    {
     "data": {
      "text/html": [
       "<div>\n",
       "<style scoped>\n",
       "    .dataframe tbody tr th:only-of-type {\n",
       "        vertical-align: middle;\n",
       "    }\n",
       "\n",
       "    .dataframe tbody tr th {\n",
       "        vertical-align: top;\n",
       "    }\n",
       "\n",
       "    .dataframe thead th {\n",
       "        text-align: right;\n",
       "    }\n",
       "</style>\n",
       "<table border=\"1\" class=\"dataframe\">\n",
       "  <thead>\n",
       "    <tr style=\"text-align: right;\">\n",
       "      <th></th>\n",
       "      <th>PassengerId</th>\n",
       "      <th>Pclass</th>\n",
       "      <th>Name</th>\n",
       "      <th>Sex</th>\n",
       "      <th>Age</th>\n",
       "      <th>SibSp</th>\n",
       "      <th>Parch</th>\n",
       "      <th>Ticket</th>\n",
       "      <th>Fare</th>\n",
       "      <th>Cabin</th>\n",
       "      <th>Embarked</th>\n",
       "    </tr>\n",
       "  </thead>\n",
       "  <tbody>\n",
       "    <tr>\n",
       "      <td>0</td>\n",
       "      <td>892</td>\n",
       "      <td>3</td>\n",
       "      <td>Kelly, Mr. James</td>\n",
       "      <td>male</td>\n",
       "      <td>34.5</td>\n",
       "      <td>0</td>\n",
       "      <td>0</td>\n",
       "      <td>330911</td>\n",
       "      <td>7.8292</td>\n",
       "      <td>NaN</td>\n",
       "      <td>Q</td>\n",
       "    </tr>\n",
       "    <tr>\n",
       "      <td>1</td>\n",
       "      <td>893</td>\n",
       "      <td>3</td>\n",
       "      <td>Wilkes, Mrs. James (Ellen Needs)</td>\n",
       "      <td>female</td>\n",
       "      <td>47.0</td>\n",
       "      <td>1</td>\n",
       "      <td>0</td>\n",
       "      <td>363272</td>\n",
       "      <td>7.0000</td>\n",
       "      <td>NaN</td>\n",
       "      <td>S</td>\n",
       "    </tr>\n",
       "    <tr>\n",
       "      <td>2</td>\n",
       "      <td>894</td>\n",
       "      <td>2</td>\n",
       "      <td>Myles, Mr. Thomas Francis</td>\n",
       "      <td>male</td>\n",
       "      <td>62.0</td>\n",
       "      <td>0</td>\n",
       "      <td>0</td>\n",
       "      <td>240276</td>\n",
       "      <td>9.6875</td>\n",
       "      <td>NaN</td>\n",
       "      <td>Q</td>\n",
       "    </tr>\n",
       "    <tr>\n",
       "      <td>3</td>\n",
       "      <td>895</td>\n",
       "      <td>3</td>\n",
       "      <td>Wirz, Mr. Albert</td>\n",
       "      <td>male</td>\n",
       "      <td>27.0</td>\n",
       "      <td>0</td>\n",
       "      <td>0</td>\n",
       "      <td>315154</td>\n",
       "      <td>8.6625</td>\n",
       "      <td>NaN</td>\n",
       "      <td>S</td>\n",
       "    </tr>\n",
       "    <tr>\n",
       "      <td>4</td>\n",
       "      <td>896</td>\n",
       "      <td>3</td>\n",
       "      <td>Hirvonen, Mrs. Alexander (Helga E Lindqvist)</td>\n",
       "      <td>female</td>\n",
       "      <td>22.0</td>\n",
       "      <td>1</td>\n",
       "      <td>1</td>\n",
       "      <td>3101298</td>\n",
       "      <td>12.2875</td>\n",
       "      <td>NaN</td>\n",
       "      <td>S</td>\n",
       "    </tr>\n",
       "  </tbody>\n",
       "</table>\n",
       "</div>"
      ],
      "text/plain": [
       "   PassengerId  Pclass                                          Name     Sex  \\\n",
       "0          892       3                              Kelly, Mr. James    male   \n",
       "1          893       3              Wilkes, Mrs. James (Ellen Needs)  female   \n",
       "2          894       2                     Myles, Mr. Thomas Francis    male   \n",
       "3          895       3                              Wirz, Mr. Albert    male   \n",
       "4          896       3  Hirvonen, Mrs. Alexander (Helga E Lindqvist)  female   \n",
       "\n",
       "    Age  SibSp  Parch   Ticket     Fare Cabin Embarked  \n",
       "0  34.5      0      0   330911   7.8292   NaN        Q  \n",
       "1  47.0      1      0   363272   7.0000   NaN        S  \n",
       "2  62.0      0      0   240276   9.6875   NaN        Q  \n",
       "3  27.0      0      0   315154   8.6625   NaN        S  \n",
       "4  22.0      1      1  3101298  12.2875   NaN        S  "
      ]
     },
     "execution_count": 3,
     "metadata": {},
     "output_type": "execute_result"
    }
   ],
   "source": [
    "test_data = pd.read_csv(\"/kaggle/input/titanic/test.csv\")\n",
    "test_data.head()"
   ]
  },
  {
   "cell_type": "markdown",
   "metadata": {},
   "source": [
    "이전과 마찬가지로 계속하기 전에 노트북에 위의 출력이 있는지 확인하십시오.\n",
    "\n",
    "모든 코드가 성공적으로 실행되면 모든 데이터(**train.csv** 및 **test.csv**)가 노트북에 로드됩니다. (_위 코드는 각 표의 처음 5개 행만 표시하지만 모든 데이터는 **train.csv** 행 891개와 **test.csv**!_ 행 418개를 모두 포함합니다.)\n",
    "\n",
    "# Part 3: Your first submission\n",
    "\n",
    "목표를 기억하십시오. **train.csv**에서 **test.csv**의 승객이 생존했는지 여부를 예측하는 데 도움이 되는 패턴을 찾고자 합니다.\n",
    "\n",
    "정리해야 할 데이터가 너무 많아 처음 패턴을 찾는건 어려울 수 있습니다. 그래서 간단한 방법만 제공합니다.\n",
    "\n",
    "## Explore a pattern\n",
    "\n",
    "**gender_submission.csv**의 샘플 제출 파일에서는 모든 여성 승객이 생존했으며 모든 남성 승객이 사망했다고 가정합니다.\n",
    "\n",
    "이게 합리적인 첫 번째 추측인가요? 데이터에서 이 패턴이 참인지 확인합니다(**train.csv**).\n",
    "\n",
    "아래 코드를 새 코드 셀에 복사하십시오. 그런 다음 셀을 실행합니다."
   ]
  },
  {
   "cell_type": "code",
   "execution_count": 4,
   "metadata": {
    "scrolled": true
   },
   "outputs": [
    {
     "name": "stdout",
     "output_type": "stream",
     "text": [
      "% of women who survived: 0.7420382165605095\n"
     ]
    }
   ],
   "source": [
    "women = train_data.loc[train_data.Sex == 'female'][\"Survived\"]\n",
    "rate_women = sum(women)/len(women)\n",
    "\n",
    "print(\"% of women who survived:\", rate_women)"
   ]
  },
  {
   "cell_type": "markdown",
   "metadata": {},
   "source": [
    "계속하기 전에 코드가 위의 출력을 반환하는지 확인하십시오. 위의 코드는 생존한 여성 승객(**train.csv**)의 비율을 계산합니다.\n",
    "\n",
    "그런 다음 다른 코드 셀에서 아래 코드를 실행합니다."
   ]
  },
  {
   "cell_type": "code",
   "execution_count": 5,
   "metadata": {},
   "outputs": [
    {
     "name": "stdout",
     "output_type": "stream",
     "text": [
      "% of men who survived: 0.18890814558058924\n"
     ]
    }
   ],
   "source": [
    "men = train_data.loc[train_data.Sex == 'male'][\"Survived\"]\n",
    "rate_men = sum(men)/len(men)\n",
    "\n",
    "print(\"% of men who survived:\", rate_men)"
   ]
  },
  {
   "cell_type": "markdown",
   "metadata": {},
   "source": [
    "위의 코드는 생존한 남성 승객(**train.csv**)의 비율을 계산합니다.\n",
    "\n",
    "이를 통해 탑승한 여성의 75%가 생존한 반면 남성은 19%만이 생존한 사실을 알 수 있습니다. 성별이 생존을 나타내는 매우 강력한 지표인 것 같으므로 **gender_submission.csv**의 제출 파일은 나쁘지 않아 보입니다.\n",
    "\n",
    "그러나 결국 이 성별 기반 제출은 하나의 열로만 예측합니다. 짐작할 수 있듯이, 여러 피쳐를 고려함으로써 우리는 잠재적으로 더 나은 정보를 사용해 보다 복잡한 패턴을 발견하여 예측값을 만들 수 있습니다. 여러 열을 동시에 고려하는 것은 매우 어렵기 때문에(또는 여러 열의 가능한 모든 패턴을 동시에 고려하는 데 오랜 시간이 걸릴 수 있음), 기계 학습을 사용하여 자동화할 것입니다.\n",
    "\n",
    "## Your first machine learning model\n",
    "\n",
    "**Random forest model**을 구축하겠습니다. 이 모델은 여러 개의 \"Decision Tree\"로 구성되어 있습니다(아래 그림에는 세 그루의 나무가 있지만, 100그루의 나무) 각 승객의 데이터를 개별적으로 고려하여 예측할 승객이 살아남았는지 여부를 투표할 것입니다. 그러면 랜덤 포레스트 모델이 민주적으로 최종 결정을 내립니다: 다수결로 가장 많은 표를 얻은 예측 결과로 최종 예측하게 됩니다!\n",
    "\n",
    "![](https://i.imgur.com/AC9Bq63.png)\n",
    "\n",
    "아래 코드 셀은 데이터의 서로 다른 열(**\"Pclass\"**, **\"Sex\"**, **\"SibSp\"** 및 **\"Parch\"**)에서 패턴을 찾습니다. **test.csv**에서 승객에 대한 예측을 생성하기 전에 **train.csv** 파일의 패턴을 기반으로 Random forest model를 학습합니다. 또한 이 코드는 이러한 새 예측을 **my_submission.csv** CSV 파일에 저장합니다.\n",
    "\n",
    "이 코드를 노트북에 복사하여 새 코드 셀에서 실행합니다."
   ]
  },
  {
   "cell_type": "code",
   "execution_count": 6,
   "metadata": {
    "_kg_hide-output": false
   },
   "outputs": [
    {
     "name": "stdout",
     "output_type": "stream",
     "text": [
      "Your submission was successfully saved!\n"
     ]
    }
   ],
   "source": [
    "from sklearn.ensemble import RandomForestClassifier\n",
    "\n",
    "y = train_data[\"Survived\"]\n",
    "\n",
    "features = [\"Pclass\", \"Sex\", \"SibSp\", \"Parch\"]\n",
    "X = pd.get_dummies(train_data[features])\n",
    "X_test = pd.get_dummies(test_data[features])\n",
    "\n",
    "model = RandomForestClassifier(n_estimators=100, max_depth=5, random_state=1)\n",
    "model.fit(X, y)\n",
    "predictions = model.predict(X_test)\n",
    "\n",
    "output = pd.DataFrame({'PassengerId': test_data.PassengerId, 'Survived': predictions})\n",
    "output.to_csv('my_submission.csv', index=False)\n",
    "print(\"Your submission was successfully saved!\")"
   ]
  },
  {
   "cell_type": "markdown",
   "metadata": {},
   "source": [
    "노트북에서 위와 동일한 메시지를 출력하는지 확인해주세요. (`Your submission was successfully saved!`)를 확인한 후 계속 진행하십시오.\n",
    "> 본 노트북은 현재로서는 예측을 생성하고 제출하는 방법을 중점적으로 살펴보고 있습니다. 이 코드와 예측성능이 떨어지더라도 걱정하지 마세요!\n",
    "\n",
    "준비가 되었으면 노트북 오른쪽 상단에 있는 **\"Save Version\"** 버튼을 클릭합니다. 그러면 팝업 창이 생성됩니다.\n",
    "- **\"Save and Run All\"** 옵션이 선택되었는지 확인한 다음 **\"Save\"** 버튼을 클릭합니다.\n",
    "- 노트북 왼쪽 하단에 창이 생성됩니다. 실행이 완료되면 **\"Save Version\"** 버튼 오른쪽에 있는 번호를 클릭합니다. 화면 오른쪽에 버전 목록이 표시됩니다. 최신 버전의 오른쪽에 있는 줄임표 **(...)** 를 클릭하고 **Open in Viewer**를 선택합니다.\n",
    "- 화면 오른쪽에 있는 **Output** 탭을 클릭합니다. 그런 다음 **\"Submit to Competition\"** 버튼을 클릭하여 결과를 제출합니다.\n",
    "\n",
    "![](https://i.imgur.com/7oIbXdh.png)\n",
    "\n",
    "Kaggle 대회에 처음으로 제출하신 것을 축하드립니다! 수고했어요."
   ]
  },
  {
   "cell_type": "markdown",
   "metadata": {},
   "source": [
    "# Part 4: Learn more!\n",
    "\n",
    "자세한 내용을 알고 싶으시다면 **[Intro to Machine Learning](https://www.kaggle.com/learn/intro-to-machine-learning)** 과정을 통해 본 코드에 대해 자세히 알아보시기 바랍니다. 또한 훨씬 더 나은 예측을 생성할 수 있는 충분한 정보를 얻을 수 있습니다."
   ]
  }
 ],
 "metadata": {
  "hide_input": false,
  "kernelspec": {
   "display_name": "Python 3",
   "language": "python",
   "name": "python3"
  },
  "language_info": {
   "codemirror_mode": {
    "name": "ipython",
    "version": 3
   },
   "file_extension": ".py",
   "mimetype": "text/x-python",
   "name": "python",
   "nbconvert_exporter": "python",
   "pygments_lexer": "ipython3",
   "version": "3.7.6"
  },
  "toc": {
   "base_numbering": 1,
   "nav_menu": {},
   "number_sections": true,
   "sideBar": true,
   "skip_h1_title": false,
   "title_cell": "Table of Contents",
   "title_sidebar": "Contents",
   "toc_cell": false,
   "toc_position": {},
   "toc_section_display": true,
   "toc_window_display": false
  },
  "varInspector": {
   "cols": {
    "lenName": 16,
    "lenType": 16,
    "lenVar": 40
   },
   "kernels_config": {
    "python": {
     "delete_cmd_postfix": "",
     "delete_cmd_prefix": "del ",
     "library": "var_list.py",
     "varRefreshCmd": "print(var_dic_list())"
    },
    "r": {
     "delete_cmd_postfix": ") ",
     "delete_cmd_prefix": "rm(",
     "library": "var_list.r",
     "varRefreshCmd": "cat(var_dic_list()) "
    }
   },
   "types_to_exclude": [
    "module",
    "function",
    "builtin_function_or_method",
    "instance",
    "_Feature"
   ],
   "window_display": false
  }
 },
 "nbformat": 4,
 "nbformat_minor": 4
}
