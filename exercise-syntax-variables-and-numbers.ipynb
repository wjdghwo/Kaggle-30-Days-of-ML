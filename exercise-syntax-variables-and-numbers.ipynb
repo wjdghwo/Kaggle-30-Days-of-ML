{
 "cells": [
  {
   "cell_type": "markdown",
   "id": "64313fe0",
   "metadata": {
    "papermill": {
     "duration": 0.023656,
     "end_time": "2021-08-06T07:04:03.290729",
     "exception": false,
     "start_time": "2021-08-06T07:04:03.267073",
     "status": "completed"
    },
    "tags": []
   },
   "source": [
    "**This notebook is an exercise in the [Python](https://www.kaggle.com/learn/python) course.  You can reference the tutorial at [this link](https://www.kaggle.com/colinmorris/hello-python).**\n",
    "\n",
    "---\n"
   ]
  },
  {
   "cell_type": "markdown",
   "id": "dd44e129",
   "metadata": {
    "papermill": {
     "duration": 0.022379,
     "end_time": "2021-08-06T07:04:03.336399",
     "exception": false,
     "start_time": "2021-08-06T07:04:03.314020",
     "status": "completed"
    },
    "tags": []
   },
   "source": [
    "Welcome to your first set of Python coding problems.  If this is your first time using Kaggle Notebooks, welcome! \n",
    "\n",
    "Notebooks are composed of blocks (called \"cells\") of text and code. Each of these is editable, though you'll mainly be editing the code cells to answer some questions.\n",
    "\n",
    "To get started, try running the code cell below (by pressing the ► button, or clicking on the cell and pressing ctrl+enter on your keyboard)."
   ]
  },
  {
   "cell_type": "code",
   "execution_count": 1,
   "id": "766eb4ac",
   "metadata": {
    "execution": {
     "iopub.execute_input": "2021-08-06T07:04:03.386048Z",
     "iopub.status.busy": "2021-08-06T07:04:03.384814Z",
     "iopub.status.idle": "2021-08-06T07:04:03.396572Z",
     "shell.execute_reply": "2021-08-06T07:04:03.397139Z",
     "shell.execute_reply.started": "2021-08-04T02:15:51.141683Z"
    },
    "papermill": {
     "duration": 0.038424,
     "end_time": "2021-08-06T07:04:03.397436",
     "exception": false,
     "start_time": "2021-08-06T07:04:03.359012",
     "status": "completed"
    },
    "tags": []
   },
   "outputs": [
    {
     "name": "stdout",
     "output_type": "stream",
     "text": [
      "You've successfully run some Python code\n",
      "Congratulations!\n",
      "안녕하세요\n"
     ]
    }
   ],
   "source": [
    "print(\"You've successfully run some Python code\")\n",
    "print(\"Congratulations!\")\n",
    "print(\"안녕하세요\")"
   ]
  },
  {
   "cell_type": "markdown",
   "id": "c7b443e0",
   "metadata": {
    "papermill": {
     "duration": 0.023243,
     "end_time": "2021-08-06T07:04:03.444173",
     "exception": false,
     "start_time": "2021-08-06T07:04:03.420930",
     "status": "completed"
    },
    "tags": []
   },
   "source": [
    "Try adding another line of code in the cell above and re-running it. \n",
    "\n",
    "Now let's get a little fancier:  Add a new code cell by clicking on an existing code cell, hitting the escape key, and then hitting the `a` or `b` key.  The `a` key will add a cell above the current cell, and `b` adds a cell below.\n",
    "\n",
    "Great! Now you know how to use Notebooks.\n",
    "\n",
    "Each hands-on exercise starts by setting up our feedback and code checking mechanism. Run the code cell below to do that. Then you'll be ready to move on to question 0."
   ]
  },
  {
   "cell_type": "code",
   "execution_count": 2,
   "id": "f58d079c",
   "metadata": {
    "_kg_hide-input": true,
    "_kg_hide-output": true,
    "execution": {
     "iopub.execute_input": "2021-08-06T07:04:03.494210Z",
     "iopub.status.busy": "2021-08-06T07:04:03.493504Z",
     "iopub.status.idle": "2021-08-06T07:04:03.630560Z",
     "shell.execute_reply": "2021-08-06T07:04:03.630007Z",
     "shell.execute_reply.started": "2021-08-04T02:15:51.150756Z"
    },
    "papermill": {
     "duration": 0.163104,
     "end_time": "2021-08-06T07:04:03.630719",
     "exception": false,
     "start_time": "2021-08-06T07:04:03.467615",
     "status": "completed"
    },
    "tags": []
   },
   "outputs": [
    {
     "name": "stdout",
     "output_type": "stream",
     "text": [
      "Setup complete! You're ready to start question 0.\n"
     ]
    }
   ],
   "source": [
    "from learntools.core import binder; binder.bind(globals())\n",
    "from learntools.python.ex1 import *\n",
    "print(\"Setup complete! You're ready to start question 0.\")"
   ]
  },
  {
   "cell_type": "markdown",
   "id": "1c14feba",
   "metadata": {
    "papermill": {
     "duration": 0.022888,
     "end_time": "2021-08-06T07:04:03.676934",
     "exception": false,
     "start_time": "2021-08-06T07:04:03.654046",
     "status": "completed"
    },
    "tags": []
   },
   "source": [
    "# 0.\n",
    "\n",
    "*This is a silly question intended as an introduction to the format we use for hands-on exercises throughout all Kaggle courses.*\n",
    "\n",
    "**What is your favorite color? **\n",
    "\n",
    "To complete this question, create a variable called `color` in the cell below with an appropriate value. The function call `q0.check()` (which we've already provided in the cell below) will check your answer."
   ]
  },
  {
   "cell_type": "code",
   "execution_count": 3,
   "id": "431aa9e6",
   "metadata": {
    "execution": {
     "iopub.execute_input": "2021-08-06T07:04:03.731237Z",
     "iopub.status.busy": "2021-08-06T07:04:03.730559Z",
     "iopub.status.idle": "2021-08-06T07:04:03.737252Z",
     "shell.execute_reply": "2021-08-06T07:04:03.736639Z",
     "shell.execute_reply.started": "2021-08-04T02:15:51.167059Z"
    },
    "papermill": {
     "duration": 0.037231,
     "end_time": "2021-08-06T07:04:03.737388",
     "exception": false,
     "start_time": "2021-08-06T07:04:03.700157",
     "status": "completed"
    },
    "tags": []
   },
   "outputs": [
    {
     "data": {
      "application/javascript": [
       "parent.postMessage({\"jupyterEvent\": \"custom.exercise_interaction\", \"data\": {\"outcomeType\": 1, \"valueTowardsCompletion\": 0.25, \"interactionType\": 1, \"questionType\": 2, \"questionId\": \"0_ExerciseFormatTutorial\", \"learnToolsVersion\": \"0.3.4\", \"failureMessage\": \"\", \"exceptionClass\": \"\", \"trace\": \"\"}}, \"*\")"
      ],
      "text/plain": [
       "<IPython.core.display.Javascript object>"
      ]
     },
     "metadata": {},
     "output_type": "display_data"
    },
    {
     "data": {
      "text/markdown": [
       "<span style=\"color:#33cc33\">Correct:</span> What?! You got it right without needing a hint or anything? Drats. Well hey, you should still continue to the next step to get some practice asking for a hint and checking solutions. (Even though you obviously don't need any help here.)"
      ],
      "text/plain": [
       "Correct: What?! You got it right without needing a hint or anything? Drats. Well hey, you should still continue to the next step to get some practice asking for a hint and checking solutions. (Even though you obviously don't need any help here.)"
      ]
     },
     "metadata": {},
     "output_type": "display_data"
    }
   ],
   "source": [
    "# create a variable called color with an appropriate value on the line below\n",
    "# (Remember, strings in Python must be enclosed in 'single' or \"double\" quotes)\n",
    "____\n",
    "color = \"blue\"\n",
    "# Check your answer\n",
    "q0.check()"
   ]
  },
  {
   "cell_type": "markdown",
   "id": "b564ced3",
   "metadata": {
    "papermill": {
     "duration": 0.024079,
     "end_time": "2021-08-06T07:04:03.787061",
     "exception": false,
     "start_time": "2021-08-06T07:04:03.762982",
     "status": "completed"
    },
    "tags": []
   },
   "source": [
    "Didn't get the right answer? How do you not even know your own favorite color?!\n",
    "\n",
    "Delete the `#` in the line below to make one of the lines run. You can choose between getting a hint or the full answer by choosing which line to remove the `#` from. \n",
    "\n",
    "Removing the `#` is called uncommenting, because it changes that line from a \"comment\" which Python doesn't run to code, which Python does run."
   ]
  },
  {
   "cell_type": "code",
   "execution_count": 4,
   "id": "5917a841",
   "metadata": {
    "execution": {
     "iopub.execute_input": "2021-08-06T07:04:03.842347Z",
     "iopub.status.busy": "2021-08-06T07:04:03.841607Z",
     "iopub.status.idle": "2021-08-06T07:04:03.845859Z",
     "shell.execute_reply": "2021-08-06T07:04:03.846345Z",
     "shell.execute_reply.started": "2021-08-04T02:15:51.193089Z"
    },
    "papermill": {
     "duration": 0.034047,
     "end_time": "2021-08-06T07:04:03.846532",
     "exception": false,
     "start_time": "2021-08-06T07:04:03.812485",
     "status": "completed"
    },
    "tags": []
   },
   "outputs": [
    {
     "data": {
      "application/javascript": [
       "parent.postMessage({\"jupyterEvent\": \"custom.exercise_interaction\", \"data\": {\"interactionType\": 2, \"questionType\": 2, \"questionId\": \"0_ExerciseFormatTutorial\", \"learnToolsVersion\": \"0.3.4\", \"valueTowardsCompletion\": 0.0, \"failureMessage\": \"\", \"exceptionClass\": \"\", \"trace\": \"\", \"outcomeType\": 4}}, \"*\")"
      ],
      "text/plain": [
       "<IPython.core.display.Javascript object>"
      ]
     },
     "metadata": {},
     "output_type": "display_data"
    },
    {
     "data": {
      "text/markdown": [
       "<span style=\"color:#3366cc\">Hint:</span> Your favorite color rhymes with *glue*."
      ],
      "text/plain": [
       "Hint: Your favorite color rhymes with *glue*."
      ]
     },
     "metadata": {},
     "output_type": "display_data"
    }
   ],
   "source": [
    "q0.hint()"
   ]
  },
  {
   "cell_type": "code",
   "execution_count": 5,
   "id": "1878334d",
   "metadata": {
    "execution": {
     "iopub.execute_input": "2021-08-06T07:04:03.900325Z",
     "iopub.status.busy": "2021-08-06T07:04:03.899705Z",
     "iopub.status.idle": "2021-08-06T07:04:03.906013Z",
     "shell.execute_reply": "2021-08-06T07:04:03.906524Z",
     "shell.execute_reply.started": "2021-08-04T02:15:51.205461Z"
    },
    "papermill": {
     "duration": 0.034762,
     "end_time": "2021-08-06T07:04:03.906718",
     "exception": false,
     "start_time": "2021-08-06T07:04:03.871956",
     "status": "completed"
    },
    "tags": []
   },
   "outputs": [
    {
     "data": {
      "application/javascript": [
       "parent.postMessage({\"jupyterEvent\": \"custom.exercise_interaction\", \"data\": {\"interactionType\": 3, \"questionType\": 2, \"questionId\": \"0_ExerciseFormatTutorial\", \"learnToolsVersion\": \"0.3.4\", \"valueTowardsCompletion\": 0.0, \"failureMessage\": \"\", \"exceptionClass\": \"\", \"trace\": \"\", \"outcomeType\": 4}}, \"*\")"
      ],
      "text/plain": [
       "<IPython.core.display.Javascript object>"
      ]
     },
     "metadata": {},
     "output_type": "display_data"
    },
    {
     "data": {
      "text/markdown": [
       "<span style=\"color:#33cc99\">Solution:</span> \n",
       "```python\n",
       "color = \"blue\"\n",
       "```"
      ],
      "text/plain": [
       "Solution: \n",
       "```python\n",
       "color = \"blue\"\n",
       "```"
      ]
     },
     "metadata": {},
     "output_type": "display_data"
    }
   ],
   "source": [
    "q0.solution()"
   ]
  },
  {
   "cell_type": "markdown",
   "id": "9cccf3f6",
   "metadata": {
    "papermill": {
     "duration": 0.026315,
     "end_time": "2021-08-06T07:04:03.959363",
     "exception": false,
     "start_time": "2021-08-06T07:04:03.933048",
     "status": "completed"
    },
    "tags": []
   },
   "source": [
    "The upcoming questions work the same way. The only thing that will change are the question numbers. For the next question, you'll call `q1.check()`, `q1.hint()`, `q1.solution()`, for question 2, you'll call `q2.check()`, and so on."
   ]
  },
  {
   "cell_type": "markdown",
   "id": "ae3a6689",
   "metadata": {
    "papermill": {
     "duration": 0.032065,
     "end_time": "2021-08-06T07:04:04.021455",
     "exception": false,
     "start_time": "2021-08-06T07:04:03.989390",
     "status": "completed"
    },
    "tags": []
   },
   "source": [
    "<hr/>\n",
    "\n",
    "# 1.\n",
    "\n",
    "Complete the code below. In case it's helpful, here is the table of available arithmetic operations:\n",
    "\n",
    "\n",
    "\n",
    "| Operator     | Name           | Description                                            |\n",
    "|--------------|----------------|--------------------------------------------------------|\n",
    "| ``a + b``    | Addition       | Sum of ``a`` and ``b``                                 |\n",
    "| ``a - b``    | Subtraction    | Difference of ``a`` and ``b``                          |\n",
    "| ``a * b``    | Multiplication | Product of ``a`` and ``b``                             |\n",
    "| ``a / b``    | True division  | Quotient of ``a`` and ``b``                            |\n",
    "| ``a // b``   | Floor division | Quotient of ``a`` and ``b``, removing fractional parts |\n",
    "| ``a % b``    | Modulus        | Integer remainder after division of ``a`` by ``b``     |\n",
    "| ``a ** b``   | Exponentiation | ``a`` raised to the power of ``b``                     |\n",
    "| ``-a``       | Negation       | The negative of ``a``                                  |\n",
    "\n",
    "<span style=\"display:none\"></span>\n"
   ]
  },
  {
   "cell_type": "code",
   "execution_count": 6,
   "id": "604196fb",
   "metadata": {
    "execution": {
     "iopub.execute_input": "2021-08-06T07:04:04.093204Z",
     "iopub.status.busy": "2021-08-06T07:04:04.092519Z",
     "iopub.status.idle": "2021-08-06T07:04:04.099814Z",
     "shell.execute_reply": "2021-08-06T07:04:04.100293Z",
     "shell.execute_reply.started": "2021-08-04T02:15:51.2167Z"
    },
    "papermill": {
     "duration": 0.043433,
     "end_time": "2021-08-06T07:04:04.100454",
     "exception": false,
     "start_time": "2021-08-06T07:04:04.057021",
     "status": "completed"
    },
    "tags": []
   },
   "outputs": [
    {
     "data": {
      "application/javascript": [
       "parent.postMessage({\"jupyterEvent\": \"custom.exercise_interaction\", \"data\": {\"outcomeType\": 1, \"valueTowardsCompletion\": 0.25, \"interactionType\": 1, \"questionType\": 1, \"questionId\": \"1_CircleArea\", \"learnToolsVersion\": \"0.3.4\", \"failureMessage\": \"\", \"exceptionClass\": \"\", \"trace\": \"\"}}, \"*\")"
      ],
      "text/plain": [
       "<IPython.core.display.Javascript object>"
      ]
     },
     "metadata": {},
     "output_type": "display_data"
    },
    {
     "data": {
      "text/markdown": [
       "<span style=\"color:#33cc33\">Correct</span>"
      ],
      "text/plain": [
       "Correct"
      ]
     },
     "metadata": {},
     "output_type": "display_data"
    }
   ],
   "source": [
    "pi = 3.14159 # approximate\n",
    "diameter = 3\n",
    "\n",
    "# Create a variable called 'radius' equal to half the diameter\n",
    "radius = diameter / 2\n",
    "____\n",
    "\n",
    "# Create a variable called 'area', using the formula for the area of a circle: pi times the radius squared\n",
    "area = pi * (radius ** 2)\n",
    "____\n",
    "\n",
    "# Check your answer\n",
    "q1.check()"
   ]
  },
  {
   "cell_type": "code",
   "execution_count": 7,
   "id": "ada3cb6f",
   "metadata": {
    "execution": {
     "iopub.execute_input": "2021-08-06T07:04:04.159997Z",
     "iopub.status.busy": "2021-08-06T07:04:04.159314Z",
     "iopub.status.idle": "2021-08-06T07:04:04.166622Z",
     "shell.execute_reply": "2021-08-06T07:04:04.165960Z",
     "shell.execute_reply.started": "2021-08-04T02:15:51.228773Z"
    },
    "papermill": {
     "duration": 0.037609,
     "end_time": "2021-08-06T07:04:04.166765",
     "exception": false,
     "start_time": "2021-08-06T07:04:04.129156",
     "status": "completed"
    },
    "tags": []
   },
   "outputs": [
    {
     "data": {
      "application/javascript": [
       "parent.postMessage({\"jupyterEvent\": \"custom.exercise_interaction\", \"data\": {\"interactionType\": 2, \"questionType\": 1, \"questionId\": \"1_CircleArea\", \"learnToolsVersion\": \"0.3.4\", \"valueTowardsCompletion\": 0.0, \"failureMessage\": \"\", \"exceptionClass\": \"\", \"trace\": \"\", \"outcomeType\": 4}}, \"*\")"
      ],
      "text/plain": [
       "<IPython.core.display.Javascript object>"
      ]
     },
     "metadata": {},
     "output_type": "display_data"
    },
    {
     "data": {
      "text/markdown": [
       "<span style=\"color:#3366cc\">Hint:</span> The syntax to raise a to the b'th power is `a ** b`"
      ],
      "text/plain": [
       "Hint: The syntax to raise a to the b'th power is `a ** b`"
      ]
     },
     "metadata": {},
     "output_type": "display_data"
    }
   ],
   "source": [
    "# Uncomment and run the lines below if you need help.\n",
    "\n",
    "q1.hint()"
   ]
  },
  {
   "cell_type": "code",
   "execution_count": 8,
   "id": "ef600a09",
   "metadata": {
    "execution": {
     "iopub.execute_input": "2021-08-06T07:04:04.227451Z",
     "iopub.status.busy": "2021-08-06T07:04:04.226831Z",
     "iopub.status.idle": "2021-08-06T07:04:04.234485Z",
     "shell.execute_reply": "2021-08-06T07:04:04.233997Z",
     "shell.execute_reply.started": "2021-08-04T02:15:51.239969Z"
    },
    "papermill": {
     "duration": 0.039257,
     "end_time": "2021-08-06T07:04:04.234640",
     "exception": false,
     "start_time": "2021-08-06T07:04:04.195383",
     "status": "completed"
    },
    "tags": []
   },
   "outputs": [
    {
     "data": {
      "application/javascript": [
       "parent.postMessage({\"jupyterEvent\": \"custom.exercise_interaction\", \"data\": {\"interactionType\": 3, \"questionType\": 1, \"questionId\": \"1_CircleArea\", \"learnToolsVersion\": \"0.3.4\", \"valueTowardsCompletion\": 0.0, \"failureMessage\": \"\", \"exceptionClass\": \"\", \"trace\": \"\", \"outcomeType\": 4}}, \"*\")"
      ],
      "text/plain": [
       "<IPython.core.display.Javascript object>"
      ]
     },
     "metadata": {},
     "output_type": "display_data"
    },
    {
     "data": {
      "text/markdown": [
       "<span style=\"color:#33cc99\">Solution:</span> \n",
       "```python\n",
       "radius = diameter / 2\n",
       "area = pi * radius ** 2\n",
       "```"
      ],
      "text/plain": [
       "Solution: \n",
       "```python\n",
       "radius = diameter / 2\n",
       "area = pi * radius ** 2\n",
       "```"
      ]
     },
     "metadata": {},
     "output_type": "display_data"
    }
   ],
   "source": [
    "q1.solution()"
   ]
  },
  {
   "cell_type": "markdown",
   "id": "a9f1454b",
   "metadata": {
    "papermill": {
     "duration": 0.028932,
     "end_time": "2021-08-06T07:04:04.292864",
     "exception": false,
     "start_time": "2021-08-06T07:04:04.263932",
     "status": "completed"
    },
    "tags": []
   },
   "source": [
    "<hr/>\n",
    "\n",
    "# 2.\n",
    "\n",
    "Add code to the following cell to swap variables `a` and `b` (so that `a` refers to the object previously referred to by `b` and vice versa)."
   ]
  },
  {
   "cell_type": "code",
   "execution_count": 9,
   "id": "d15dface",
   "metadata": {
    "execution": {
     "iopub.execute_input": "2021-08-06T07:04:04.357924Z",
     "iopub.status.busy": "2021-08-06T07:04:04.357192Z",
     "iopub.status.idle": "2021-08-06T07:04:04.363157Z",
     "shell.execute_reply": "2021-08-06T07:04:04.362632Z",
     "shell.execute_reply.started": "2021-08-04T02:15:51.253745Z"
    },
    "papermill": {
     "duration": 0.04123,
     "end_time": "2021-08-06T07:04:04.363301",
     "exception": false,
     "start_time": "2021-08-06T07:04:04.322071",
     "status": "completed"
    },
    "tags": []
   },
   "outputs": [
    {
     "data": {
      "application/javascript": [
       "parent.postMessage({\"jupyterEvent\": \"custom.exercise_interaction\", \"data\": {\"outcomeType\": 1, \"valueTowardsCompletion\": 0.25, \"interactionType\": 1, \"questionType\": 2, \"questionId\": \"2_VariableSwap\", \"learnToolsVersion\": \"0.3.4\", \"failureMessage\": \"\", \"exceptionClass\": \"\", \"trace\": \"\"}}, \"*\")"
      ],
      "text/plain": [
       "<IPython.core.display.Javascript object>"
      ]
     },
     "metadata": {},
     "output_type": "display_data"
    },
    {
     "data": {
      "text/markdown": [
       "<span style=\"color:#33cc33\">Correct:</span> \n",
       "\n",
       "The most straightforward solution is to use a third variable to temporarily store one of the old values. e.g.:\n",
       "\n",
       "    tmp = a\n",
       "    a = b\n",
       "    b = tmp\n",
       "\n",
       "If you've read lots of Python code, you might have seen the following trick to swap two variables in one line:\n",
       "\n",
       "    a, b = b, a\n",
       "\n",
       "We'll demystify this bit of Python magic later when we talk about *tuples*."
      ],
      "text/plain": [
       "Correct: \n",
       "\n",
       "The most straightforward solution is to use a third variable to temporarily store one of the old values. e.g.:\n",
       "\n",
       "    tmp = a\n",
       "    a = b\n",
       "    b = tmp\n",
       "\n",
       "If you've read lots of Python code, you might have seen the following trick to swap two variables in one line:\n",
       "\n",
       "    a, b = b, a\n",
       "\n",
       "We'll demystify this bit of Python magic later when we talk about *tuples*."
      ]
     },
     "metadata": {},
     "output_type": "display_data"
    }
   ],
   "source": [
    "########### Setup code - don't touch this part ######################\n",
    "# If you're curious, these are examples of lists. We'll talk about \n",
    "# them in depth a few lessons from now. For now, just know that they're\n",
    "# yet another type of Python object, like int or float.\n",
    "a = [1, 2, 3]\n",
    "b = [3, 2, 1]\n",
    "q2.store_original_ids()\n",
    "######################################################################\n",
    "\n",
    "# Your code goes here. Swap the values to which a and b refer.\n",
    "# If you get stuck, you can always uncomment one or both of the lines in\n",
    "# the next cell for a hint, or to peek at the solution.\n",
    "temp = [a,b]\n",
    "a = temp[1]\n",
    "b = temp[0]\n",
    "######################################################################\n",
    "\n",
    "# Check your answer\n",
    "q2.check()"
   ]
  },
  {
   "cell_type": "code",
   "execution_count": 10,
   "id": "52fbdb6a",
   "metadata": {
    "execution": {
     "iopub.execute_input": "2021-08-06T07:04:04.428908Z",
     "iopub.status.busy": "2021-08-06T07:04:04.428226Z",
     "iopub.status.idle": "2021-08-06T07:04:04.433362Z",
     "shell.execute_reply": "2021-08-06T07:04:04.432849Z",
     "shell.execute_reply.started": "2021-08-04T02:15:51.267515Z"
    },
    "papermill": {
     "duration": 0.039943,
     "end_time": "2021-08-06T07:04:04.433492",
     "exception": false,
     "start_time": "2021-08-06T07:04:04.393549",
     "status": "completed"
    },
    "tags": []
   },
   "outputs": [
    {
     "data": {
      "application/javascript": [
       "parent.postMessage({\"jupyterEvent\": \"custom.exercise_interaction\", \"data\": {\"interactionType\": 2, \"questionType\": 2, \"questionId\": \"2_VariableSwap\", \"learnToolsVersion\": \"0.3.4\", \"valueTowardsCompletion\": 0.0, \"failureMessage\": \"\", \"exceptionClass\": \"\", \"trace\": \"\", \"outcomeType\": 4}}, \"*\")"
      ],
      "text/plain": [
       "<IPython.core.display.Javascript object>"
      ]
     },
     "metadata": {},
     "output_type": "display_data"
    },
    {
     "data": {
      "text/markdown": [
       "<span style=\"color:#3366cc\">Hint:</span> Try using a third variable."
      ],
      "text/plain": [
       "Hint: Try using a third variable."
      ]
     },
     "metadata": {},
     "output_type": "display_data"
    }
   ],
   "source": [
    "q2.hint()"
   ]
  },
  {
   "cell_type": "code",
   "execution_count": 11,
   "id": "64f85eae",
   "metadata": {
    "execution": {
     "iopub.execute_input": "2021-08-06T07:04:04.501114Z",
     "iopub.status.busy": "2021-08-06T07:04:04.500378Z",
     "iopub.status.idle": "2021-08-06T07:04:04.505663Z",
     "shell.execute_reply": "2021-08-06T07:04:04.506215Z",
     "shell.execute_reply.started": "2021-08-04T02:15:51.288363Z"
    },
    "papermill": {
     "duration": 0.041786,
     "end_time": "2021-08-06T07:04:04.506400",
     "exception": false,
     "start_time": "2021-08-06T07:04:04.464614",
     "status": "completed"
    },
    "tags": []
   },
   "outputs": [
    {
     "data": {
      "application/javascript": [
       "parent.postMessage({\"jupyterEvent\": \"custom.exercise_interaction\", \"data\": {\"interactionType\": 3, \"questionType\": 2, \"questionId\": \"2_VariableSwap\", \"learnToolsVersion\": \"0.3.4\", \"valueTowardsCompletion\": 0.0, \"failureMessage\": \"\", \"exceptionClass\": \"\", \"trace\": \"\", \"outcomeType\": 4}}, \"*\")"
      ],
      "text/plain": [
       "<IPython.core.display.Javascript object>"
      ]
     },
     "metadata": {},
     "output_type": "display_data"
    },
    {
     "data": {
      "text/markdown": [
       "<span style=\"color:#33cc99\">Solution:</span> The most straightforward solution is to use a third variable to temporarily store one of the old values. e.g.:\n",
       "\n",
       "    tmp = a\n",
       "    a = b\n",
       "    b = tmp\n",
       "\n",
       "If you've read lots of Python code, you might have seen the following trick to swap two variables in one line:\n",
       "\n",
       "    a, b = b, a\n",
       "\n",
       "We'll demystify this bit of Python magic later when we talk about *tuples*."
      ],
      "text/plain": [
       "Solution: The most straightforward solution is to use a third variable to temporarily store one of the old values. e.g.:\n",
       "\n",
       "    tmp = a\n",
       "    a = b\n",
       "    b = tmp\n",
       "\n",
       "If you've read lots of Python code, you might have seen the following trick to swap two variables in one line:\n",
       "\n",
       "    a, b = b, a\n",
       "\n",
       "We'll demystify this bit of Python magic later when we talk about *tuples*."
      ]
     },
     "metadata": {},
     "output_type": "display_data"
    }
   ],
   "source": [
    "q2.solution()"
   ]
  },
  {
   "cell_type": "markdown",
   "id": "4b3f282d",
   "metadata": {
    "papermill": {
     "duration": 0.032779,
     "end_time": "2021-08-06T07:04:04.571853",
     "exception": false,
     "start_time": "2021-08-06T07:04:04.539074",
     "status": "completed"
    },
    "tags": []
   },
   "source": [
    "<hr/>\n",
    "\n",
    "# 3a.\n",
    "\n",
    "Add parentheses to the following expression so that it evaluates to 1."
   ]
  },
  {
   "cell_type": "code",
   "execution_count": 12,
   "id": "6e4dab43",
   "metadata": {
    "execution": {
     "iopub.execute_input": "2021-08-06T07:04:04.638889Z",
     "iopub.status.busy": "2021-08-06T07:04:04.638249Z",
     "iopub.status.idle": "2021-08-06T07:04:04.643086Z",
     "shell.execute_reply": "2021-08-06T07:04:04.643567Z",
     "shell.execute_reply.started": "2021-08-04T02:15:51.298327Z"
    },
    "papermill": {
     "duration": 0.039878,
     "end_time": "2021-08-06T07:04:04.643778",
     "exception": false,
     "start_time": "2021-08-06T07:04:04.603900",
     "status": "completed"
    },
    "tags": []
   },
   "outputs": [
    {
     "data": {
      "text/plain": [
       "1"
      ]
     },
     "execution_count": 12,
     "metadata": {},
     "output_type": "execute_result"
    }
   ],
   "source": [
    "(5 - 3) // 2"
   ]
  },
  {
   "cell_type": "code",
   "execution_count": 13,
   "id": "2ade07fd",
   "metadata": {
    "execution": {
     "iopub.execute_input": "2021-08-06T07:04:04.713240Z",
     "iopub.status.busy": "2021-08-06T07:04:04.712551Z",
     "iopub.status.idle": "2021-08-06T07:04:04.718760Z",
     "shell.execute_reply": "2021-08-06T07:04:04.719257Z",
     "shell.execute_reply.started": "2021-08-04T02:15:51.307622Z"
    },
    "papermill": {
     "duration": 0.042445,
     "end_time": "2021-08-06T07:04:04.719418",
     "exception": false,
     "start_time": "2021-08-06T07:04:04.676973",
     "status": "completed"
    },
    "tags": []
   },
   "outputs": [
    {
     "data": {
      "application/javascript": [
       "parent.postMessage({\"jupyterEvent\": \"custom.exercise_interaction\", \"data\": {\"interactionType\": 2, \"questionType\": 4, \"questionId\": \"3.1_ArithmeticParensEasy\", \"learnToolsVersion\": \"0.3.4\", \"valueTowardsCompletion\": 0.0, \"failureMessage\": \"\", \"exceptionClass\": \"\", \"trace\": \"\", \"outcomeType\": 4}}, \"*\")"
      ],
      "text/plain": [
       "<IPython.core.display.Javascript object>"
      ]
     },
     "metadata": {},
     "output_type": "display_data"
    },
    {
     "data": {
      "text/markdown": [
       "<span style=\"color:#3366cc\">Hint:</span> Following its default \"BEDMAS\"-like rules for order of operations, Python will first divide 3 by 2, then subtract the result from 5. You need to add parentheses to force it to perform the subtraction first."
      ],
      "text/plain": [
       "Hint: Following its default \"BEDMAS\"-like rules for order of operations, Python will first divide 3 by 2, then subtract the result from 5. You need to add parentheses to force it to perform the subtraction first."
      ]
     },
     "metadata": {},
     "output_type": "display_data"
    }
   ],
   "source": [
    "q3.a.hint()"
   ]
  },
  {
   "cell_type": "code",
   "execution_count": 14,
   "id": "a2ac45e0",
   "metadata": {
    "execution": {
     "iopub.execute_input": "2021-08-06T07:04:04.789550Z",
     "iopub.status.busy": "2021-08-06T07:04:04.788868Z",
     "iopub.status.idle": "2021-08-06T07:04:04.795762Z",
     "shell.execute_reply": "2021-08-06T07:04:04.795083Z",
     "shell.execute_reply.started": "2021-08-04T02:15:51.320691Z"
    },
    "papermill": {
     "duration": 0.042987,
     "end_time": "2021-08-06T07:04:04.795906",
     "exception": false,
     "start_time": "2021-08-06T07:04:04.752919",
     "status": "completed"
    },
    "tags": []
   },
   "outputs": [
    {
     "data": {
      "application/javascript": [
       "parent.postMessage({\"jupyterEvent\": \"custom.exercise_interaction\", \"data\": {\"interactionType\": 3, \"questionType\": 4, \"questionId\": \"3.1_ArithmeticParensEasy\", \"learnToolsVersion\": \"0.3.4\", \"valueTowardsCompletion\": 0.0, \"failureMessage\": \"\", \"exceptionClass\": \"\", \"trace\": \"\", \"outcomeType\": 4}}, \"*\")"
      ],
      "text/plain": [
       "<IPython.core.display.Javascript object>"
      ]
     },
     "metadata": {},
     "output_type": "display_data"
    },
    {
     "data": {
      "text/markdown": [
       "<span style=\"color:#33cc99\">Solution:</span> \n",
       "```python\n",
       "(5 - 3) // 2\n",
       "```"
      ],
      "text/plain": [
       "Solution: \n",
       "```python\n",
       "(5 - 3) // 2\n",
       "```"
      ]
     },
     "metadata": {},
     "output_type": "display_data"
    }
   ],
   "source": [
    "# Check your answer (Run this code cell to receive credit!)\n",
    "q3.a.solution()"
   ]
  },
  {
   "cell_type": "markdown",
   "id": "237c2694",
   "metadata": {
    "papermill": {
     "duration": 0.035069,
     "end_time": "2021-08-06T07:04:04.867395",
     "exception": false,
     "start_time": "2021-08-06T07:04:04.832326",
     "status": "completed"
    },
    "tags": []
   },
   "source": [
    "# 3b.  <span title=\"A bit spicy\" style=\"color: darkgreen \">🌶️</span>\n",
    "\n",
    "<small>Questions, like this one, marked a spicy pepper are a bit harder.</small>\n",
    "\n",
    "Add parentheses to the following expression so that it evaluates to 0."
   ]
  },
  {
   "cell_type": "code",
   "execution_count": 15,
   "id": "5e137ed0",
   "metadata": {
    "execution": {
     "iopub.execute_input": "2021-08-06T07:04:04.943031Z",
     "iopub.status.busy": "2021-08-06T07:04:04.942175Z",
     "iopub.status.idle": "2021-08-06T07:04:04.946537Z",
     "shell.execute_reply": "2021-08-06T07:04:04.945912Z",
     "shell.execute_reply.started": "2021-08-04T02:15:51.334809Z"
    },
    "papermill": {
     "duration": 0.044152,
     "end_time": "2021-08-06T07:04:04.946716",
     "exception": false,
     "start_time": "2021-08-06T07:04:04.902564",
     "status": "completed"
    },
    "tags": []
   },
   "outputs": [
    {
     "data": {
      "text/plain": [
       "0"
      ]
     },
     "execution_count": 15,
     "metadata": {},
     "output_type": "execute_result"
    }
   ],
   "source": [
    "(8 - 3) * (2 - (1 + 1))"
   ]
  },
  {
   "cell_type": "code",
   "execution_count": 16,
   "id": "bc80b3b9",
   "metadata": {
    "execution": {
     "iopub.execute_input": "2021-08-06T07:04:05.023424Z",
     "iopub.status.busy": "2021-08-06T07:04:05.022803Z",
     "iopub.status.idle": "2021-08-06T07:04:05.028551Z",
     "shell.execute_reply": "2021-08-06T07:04:05.027962Z",
     "shell.execute_reply.started": "2021-08-04T02:15:51.345163Z"
    },
    "papermill": {
     "duration": 0.045674,
     "end_time": "2021-08-06T07:04:05.028711",
     "exception": false,
     "start_time": "2021-08-06T07:04:04.983037",
     "status": "completed"
    },
    "tags": []
   },
   "outputs": [
    {
     "data": {
      "application/javascript": [
       "parent.postMessage({\"jupyterEvent\": \"custom.exercise_interaction\", \"data\": {\"interactionType\": 2, \"questionType\": 4, \"questionId\": \"3.2_ArithmeticParensHard\", \"learnToolsVersion\": \"0.3.4\", \"valueTowardsCompletion\": 0.0, \"failureMessage\": \"\", \"exceptionClass\": \"\", \"trace\": \"\", \"outcomeType\": 4}}, \"*\")"
      ],
      "text/plain": [
       "<IPython.core.display.Javascript object>"
      ]
     },
     "metadata": {},
     "output_type": "display_data"
    },
    {
     "data": {
      "text/markdown": [
       "<span style=\"color:#3366cc\">Hint:</span> You may need to use several pairs of parentheses."
      ],
      "text/plain": [
       "Hint: You may need to use several pairs of parentheses."
      ]
     },
     "metadata": {},
     "output_type": "display_data"
    }
   ],
   "source": [
    "q3.b.hint()"
   ]
  },
  {
   "cell_type": "code",
   "execution_count": 17,
   "id": "e8c77fa7",
   "metadata": {
    "execution": {
     "iopub.execute_input": "2021-08-06T07:04:05.106380Z",
     "iopub.status.busy": "2021-08-06T07:04:05.105726Z",
     "iopub.status.idle": "2021-08-06T07:04:05.111563Z",
     "shell.execute_reply": "2021-08-06T07:04:05.111042Z",
     "shell.execute_reply.started": "2021-08-04T02:15:51.357381Z"
    },
    "papermill": {
     "duration": 0.047065,
     "end_time": "2021-08-06T07:04:05.111728",
     "exception": false,
     "start_time": "2021-08-06T07:04:05.064663",
     "status": "completed"
    },
    "tags": []
   },
   "outputs": [
    {
     "data": {
      "application/javascript": [
       "parent.postMessage({\"jupyterEvent\": \"custom.exercise_interaction\", \"data\": {\"interactionType\": 3, \"questionType\": 4, \"questionId\": \"3.2_ArithmeticParensHard\", \"learnToolsVersion\": \"0.3.4\", \"valueTowardsCompletion\": 0.0, \"failureMessage\": \"\", \"exceptionClass\": \"\", \"trace\": \"\", \"outcomeType\": 4}}, \"*\")"
      ],
      "text/plain": [
       "<IPython.core.display.Javascript object>"
      ]
     },
     "metadata": {},
     "output_type": "display_data"
    },
    {
     "data": {
      "text/markdown": [
       "<span style=\"color:#33cc99\">Solution:</span> `(8 - 3) * (2 - (1 + 1))` is one solution. There may be others."
      ],
      "text/plain": [
       "Solution: `(8 - 3) * (2 - (1 + 1))` is one solution. There may be others."
      ]
     },
     "metadata": {},
     "output_type": "display_data"
    }
   ],
   "source": [
    "# Check your answer (Run this code cell to receive credit!)\n",
    "q3.b.solution()"
   ]
  },
  {
   "cell_type": "markdown",
   "id": "d4d388ea",
   "metadata": {
    "papermill": {
     "duration": 0.036124,
     "end_time": "2021-08-06T07:04:05.184377",
     "exception": false,
     "start_time": "2021-08-06T07:04:05.148253",
     "status": "completed"
    },
    "tags": []
   },
   "source": [
    "<hr/>\n",
    "\n",
    "# 4. \n",
    "Alice, Bob and Carol have agreed to pool their Halloween candy and split it evenly among themselves.\n",
    "For the sake of their friendship, any candies left over will be smashed. For example, if they collectively\n",
    "bring home 91 candies, they'll take 30 each and smash 1.\n",
    "\n",
    "Write an arithmetic expression below to calculate how many candies they must smash for a given haul."
   ]
  },
  {
   "cell_type": "code",
   "execution_count": 18,
   "id": "5aeaa4e4",
   "metadata": {
    "execution": {
     "iopub.execute_input": "2021-08-06T07:04:05.263524Z",
     "iopub.status.busy": "2021-08-06T07:04:05.262865Z",
     "iopub.status.idle": "2021-08-06T07:04:05.267079Z",
     "shell.execute_reply": "2021-08-06T07:04:05.267532Z",
     "shell.execute_reply.started": "2021-08-04T02:15:51.366598Z"
    },
    "papermill": {
     "duration": 0.046931,
     "end_time": "2021-08-06T07:04:05.267724",
     "exception": false,
     "start_time": "2021-08-06T07:04:05.220793",
     "status": "completed"
    },
    "tags": []
   },
   "outputs": [
    {
     "data": {
      "application/javascript": [
       "parent.postMessage({\"jupyterEvent\": \"custom.exercise_interaction\", \"data\": {\"outcomeType\": 1, \"valueTowardsCompletion\": 0.25, \"interactionType\": 1, \"questionType\": 1, \"questionId\": \"4_CandySplitting\", \"learnToolsVersion\": \"0.3.4\", \"failureMessage\": \"\", \"exceptionClass\": \"\", \"trace\": \"\"}}, \"*\")"
      ],
      "text/plain": [
       "<IPython.core.display.Javascript object>"
      ]
     },
     "metadata": {},
     "output_type": "display_data"
    },
    {
     "data": {
      "text/markdown": [
       "<span style=\"color:#33cc33\">Correct</span>"
      ],
      "text/plain": [
       "Correct"
      ]
     },
     "metadata": {},
     "output_type": "display_data"
    }
   ],
   "source": [
    "# Variables representing the number of candies collected by alice, bob, and carol\n",
    "alice_candies = 121\n",
    "bob_candies = 77\n",
    "carol_candies = 109\n",
    "\n",
    "# Your code goes here! Replace the right-hand side of this assignment with an expression\n",
    "# involving alice_candies, bob_candies, and carol_candies\n",
    "to_smash = (alice_candies+bob_candies+carol_candies) % 3\n",
    "\n",
    "# Check your answer\n",
    "q4.check()"
   ]
  },
  {
   "cell_type": "code",
   "execution_count": 19,
   "id": "dad728c6",
   "metadata": {
    "execution": {
     "iopub.execute_input": "2021-08-06T07:04:05.347493Z",
     "iopub.status.busy": "2021-08-06T07:04:05.346836Z",
     "iopub.status.idle": "2021-08-06T07:04:05.352626Z",
     "shell.execute_reply": "2021-08-06T07:04:05.353101Z",
     "shell.execute_reply.started": "2021-08-04T02:15:51.378245Z"
    },
    "papermill": {
     "duration": 0.047186,
     "end_time": "2021-08-06T07:04:05.353274",
     "exception": false,
     "start_time": "2021-08-06T07:04:05.306088",
     "status": "completed"
    },
    "tags": []
   },
   "outputs": [
    {
     "data": {
      "application/javascript": [
       "parent.postMessage({\"jupyterEvent\": \"custom.exercise_interaction\", \"data\": {\"interactionType\": 2, \"questionType\": 1, \"questionId\": \"4_CandySplitting\", \"learnToolsVersion\": \"0.3.4\", \"valueTowardsCompletion\": 0.0, \"failureMessage\": \"\", \"exceptionClass\": \"\", \"trace\": \"\", \"outcomeType\": 4}}, \"*\")"
      ],
      "text/plain": [
       "<IPython.core.display.Javascript object>"
      ]
     },
     "metadata": {},
     "output_type": "display_data"
    },
    {
     "data": {
      "text/markdown": [
       "<span style=\"color:#3366cc\">Hint 1:</span> You'll probably want to use the modulo operator, `%`.\n",
       "(For another hint, call `.hint(2)`)"
      ],
      "text/plain": [
       "Hint 1: You'll probably want to use the modulo operator, `%`.\n",
       "(For another hint, call `.hint(2)`)"
      ]
     },
     "metadata": {},
     "output_type": "display_data"
    }
   ],
   "source": [
    "q4.hint()"
   ]
  },
  {
   "cell_type": "code",
   "execution_count": 20,
   "id": "cd760d52",
   "metadata": {
    "execution": {
     "iopub.execute_input": "2021-08-06T07:04:05.434322Z",
     "iopub.status.busy": "2021-08-06T07:04:05.433636Z",
     "iopub.status.idle": "2021-08-06T07:04:05.442795Z",
     "shell.execute_reply": "2021-08-06T07:04:05.443293Z",
     "shell.execute_reply.started": "2021-08-04T02:15:51.390735Z"
    },
    "papermill": {
     "duration": 0.051366,
     "end_time": "2021-08-06T07:04:05.443463",
     "exception": false,
     "start_time": "2021-08-06T07:04:05.392097",
     "status": "completed"
    },
    "tags": []
   },
   "outputs": [
    {
     "data": {
      "application/javascript": [
       "parent.postMessage({\"jupyterEvent\": \"custom.exercise_interaction\", \"data\": {\"interactionType\": 3, \"questionType\": 1, \"questionId\": \"4_CandySplitting\", \"learnToolsVersion\": \"0.3.4\", \"valueTowardsCompletion\": 0.0, \"failureMessage\": \"\", \"exceptionClass\": \"\", \"trace\": \"\", \"outcomeType\": 4}}, \"*\")"
      ],
      "text/plain": [
       "<IPython.core.display.Javascript object>"
      ]
     },
     "metadata": {},
     "output_type": "display_data"
    },
    {
     "data": {
      "text/markdown": [
       "<span style=\"color:#33cc99\">Solution:</span> \n",
       "```python\n",
       "(alice_candies + bob_candies + carol_candies) % 3\n",
       "```"
      ],
      "text/plain": [
       "Solution: \n",
       "```python\n",
       "(alice_candies + bob_candies + carol_candies) % 3\n",
       "```"
      ]
     },
     "metadata": {},
     "output_type": "display_data"
    }
   ],
   "source": [
    "q4.solution()"
   ]
  },
  {
   "cell_type": "markdown",
   "id": "5dcce24e",
   "metadata": {
    "papermill": {
     "duration": 0.040537,
     "end_time": "2021-08-06T07:04:05.524440",
     "exception": false,
     "start_time": "2021-08-06T07:04:05.483903",
     "status": "completed"
    },
    "tags": []
   },
   "source": [
    "# Keep Going\n",
    "\n",
    "Next up, you'll **[learn to write new functions and understand functions others write](https://www.kaggle.com/colinmorris/functions-and-getting-help)**. This will make you at least 10 times more productive as a Python programmer. "
   ]
  },
  {
   "cell_type": "markdown",
   "id": "2f9bb2c5",
   "metadata": {
    "papermill": {
     "duration": 0.039407,
     "end_time": "2021-08-06T07:04:05.603608",
     "exception": false,
     "start_time": "2021-08-06T07:04:05.564201",
     "status": "completed"
    },
    "tags": []
   },
   "source": [
    "---\n",
    "\n",
    "\n",
    "\n",
    "\n",
    "*Have questions or comments? Visit the [Learn Discussion forum](https://www.kaggle.com/learn-forum/161283) to chat with other Learners.*"
   ]
  }
 ],
 "metadata": {
  "kernelspec": {
   "display_name": "Python 3",
   "language": "python",
   "name": "python3"
  },
  "language_info": {
   "codemirror_mode": {
    "name": "ipython",
    "version": 3
   },
   "file_extension": ".py",
   "mimetype": "text/x-python",
   "name": "python",
   "nbconvert_exporter": "python",
   "pygments_lexer": "ipython3",
   "version": "3.7.10"
  },
  "papermill": {
   "default_parameters": {},
   "duration": 11.834585,
   "end_time": "2021-08-06T07:04:06.971131",
   "environment_variables": {},
   "exception": null,
   "input_path": "__notebook__.ipynb",
   "output_path": "__notebook__.ipynb",
   "parameters": {},
   "start_time": "2021-08-06T07:03:55.136546",
   "version": "2.3.3"
  }
 },
 "nbformat": 4,
 "nbformat_minor": 5
}
